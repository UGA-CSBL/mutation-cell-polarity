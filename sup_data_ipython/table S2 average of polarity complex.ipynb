{
 "cells": [
  {
   "cell_type": "code",
   "execution_count": 1,
   "metadata": {},
   "outputs": [],
   "source": [
    "import pandas as pd\n",
    "import ast"
   ]
  },
  {
   "cell_type": "code",
   "execution_count": 2,
   "metadata": {},
   "outputs": [],
   "source": [
    "df = pd.read_csv(\"microindels-1.csv\")"
   ]
  },
  {
   "cell_type": "code",
   "execution_count": 3,
   "metadata": {},
   "outputs": [],
   "source": [
    "f = open(\"S2_d.txt\")\n",
    "raw = f.read()\n",
    "f.close()\n",
    "S2_d = ast.literal_eval(raw)"
   ]
  },
  {
   "cell_type": "code",
   "execution_count": 4,
   "metadata": {},
   "outputs": [],
   "source": [
    "tumors = list(set(df['Project']))\n",
    "tumors.sort()"
   ]
  },
  {
   "cell_type": "code",
   "execution_count": 5,
   "metadata": {},
   "outputs": [],
   "source": [
    "out_df = pd.DataFrame(columns = tumors,index = S2_d.keys())"
   ]
  },
  {
   "cell_type": "code",
   "execution_count": 31,
   "metadata": {},
   "outputs": [],
   "source": [
    "for gene_types in S2_d.keys():\n",
    "    for project in tumors:\n",
    "        sub_df = df.loc[df['Project'] == project].loc[df['Symbol'].isin(S2_d[gene_types])]\n",
    "        out_df.loc[gene_types,project] = round(sub_df.mean()['MutationNum'],2)"
   ]
  },
  {
   "cell_type": "code",
   "execution_count": 33,
   "metadata": {},
   "outputs": [],
   "source": [
    "out_df.to_csv(\"S2_raw.csv\")"
   ]
  },
  {
   "cell_type": "code",
   "execution_count": 7,
   "metadata": {},
   "outputs": [
    {
     "data": {
      "text/html": [
       "<div>\n",
       "<style scoped>\n",
       "    .dataframe tbody tr th:only-of-type {\n",
       "        vertical-align: middle;\n",
       "    }\n",
       "\n",
       "    .dataframe tbody tr th {\n",
       "        vertical-align: top;\n",
       "    }\n",
       "\n",
       "    .dataframe thead th {\n",
       "        text-align: right;\n",
       "    }\n",
       "</style>\n",
       "<table border=\"1\" class=\"dataframe\">\n",
       "  <thead>\n",
       "    <tr style=\"text-align: right;\">\n",
       "      <th></th>\n",
       "      <th>TCGA-BRCA</th>\n",
       "      <th>TCGA-COAD</th>\n",
       "      <th>TCGA-HNSC</th>\n",
       "      <th>TCGA-KIRC</th>\n",
       "      <th>TCGA-KIRP</th>\n",
       "      <th>TCGA-LIHC</th>\n",
       "      <th>TCGA-LUAD</th>\n",
       "      <th>TCGA-STAD</th>\n",
       "      <th>TCGA-THCA</th>\n",
       "    </tr>\n",
       "  </thead>\n",
       "  <tbody>\n",
       "  </tbody>\n",
       "</table>\n",
       "</div>"
      ],
      "text/plain": [
       "Empty DataFrame\n",
       "Columns: [TCGA-BRCA, TCGA-COAD, TCGA-HNSC, TCGA-KIRC, TCGA-KIRP, TCGA-LIHC, TCGA-LUAD, TCGA-STAD, TCGA-THCA]\n",
       "Index: []"
      ]
     },
     "execution_count": 7,
     "metadata": {},
     "output_type": "execute_result"
    }
   ],
   "source": [
    "out_df = pd.DataFrame(columns = tumors)\n",
    "out_df.head()"
   ]
  },
  {
   "cell_type": "code",
   "execution_count": 17,
   "metadata": {},
   "outputs": [
    {
     "name": "stdout",
     "output_type": "stream",
     "text": [
      "TCGA-BRCA\n",
      "92190\n",
      "TCGA-COAD\n",
      "202526\n",
      "TCGA-HNSC\n",
      "64914\n",
      "TCGA-KIRC\n",
      "20888\n",
      "TCGA-KIRP\n",
      "16654\n",
      "TCGA-LIHC\n",
      "39671\n",
      "TCGA-LUAD\n",
      "144748\n",
      "TCGA-STAD\n",
      "129334\n",
      "TCGA-THCA\n",
      "9037\n"
     ]
    }
   ],
   "source": [
    "for project in tumors:\n",
    "    print(project)\n",
    "    sub_df = df.loc[df['Project'] == project]\n",
    "    print(sum(sub_df['MutationNum']))"
   ]
  },
  {
   "cell_type": "code",
   "execution_count": 16,
   "metadata": {},
   "outputs": [
    {
     "data": {
      "text/plain": [
       "2.8666666666666667"
      ]
     },
     "execution_count": 16,
     "metadata": {},
     "output_type": "execute_result"
    }
   ],
   "source": [
    "4.3/1.5"
   ]
  },
  {
   "cell_type": "code",
   "execution_count": null,
   "metadata": {},
   "outputs": [],
   "source": []
  }
 ],
 "metadata": {
  "kernelspec": {
   "display_name": "Python 3",
   "language": "python",
   "name": "python3"
  },
  "language_info": {
   "codemirror_mode": {
    "name": "ipython",
    "version": 3
   },
   "file_extension": ".py",
   "mimetype": "text/x-python",
   "name": "python",
   "nbconvert_exporter": "python",
   "pygments_lexer": "ipython3",
   "version": "3.6.7"
  }
 },
 "nbformat": 4,
 "nbformat_minor": 2
}
