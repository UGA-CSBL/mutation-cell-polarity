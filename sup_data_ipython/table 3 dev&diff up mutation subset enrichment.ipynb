{
 "cells": [
  {
   "cell_type": "code",
   "execution_count": 1,
   "metadata": {},
   "outputs": [],
   "source": [
    "import pandas as pd\n",
    "import gseapy as gp\n",
    "\n",
    "import warnings\n",
    "warnings.filterwarnings('ignore')"
   ]
  },
  {
   "cell_type": "code",
   "execution_count": 3,
   "metadata": {},
   "outputs": [],
   "source": [
    "PATHWAYS = pd.read_csv(\"../old/development and differentiate.csv\",header = None)\n",
    "PATHWAYS = PATHWAYS[0].values"
   ]
  },
  {
   "cell_type": "code",
   "execution_count": 4,
   "metadata": {},
   "outputs": [
    {
     "data": {
      "text/plain": [
       "array(['GO_BONE_DEVELOPMENT', 'GO_CARDIAC_MUSCLE_TISSUE_DEVELOPMENT',\n",
       "       'GO_CHONDROCYTE_DEVELOPMENT', 'GO_EAR_DEVELOPMENT',\n",
       "       'GO_FOREBRAIN_DEVELOPMENT', 'GO_GLIAL_CELL_DEVELOPMENT',\n",
       "       'GO_HINDBRAIN_DEVELOPMENT', 'GO_MAMMARY_GLAND_DEVELOPMENT',\n",
       "       'GO_MESONEPHROS_DEVELOPMENT', 'GO_METANEPHROS_DEVELOPMENT',\n",
       "       'GO_METENCEPHALON_DEVELOPMENT', 'GO_NEPHRON_DEVELOPMENT',\n",
       "       'GO_NEURON_DEVELOPMENT', 'GO_REPRODUCTION',\n",
       "       'GO_CARDIOCYTE_DIFFERENTIATION', 'GO_CHONDROCYTE_DIFFERENTIATION',\n",
       "       'GO_GLIAL_CELL_DIFFERENTIATION', 'GO_NEURON_DIFFERENTIATION',\n",
       "       'GO_OLIGODENDROCYTE_DIFFERENTIATION', 'GO_OOCYTE_DIFFERENTIATION',\n",
       "       'GO_OSTEOBLAST_DIFFERENTIATION'], dtype=object)"
      ]
     },
     "execution_count": 4,
     "metadata": {},
     "output_type": "execute_result"
    }
   ],
   "source": [
    "PATHWAYS"
   ]
  },
  {
   "cell_type": "code",
   "execution_count": 5,
   "metadata": {},
   "outputs": [],
   "source": [
    "f = open(\"c2.all.v7.1.symbols.gmt\")\n",
    "raw = f.readlines()\n",
    "f.close()\n",
    "d = {}\n",
    "for i in raw:\n",
    "    name,li = i.split()[0],i.split()[2:]\n",
    "    d[name] = li\n",
    "f = open(\"c5.all.v7.1.symbols.gmt\")\n",
    "raw = f.readlines()\n",
    "f.close()\n",
    "for i in raw:\n",
    "    name,li = i.split()[0],i.split()[2:]\n",
    "    d[name] = li"
   ]
  },
  {
   "cell_type": "code",
   "execution_count": 7,
   "metadata": {},
   "outputs": [],
   "source": [
    "S1 = pd.read_csv(\"new_results/S20.csv\")\n",
    "S1 = S1.drop(\"Unnamed: 0\",1)"
   ]
  },
  {
   "cell_type": "code",
   "execution_count": 8,
   "metadata": {},
   "outputs": [
    {
     "data": {
      "text/html": [
       "<div>\n",
       "<style scoped>\n",
       "    .dataframe tbody tr th:only-of-type {\n",
       "        vertical-align: middle;\n",
       "    }\n",
       "\n",
       "    .dataframe tbody tr th {\n",
       "        vertical-align: top;\n",
       "    }\n",
       "\n",
       "    .dataframe thead th {\n",
       "        text-align: right;\n",
       "    }\n",
       "</style>\n",
       "<table border=\"1\" class=\"dataframe\">\n",
       "  <thead>\n",
       "    <tr style=\"text-align: right;\">\n",
       "      <th></th>\n",
       "      <th>TCGA-BRCA_Early</th>\n",
       "      <th>TCGA-BRCA_Late</th>\n",
       "      <th>TCGA-COAD_Early</th>\n",
       "      <th>TCGA-COAD_Late</th>\n",
       "      <th>TCGA-HNSC_Early</th>\n",
       "      <th>TCGA-HNSC_Late</th>\n",
       "      <th>TCGA-KIRC_Early</th>\n",
       "      <th>TCGA-KIRC_Late</th>\n",
       "      <th>TCGA-KIRP_Early</th>\n",
       "      <th>TCGA-KIRP_Late</th>\n",
       "      <th>TCGA-LIHC_Early</th>\n",
       "      <th>TCGA-LIHC_Late</th>\n",
       "      <th>TCGA-LUAD_Early</th>\n",
       "      <th>TCGA-LUAD_Late</th>\n",
       "      <th>TCGA-STAD_Early</th>\n",
       "      <th>TCGA-STAD_Late</th>\n",
       "      <th>TCGA-THCA_Early</th>\n",
       "      <th>TCGA-THCA_Late</th>\n",
       "    </tr>\n",
       "  </thead>\n",
       "  <tbody>\n",
       "    <tr>\n",
       "      <th>0</th>\n",
       "      <td>TTN</td>\n",
       "      <td>TP53</td>\n",
       "      <td>TTN</td>\n",
       "      <td>APC</td>\n",
       "      <td>TTN</td>\n",
       "      <td>TTN</td>\n",
       "      <td>VHL</td>\n",
       "      <td>VHL</td>\n",
       "      <td>TTN</td>\n",
       "      <td>TTN</td>\n",
       "      <td>TTN</td>\n",
       "      <td>TTN</td>\n",
       "      <td>TTN</td>\n",
       "      <td>TTN</td>\n",
       "      <td>TTN</td>\n",
       "      <td>TTN</td>\n",
       "      <td>BRAF</td>\n",
       "      <td>BRAF</td>\n",
       "    </tr>\n",
       "    <tr>\n",
       "      <th>1</th>\n",
       "      <td>PIK3CA</td>\n",
       "      <td>PIK3CA</td>\n",
       "      <td>APC</td>\n",
       "      <td>TTN</td>\n",
       "      <td>TP53</td>\n",
       "      <td>TP53</td>\n",
       "      <td>PBRM1</td>\n",
       "      <td>PBRM1</td>\n",
       "      <td>MUC16</td>\n",
       "      <td>SETD2</td>\n",
       "      <td>TP53</td>\n",
       "      <td>CTNNB1</td>\n",
       "      <td>CSMD3</td>\n",
       "      <td>MUC16</td>\n",
       "      <td>MUC16</td>\n",
       "      <td>MUC16</td>\n",
       "      <td>NRAS</td>\n",
       "      <td>TTN</td>\n",
       "    </tr>\n",
       "    <tr>\n",
       "      <th>2</th>\n",
       "      <td>TP53</td>\n",
       "      <td>TTN</td>\n",
       "      <td>SYNE1</td>\n",
       "      <td>TP53</td>\n",
       "      <td>FAT1</td>\n",
       "      <td>CSMD3</td>\n",
       "      <td>TTN</td>\n",
       "      <td>TTN</td>\n",
       "      <td>KMT2C</td>\n",
       "      <td>NF2</td>\n",
       "      <td>CTNNB1</td>\n",
       "      <td>MUC16</td>\n",
       "      <td>MUC16</td>\n",
       "      <td>RYR2</td>\n",
       "      <td>TP53</td>\n",
       "      <td>TP53</td>\n",
       "      <td>TTN</td>\n",
       "      <td>NRAS</td>\n",
       "    </tr>\n",
       "    <tr>\n",
       "      <th>3</th>\n",
       "      <td>MUC16</td>\n",
       "      <td>CDH1</td>\n",
       "      <td>MUC16</td>\n",
       "      <td>SYNE1</td>\n",
       "      <td>AHNAK</td>\n",
       "      <td>FAT1</td>\n",
       "      <td>SETD2</td>\n",
       "      <td>SETD2</td>\n",
       "      <td>KIAA1109</td>\n",
       "      <td>CMYA5</td>\n",
       "      <td>MUC16</td>\n",
       "      <td>TP53</td>\n",
       "      <td>RYR2</td>\n",
       "      <td>TP53</td>\n",
       "      <td>SYNE1</td>\n",
       "      <td>SYNE1</td>\n",
       "      <td>TG</td>\n",
       "      <td>TBC1D12</td>\n",
       "    </tr>\n",
       "    <tr>\n",
       "      <th>4</th>\n",
       "      <td>CDH1</td>\n",
       "      <td>GATA3</td>\n",
       "      <td>FAT4</td>\n",
       "      <td>MUC16</td>\n",
       "      <td>MUC16</td>\n",
       "      <td>SYNE1</td>\n",
       "      <td>DST</td>\n",
       "      <td>BAP1</td>\n",
       "      <td>MET</td>\n",
       "      <td>CUBN</td>\n",
       "      <td>PCLO</td>\n",
       "      <td>OBSCN</td>\n",
       "      <td>USH2A</td>\n",
       "      <td>CSMD3</td>\n",
       "      <td>OBSCN</td>\n",
       "      <td>FAT4</td>\n",
       "      <td>MALAT1</td>\n",
       "      <td>USP9X</td>\n",
       "    </tr>\n",
       "  </tbody>\n",
       "</table>\n",
       "</div>"
      ],
      "text/plain": [
       "  TCGA-BRCA_Early TCGA-BRCA_Late TCGA-COAD_Early TCGA-COAD_Late  \\\n",
       "0             TTN           TP53             TTN            APC   \n",
       "1          PIK3CA         PIK3CA             APC            TTN   \n",
       "2            TP53            TTN           SYNE1           TP53   \n",
       "3           MUC16           CDH1           MUC16          SYNE1   \n",
       "4            CDH1          GATA3            FAT4          MUC16   \n",
       "\n",
       "  TCGA-HNSC_Early TCGA-HNSC_Late TCGA-KIRC_Early TCGA-KIRC_Late  \\\n",
       "0             TTN            TTN             VHL            VHL   \n",
       "1            TP53           TP53           PBRM1          PBRM1   \n",
       "2            FAT1          CSMD3             TTN            TTN   \n",
       "3           AHNAK           FAT1           SETD2          SETD2   \n",
       "4           MUC16          SYNE1             DST           BAP1   \n",
       "\n",
       "  TCGA-KIRP_Early TCGA-KIRP_Late TCGA-LIHC_Early TCGA-LIHC_Late  \\\n",
       "0             TTN            TTN             TTN            TTN   \n",
       "1           MUC16          SETD2            TP53         CTNNB1   \n",
       "2           KMT2C            NF2          CTNNB1          MUC16   \n",
       "3        KIAA1109          CMYA5           MUC16           TP53   \n",
       "4             MET           CUBN            PCLO          OBSCN   \n",
       "\n",
       "  TCGA-LUAD_Early TCGA-LUAD_Late TCGA-STAD_Early TCGA-STAD_Late  \\\n",
       "0             TTN            TTN             TTN            TTN   \n",
       "1           CSMD3          MUC16           MUC16          MUC16   \n",
       "2           MUC16           RYR2            TP53           TP53   \n",
       "3            RYR2           TP53           SYNE1          SYNE1   \n",
       "4           USH2A          CSMD3           OBSCN           FAT4   \n",
       "\n",
       "  TCGA-THCA_Early TCGA-THCA_Late  \n",
       "0            BRAF           BRAF  \n",
       "1            NRAS            TTN  \n",
       "2             TTN           NRAS  \n",
       "3              TG        TBC1D12  \n",
       "4          MALAT1          USP9X  "
      ]
     },
     "execution_count": 8,
     "metadata": {},
     "output_type": "execute_result"
    }
   ],
   "source": [
    "S1.head()"
   ]
  },
  {
   "cell_type": "code",
   "execution_count": 9,
   "metadata": {},
   "outputs": [],
   "source": [
    "mutation_df = pd.read_csv(\"GSEA_all_samples_0726/filtered_mutations_all_samples_GSEA_0726.csv\")"
   ]
  },
  {
   "cell_type": "code",
   "execution_count": 10,
   "metadata": {},
   "outputs": [],
   "source": [
    "tumors = list(set(mutation_df['Project']))"
   ]
  },
  {
   "cell_type": "code",
   "execution_count": 11,
   "metadata": {},
   "outputs": [
    {
     "data": {
      "text/html": [
       "<div>\n",
       "<style scoped>\n",
       "    .dataframe tbody tr th:only-of-type {\n",
       "        vertical-align: middle;\n",
       "    }\n",
       "\n",
       "    .dataframe tbody tr th {\n",
       "        vertical-align: top;\n",
       "    }\n",
       "\n",
       "    .dataframe thead th {\n",
       "        text-align: right;\n",
       "    }\n",
       "</style>\n",
       "<table border=\"1\" class=\"dataframe\">\n",
       "  <thead>\n",
       "    <tr style=\"text-align: right;\">\n",
       "      <th></th>\n",
       "      <th>Project</th>\n",
       "      <th>pathway</th>\n",
       "      <th>pval</th>\n",
       "      <th>padj</th>\n",
       "      <th>log2err</th>\n",
       "      <th>ES</th>\n",
       "      <th>NES</th>\n",
       "      <th>size</th>\n",
       "      <th>leadingEdge</th>\n",
       "    </tr>\n",
       "  </thead>\n",
       "  <tbody>\n",
       "    <tr>\n",
       "      <th>0</th>\n",
       "      <td>TCGA-BRCA</td>\n",
       "      <td>GO_BIOLOGICAL_ADHESION</td>\n",
       "      <td>3.175123e-18</td>\n",
       "      <td>2.865231e-14</td>\n",
       "      <td>1.105337</td>\n",
       "      <td>0.551815</td>\n",
       "      <td>1.619037</td>\n",
       "      <td>721</td>\n",
       "      <td>PIK3CA|MUC16|CDH1|GATA3|DST|HMCN1|SPTA1|PTEN|M...</td>\n",
       "    </tr>\n",
       "    <tr>\n",
       "      <th>1</th>\n",
       "      <td>TCGA-BRCA</td>\n",
       "      <td>GO_CIRCULATORY_SYSTEM_DEVELOPMENT</td>\n",
       "      <td>1.684862e-13</td>\n",
       "      <td>7.602098e-10</td>\n",
       "      <td>0.943632</td>\n",
       "      <td>0.550174</td>\n",
       "      <td>1.609231</td>\n",
       "      <td>576</td>\n",
       "      <td>TTN|PIK3CA|TP53|GATA3|NEB|APOB|PTEN|NF1|XIRP2|...</td>\n",
       "    </tr>\n",
       "    <tr>\n",
       "      <th>2</th>\n",
       "      <td>TCGA-BRCA</td>\n",
       "      <td>GO_CELLULAR_COMPONENT_MORPHOGENESIS</td>\n",
       "      <td>3.056884e-13</td>\n",
       "      <td>9.195106e-10</td>\n",
       "      <td>0.932595</td>\n",
       "      <td>0.561006</td>\n",
       "      <td>1.640287</td>\n",
       "      <td>533</td>\n",
       "      <td>TTN|PIK3CA|CDH1|GATA3|NEB|SPTA1|OBSCN|PTEN|LRP...</td>\n",
       "    </tr>\n",
       "    <tr>\n",
       "      <th>3</th>\n",
       "      <td>TCGA-BRCA</td>\n",
       "      <td>GO_CYTOSKELETON_ORGANIZATION</td>\n",
       "      <td>1.131340e-12</td>\n",
       "      <td>2.552302e-09</td>\n",
       "      <td>0.910120</td>\n",
       "      <td>0.527294</td>\n",
       "      <td>1.545245</td>\n",
       "      <td>685</td>\n",
       "      <td>TTN|DST|SYNE1|NEB|SPTA1|OBSCN|NCOR1|AKAP9|NF1|...</td>\n",
       "    </tr>\n",
       "    <tr>\n",
       "      <th>4</th>\n",
       "      <td>TCGA-BRCA</td>\n",
       "      <td>GO_CELL_PROJECTION_ORGANIZATION</td>\n",
       "      <td>1.002595e-11</td>\n",
       "      <td>1.809484e-08</td>\n",
       "      <td>0.875325</td>\n",
       "      <td>0.515638</td>\n",
       "      <td>1.512901</td>\n",
       "      <td>719</td>\n",
       "      <td>PIK3CA|CDH1|GATA3|SPTA1|AKAP9|PTEN|LRP2|LRP1|A...</td>\n",
       "    </tr>\n",
       "  </tbody>\n",
       "</table>\n",
       "</div>"
      ],
      "text/plain": [
       "     Project                              pathway          pval          padj  \\\n",
       "0  TCGA-BRCA               GO_BIOLOGICAL_ADHESION  3.175123e-18  2.865231e-14   \n",
       "1  TCGA-BRCA    GO_CIRCULATORY_SYSTEM_DEVELOPMENT  1.684862e-13  7.602098e-10   \n",
       "2  TCGA-BRCA  GO_CELLULAR_COMPONENT_MORPHOGENESIS  3.056884e-13  9.195106e-10   \n",
       "3  TCGA-BRCA         GO_CYTOSKELETON_ORGANIZATION  1.131340e-12  2.552302e-09   \n",
       "4  TCGA-BRCA      GO_CELL_PROJECTION_ORGANIZATION  1.002595e-11  1.809484e-08   \n",
       "\n",
       "    log2err        ES       NES  size  \\\n",
       "0  1.105337  0.551815  1.619037   721   \n",
       "1  0.943632  0.550174  1.609231   576   \n",
       "2  0.932595  0.561006  1.640287   533   \n",
       "3  0.910120  0.527294  1.545245   685   \n",
       "4  0.875325  0.515638  1.512901   719   \n",
       "\n",
       "                                         leadingEdge  \n",
       "0  PIK3CA|MUC16|CDH1|GATA3|DST|HMCN1|SPTA1|PTEN|M...  \n",
       "1  TTN|PIK3CA|TP53|GATA3|NEB|APOB|PTEN|NF1|XIRP2|...  \n",
       "2  TTN|PIK3CA|CDH1|GATA3|NEB|SPTA1|OBSCN|PTEN|LRP...  \n",
       "3  TTN|DST|SYNE1|NEB|SPTA1|OBSCN|NCOR1|AKAP9|NF1|...  \n",
       "4  PIK3CA|CDH1|GATA3|SPTA1|AKAP9|PTEN|LRP2|LRP1|A...  "
      ]
     },
     "execution_count": 11,
     "metadata": {},
     "output_type": "execute_result"
    }
   ],
   "source": [
    "mutation_df.head()"
   ]
  },
  {
   "cell_type": "code",
   "execution_count": 12,
   "metadata": {},
   "outputs": [],
   "source": [
    "df_consider = mutation_df.loc[mutation_df['pathway'].isin(PATHWAYS)]"
   ]
  },
  {
   "cell_type": "code",
   "execution_count": 13,
   "metadata": {},
   "outputs": [
    {
     "data": {
      "text/html": [
       "<div>\n",
       "<style scoped>\n",
       "    .dataframe tbody tr th:only-of-type {\n",
       "        vertical-align: middle;\n",
       "    }\n",
       "\n",
       "    .dataframe tbody tr th {\n",
       "        vertical-align: top;\n",
       "    }\n",
       "\n",
       "    .dataframe thead th {\n",
       "        text-align: right;\n",
       "    }\n",
       "</style>\n",
       "<table border=\"1\" class=\"dataframe\">\n",
       "  <thead>\n",
       "    <tr style=\"text-align: right;\">\n",
       "      <th></th>\n",
       "      <th>Project</th>\n",
       "      <th>pathway</th>\n",
       "      <th>pval</th>\n",
       "      <th>padj</th>\n",
       "      <th>log2err</th>\n",
       "      <th>ES</th>\n",
       "      <th>NES</th>\n",
       "      <th>size</th>\n",
       "      <th>leadingEdge</th>\n",
       "    </tr>\n",
       "  </thead>\n",
       "  <tbody>\n",
       "    <tr>\n",
       "      <th>18</th>\n",
       "      <td>TCGA-BRCA</td>\n",
       "      <td>GO_NEURON_DEVELOPMENT</td>\n",
       "      <td>4.930628e-08</td>\n",
       "      <td>0.000023</td>\n",
       "      <td>0.719513</td>\n",
       "      <td>0.525459</td>\n",
       "      <td>1.534559</td>\n",
       "      <td>503</td>\n",
       "      <td>PIK3CA|CDH1|GATA3|SPTA1|PTEN|LRP2|LRP1|HERC1|E...</td>\n",
       "    </tr>\n",
       "    <tr>\n",
       "      <th>20</th>\n",
       "      <td>TCGA-BRCA</td>\n",
       "      <td>GO_NEURON_DIFFERENTIATION</td>\n",
       "      <td>9.490487e-08</td>\n",
       "      <td>0.000041</td>\n",
       "      <td>0.704976</td>\n",
       "      <td>0.493193</td>\n",
       "      <td>1.443435</td>\n",
       "      <td>646</td>\n",
       "      <td>PIK3CA|CDH1|GATA3|SPTA1|PTEN|LRP2|ASPM|LRP1|HE...</td>\n",
       "    </tr>\n",
       "    <tr>\n",
       "      <th>202</th>\n",
       "      <td>TCGA-BRCA</td>\n",
       "      <td>GO_CARDIAC_MUSCLE_TISSUE_DEVELOPMENT</td>\n",
       "      <td>1.394377e-04</td>\n",
       "      <td>0.006168</td>\n",
       "      <td>0.518848</td>\n",
       "      <td>0.645622</td>\n",
       "      <td>1.806783</td>\n",
       "      <td>103</td>\n",
       "      <td>TTN|NEB|PTEN|XIRP2|ARID1A|LRP2|MAP2K4|TBX3|DSP...</td>\n",
       "    </tr>\n",
       "    <tr>\n",
       "      <th>236</th>\n",
       "      <td>TCGA-BRCA</td>\n",
       "      <td>GO_REPRODUCTION</td>\n",
       "      <td>2.097221e-04</td>\n",
       "      <td>0.007985</td>\n",
       "      <td>0.518848</td>\n",
       "      <td>0.429324</td>\n",
       "      <td>1.260871</td>\n",
       "      <td>820</td>\n",
       "      <td>GATA3|SYNE1|APOB|PTEN|ARID1A|LRP2|BIRC6|ASPM|T...</td>\n",
       "    </tr>\n",
       "    <tr>\n",
       "      <th>243</th>\n",
       "      <td>TCGA-BRCA</td>\n",
       "      <td>GO_FOREBRAIN_DEVELOPMENT</td>\n",
       "      <td>2.210583e-04</td>\n",
       "      <td>0.008076</td>\n",
       "      <td>0.518848</td>\n",
       "      <td>0.535615</td>\n",
       "      <td>1.533477</td>\n",
       "      <td>187</td>\n",
       "      <td>CDH1|PTEN|NF1|ARID1A|LRP2|ASPM|LRP1|TBX3|DNAH5...</td>\n",
       "    </tr>\n",
       "    <tr>\n",
       "      <th>...</th>\n",
       "      <td>...</td>\n",
       "      <td>...</td>\n",
       "      <td>...</td>\n",
       "      <td>...</td>\n",
       "      <td>...</td>\n",
       "      <td>...</td>\n",
       "      <td>...</td>\n",
       "      <td>...</td>\n",
       "      <td>...</td>\n",
       "    </tr>\n",
       "    <tr>\n",
       "      <th>64065</th>\n",
       "      <td>TCGA-STAD</td>\n",
       "      <td>GO_MAMMARY_GLAND_DEVELOPMENT</td>\n",
       "      <td>1.898102e-02</td>\n",
       "      <td>0.143303</td>\n",
       "      <td>0.332263</td>\n",
       "      <td>0.505716</td>\n",
       "      <td>1.398429</td>\n",
       "      <td>73</td>\n",
       "      <td>GLI3|BRCA2|EPHA2|PTCH1|ARHGAP5|LRP5|XDH|KDM5B|...</td>\n",
       "    </tr>\n",
       "    <tr>\n",
       "      <th>64481</th>\n",
       "      <td>TCGA-STAD</td>\n",
       "      <td>GO_OLIGODENDROCYTE_DIFFERENTIATION</td>\n",
       "      <td>3.296703e-02</td>\n",
       "      <td>0.186476</td>\n",
       "      <td>0.248911</td>\n",
       "      <td>0.493000</td>\n",
       "      <td>1.354886</td>\n",
       "      <td>62</td>\n",
       "      <td>GLI3|ABCA2|CTNNB1|ERBB2|NOTCH1|CNTNAP1|MTOR|PT...</td>\n",
       "    </tr>\n",
       "    <tr>\n",
       "      <th>72537</th>\n",
       "      <td>TCGA-THCA</td>\n",
       "      <td>GO_CARDIOCYTE_DIFFERENTIATION</td>\n",
       "      <td>2.597403e-02</td>\n",
       "      <td>0.355701</td>\n",
       "      <td>0.282013</td>\n",
       "      <td>0.461024</td>\n",
       "      <td>1.667370</td>\n",
       "      <td>41</td>\n",
       "      <td>TTN|AKAP13|FHOD3|ZMPSTE24|REST|ALPK3</td>\n",
       "    </tr>\n",
       "    <tr>\n",
       "      <th>72705</th>\n",
       "      <td>TCGA-THCA</td>\n",
       "      <td>GO_CARDIAC_MUSCLE_TISSUE_DEVELOPMENT</td>\n",
       "      <td>3.496503e-02</td>\n",
       "      <td>0.377440</td>\n",
       "      <td>0.241340</td>\n",
       "      <td>0.415863</td>\n",
       "      <td>1.553419</td>\n",
       "      <td>59</td>\n",
       "      <td>TTN|XIRP2|AKAP13|FHOD3|ZMPSTE24|MED1|PTEN|ADAM...</td>\n",
       "    </tr>\n",
       "    <tr>\n",
       "      <th>73011</th>\n",
       "      <td>TCGA-THCA</td>\n",
       "      <td>GO_GLIAL_CELL_DIFFERENTIATION</td>\n",
       "      <td>4.995005e-02</td>\n",
       "      <td>0.388108</td>\n",
       "      <td>0.199915</td>\n",
       "      <td>0.407531</td>\n",
       "      <td>1.502871</td>\n",
       "      <td>48</td>\n",
       "      <td>PTPRZ1|ADAM22|AKT1|AKT2|ARHGEF10|DICER1|KRAS|P...</td>\n",
       "    </tr>\n",
       "  </tbody>\n",
       "</table>\n",
       "<p>131 rows × 9 columns</p>\n",
       "</div>"
      ],
      "text/plain": [
       "         Project                               pathway          pval  \\\n",
       "18     TCGA-BRCA                 GO_NEURON_DEVELOPMENT  4.930628e-08   \n",
       "20     TCGA-BRCA             GO_NEURON_DIFFERENTIATION  9.490487e-08   \n",
       "202    TCGA-BRCA  GO_CARDIAC_MUSCLE_TISSUE_DEVELOPMENT  1.394377e-04   \n",
       "236    TCGA-BRCA                       GO_REPRODUCTION  2.097221e-04   \n",
       "243    TCGA-BRCA              GO_FOREBRAIN_DEVELOPMENT  2.210583e-04   \n",
       "...          ...                                   ...           ...   \n",
       "64065  TCGA-STAD          GO_MAMMARY_GLAND_DEVELOPMENT  1.898102e-02   \n",
       "64481  TCGA-STAD    GO_OLIGODENDROCYTE_DIFFERENTIATION  3.296703e-02   \n",
       "72537  TCGA-THCA         GO_CARDIOCYTE_DIFFERENTIATION  2.597403e-02   \n",
       "72705  TCGA-THCA  GO_CARDIAC_MUSCLE_TISSUE_DEVELOPMENT  3.496503e-02   \n",
       "73011  TCGA-THCA         GO_GLIAL_CELL_DIFFERENTIATION  4.995005e-02   \n",
       "\n",
       "           padj   log2err        ES       NES  size  \\\n",
       "18     0.000023  0.719513  0.525459  1.534559   503   \n",
       "20     0.000041  0.704976  0.493193  1.443435   646   \n",
       "202    0.006168  0.518848  0.645622  1.806783   103   \n",
       "236    0.007985  0.518848  0.429324  1.260871   820   \n",
       "243    0.008076  0.518848  0.535615  1.533477   187   \n",
       "...         ...       ...       ...       ...   ...   \n",
       "64065  0.143303  0.332263  0.505716  1.398429    73   \n",
       "64481  0.186476  0.248911  0.493000  1.354886    62   \n",
       "72537  0.355701  0.282013  0.461024  1.667370    41   \n",
       "72705  0.377440  0.241340  0.415863  1.553419    59   \n",
       "73011  0.388108  0.199915  0.407531  1.502871    48   \n",
       "\n",
       "                                             leadingEdge  \n",
       "18     PIK3CA|CDH1|GATA3|SPTA1|PTEN|LRP2|LRP1|HERC1|E...  \n",
       "20     PIK3CA|CDH1|GATA3|SPTA1|PTEN|LRP2|ASPM|LRP1|HE...  \n",
       "202    TTN|NEB|PTEN|XIRP2|ARID1A|LRP2|MAP2K4|TBX3|DSP...  \n",
       "236    GATA3|SYNE1|APOB|PTEN|ARID1A|LRP2|BIRC6|ASPM|T...  \n",
       "243    CDH1|PTEN|NF1|ARID1A|LRP2|ASPM|LRP1|TBX3|DNAH5...  \n",
       "...                                                  ...  \n",
       "64065  GLI3|BRCA2|EPHA2|PTCH1|ARHGAP5|LRP5|XDH|KDM5B|...  \n",
       "64481  GLI3|ABCA2|CTNNB1|ERBB2|NOTCH1|CNTNAP1|MTOR|PT...  \n",
       "72537               TTN|AKAP13|FHOD3|ZMPSTE24|REST|ALPK3  \n",
       "72705  TTN|XIRP2|AKAP13|FHOD3|ZMPSTE24|MED1|PTEN|ADAM...  \n",
       "73011  PTPRZ1|ADAM22|AKT1|AKT2|ARHGEF10|DICER1|KRAS|P...  \n",
       "\n",
       "[131 rows x 9 columns]"
      ]
     },
     "execution_count": 13,
     "metadata": {},
     "output_type": "execute_result"
    }
   ],
   "source": [
    "df_consider = df_consider.loc[df_consider['pval'] < 0.05]\n",
    "df_consider"
   ]
  },
  {
   "cell_type": "code",
   "execution_count": 14,
   "metadata": {},
   "outputs": [],
   "source": [
    "out_mutation = {}\n",
    "for t in tumors:\n",
    "    fc = df_consider.loc[df_consider['Project'] == t]\n",
    "    fc['LeadingEdge'] = [i.split(\"|\") for i in fc['leadingEdge'].values]\n",
    "    fc.index = fc['pathway']\n",
    "    out_mutation[t] = fc['LeadingEdge']"
   ]
  },
  {
   "cell_type": "code",
   "execution_count": 17,
   "metadata": {},
   "outputs": [],
   "source": [
    "df_up = pd.read_csv(\"../GSEA_all_samples_0601/GSEA_all_samples_up.csv\")\n",
    "df_down = pd.read_csv(\"../GSEA_all_samples_0601/GSEA_all_samples_down.csv\")\n",
    "df_c_up = df_up.loc[df_up['pathway'].isin(PATHWAYS)].loc[df_up['pval'] < 0.01]\n",
    "df_c_down = df_down.loc[df_down['pathway'].isin(PATHWAYS)].loc[df_down['pval'] < 0.01]"
   ]
  },
  {
   "cell_type": "code",
   "execution_count": 18,
   "metadata": {},
   "outputs": [],
   "source": [
    "out_up, out_down = {},{}\n",
    "for t in tumors:\n",
    "    up = df_c_up.loc[df_c_up['Project'] == t]\n",
    "    up['LeadingEdge'] = [i.split(\"|\") for i in up['leadingEdge'].values]\n",
    "    up.index = up['pathway']\n",
    "    out_up[t] = up['LeadingEdge']\n",
    "    down = df_c_down.loc[df_c_down['Project'] == t]\n",
    "    down['LeadingEdge'] = [i.split(\"|\") for i in down['leadingEdge'].values]\n",
    "    down.index = down['pathway']\n",
    "    out_down[t] = down['LeadingEdge']"
   ]
  },
  {
   "cell_type": "code",
   "execution_count": 19,
   "metadata": {},
   "outputs": [
    {
     "data": {
      "text/plain": [
       "dict_keys(['TCGA-LIHC', 'TCGA-HNSC', 'TCGA-BRCA', 'TCGA-STAD', 'TCGA-LUAD', 'TCGA-COAD', 'TCGA-KIRC', 'TCGA-THCA', 'TCGA-KIRP'])"
      ]
     },
     "execution_count": 19,
     "metadata": {},
     "output_type": "execute_result"
    }
   ],
   "source": [
    "out_up.keys()"
   ]
  },
  {
   "cell_type": "code",
   "execution_count": 20,
   "metadata": {},
   "outputs": [
    {
     "data": {
      "text/plain": [
       "[14, 17, 10, 18, 17, 16, 9, 5, 7]"
      ]
     },
     "execution_count": 20,
     "metadata": {},
     "output_type": "execute_result"
    }
   ],
   "source": [
    "[len(out_up[i]) for i in out_up]"
   ]
  },
  {
   "cell_type": "code",
   "execution_count": 25,
   "metadata": {},
   "outputs": [],
   "source": [
    "keywords = pd.read_csv(\"../old/keyword_for_overlap.txt\",\"\\t\",header = None)"
   ]
  },
  {
   "cell_type": "code",
   "execution_count": 26,
   "metadata": {},
   "outputs": [],
   "source": [
    "keywords = list(keywords[0].values)"
   ]
  },
  {
   "cell_type": "code",
   "execution_count": 27,
   "metadata": {},
   "outputs": [
    {
     "data": {
      "text/plain": [
       "pathway\n",
       "GO_REPRODUCTION              [MAP2K1, CRHBP, DBH, ADRA2B, FOS, DACH1, EGR1,...\n",
       "GO_NEURON_DIFFERENTIATION    [MAP2K1, C21orf91, NTF3, CPEB3, ADRA2B, EPHA2,...\n",
       "GO_NEURON_DEVELOPMENT        [MAP2K1, C21orf91, NTF3, CPEB3, EPHA2, CXCL12,...\n",
       "Name: LeadingEdge, dtype: object"
      ]
     },
     "execution_count": 27,
     "metadata": {},
     "output_type": "execute_result"
    }
   ],
   "source": [
    "out_down[tumors[0]]"
   ]
  },
  {
   "cell_type": "code",
   "execution_count": 28,
   "metadata": {},
   "outputs": [],
   "source": [
    "out_path = {}"
   ]
  },
  {
   "cell_type": "code",
   "execution_count": 29,
   "metadata": {},
   "outputs": [],
   "source": [
    "def enrichment(test_genes):\n",
    "    enr1 = gp.enrichr(gene_list=test_genes,\n",
    "                     description='test_name',\n",
    "                     gene_sets=d,\n",
    "                     background='hsapiens_gene_ensembl', # or the number of genes, e.g 20000\n",
    "                     outdir='test/enrichr_kegg2',\n",
    "                     cutoff=0.2, # only used for testing.\n",
    "                     verbose=True)\n",
    "    result = enr1.results.loc[enr1.results['P-value']<0.05]\n",
    "    result['Words'] = [i.split(\"_\") for i in result['Term']]\n",
    "    result.index = result['Term']\n",
    "    result[\"num\"] = [int(i.split(\"/\")[0]) for i in result[\"Overlap\"]]\n",
    "    out_result = dilter_words(result)\n",
    "    out_result = out_result.sort_values(\"num\",ascending = False)\n",
    "    num_mu=len(test_genes)\n",
    "    mu_path,num_overlap = out_result['Term'].values[:3],out_result['num'].values[:3]\n",
    "    genes_set = []\n",
    "    for p in mu_path:\n",
    "        genes_set += d[p]\n",
    "    genes_set = set(genes_set)\n",
    "    num_overlap_total = len(genes_set.intersection(test_genes))\n",
    "    \n",
    "    return (num_mu,mu_path,num_overlap,num_overlap_total)"
   ]
  },
  {
   "cell_type": "code",
   "execution_count": 36,
   "metadata": {},
   "outputs": [],
   "source": [
    "def enrichment_not_filter(test_genes):\n",
    "    enr1 = gp.enrichr(gene_list=test_genes,\n",
    "                     description='test_name',\n",
    "                     gene_sets=d,\n",
    "                     background='hsapiens_gene_ensembl', # or the number of genes, e.g 20000\n",
    "                     outdir='test/enrichr_kegg2',\n",
    "                     cutoff=0.2, # only used for testing.\n",
    "                     verbose=True)\n",
    "    result = enr1.results.loc[enr1.results['P-value']<0.05]\n",
    "    result['Words'] = [i.split(\"_\") for i in result['Term']]\n",
    "    result.index = result['Term']\n",
    "    result[\"num\"] = [int(i.split(\"/\")[0]) for i in result[\"Overlap\"]]\n",
    "    out_result = filter_development(result)\n",
    "    out_result = out_result.sort_values(\"num\",ascending = False)\n",
    "    num_mu=len(test_genes)\n",
    "    mu_path,num_overlap = out_result['Term'].values[:3],out_result['num'].values[:3]\n",
    "    genes_set = []\n",
    "    for p in mu_path:\n",
    "        genes_set += d[p]\n",
    "    genes_set = set(genes_set)\n",
    "    num_overlap_total = len(genes_set.intersection(test_genes))\n",
    "    \n",
    "    return (num_mu,mu_path,num_overlap,num_overlap_total)\n",
    "\n",
    "def dilter_words(result):\n",
    "    for item in result.index:\n",
    "        if len(set(result.loc[item]['Words']).intersection(keywords)) == 0:\n",
    "                #print(item)\n",
    "            result = result.drop(item,0)\n",
    "            continue\n",
    "        if \"DIFFERENTIATION\" in result.loc[item]['Words'] or \"DEVELOPMENT\" in result.loc[item]['Words']:\n",
    "            result = result.drop(item,0)\n",
    "    return result\n",
    "    \n",
    "def filter_development(result):\n",
    "    for item in result.index:\n",
    "        if \"DIFFERENTIATION\" in result.loc[item]['Words'] or \"DEVELOPMENT\" in result.loc[item]['Words'] \\\n",
    "        or \"REPRODUCTION\" in result.loc[item]['Words'] or \"REPRODUCTIVE\" in result.loc[item]['Words'] :\n",
    "            result = result.drop(item,0)\n",
    "    return result"
   ]
  },
  {
   "cell_type": "code",
   "execution_count": 31,
   "metadata": {},
   "outputs": [
    {
     "data": {
      "text/plain": [
       "array(['GO_BONE_DEVELOPMENT', 'GO_CARDIAC_MUSCLE_TISSUE_DEVELOPMENT',\n",
       "       'GO_CHONDROCYTE_DEVELOPMENT', 'GO_EAR_DEVELOPMENT',\n",
       "       'GO_FOREBRAIN_DEVELOPMENT', 'GO_GLIAL_CELL_DEVELOPMENT',\n",
       "       'GO_HINDBRAIN_DEVELOPMENT', 'GO_MAMMARY_GLAND_DEVELOPMENT',\n",
       "       'GO_MESONEPHROS_DEVELOPMENT', 'GO_METANEPHROS_DEVELOPMENT',\n",
       "       'GO_METENCEPHALON_DEVELOPMENT', 'GO_NEPHRON_DEVELOPMENT',\n",
       "       'GO_NEURON_DEVELOPMENT', 'GO_REPRODUCTION',\n",
       "       'GO_CARDIOCYTE_DIFFERENTIATION', 'GO_CHONDROCYTE_DIFFERENTIATION',\n",
       "       'GO_GLIAL_CELL_DIFFERENTIATION', 'GO_NEURON_DIFFERENTIATION',\n",
       "       'GO_OLIGODENDROCYTE_DIFFERENTIATION', 'GO_OOCYTE_DIFFERENTIATION',\n",
       "       'GO_OSTEOBLAST_DIFFERENTIATION'], dtype=object)"
      ]
     },
     "execution_count": 31,
     "metadata": {},
     "output_type": "execute_result"
    }
   ],
   "source": [
    "PATHWAYS"
   ]
  },
  {
   "cell_type": "code",
   "execution_count": null,
   "metadata": {},
   "outputs": [],
   "source": []
  },
  {
   "cell_type": "code",
   "execution_count": 32,
   "metadata": {},
   "outputs": [],
   "source": [
    "#tumors = tumors[:-1]"
   ]
  },
  {
   "cell_type": "code",
   "execution_count": 33,
   "metadata": {},
   "outputs": [
    {
     "data": {
      "text/plain": [
       "['TCGA-BRCA',\n",
       " 'TCGA-COAD',\n",
       " 'TCGA-HNSC',\n",
       " 'TCGA-KIRC',\n",
       " 'TCGA-KIRP',\n",
       " 'TCGA-LIHC',\n",
       " 'TCGA-LUAD',\n",
       " 'TCGA-STAD',\n",
       " 'TCGA-THCA']"
      ]
     },
     "execution_count": 33,
     "metadata": {},
     "output_type": "execute_result"
    }
   ],
   "source": [
    "tumors.sort()\n",
    "tumors"
   ]
  },
  {
   "cell_type": "code",
   "execution_count": 34,
   "metadata": {},
   "outputs": [
    {
     "data": {
      "text/plain": [
       "pathway\n",
       "GO_NEURON_DIFFERENTIATION             [KCNIP2, SPTBN1, MMD, FZD4, ITSN1, VEGFD, PLXN...\n",
       "GO_NEURON_DEVELOPMENT                 [KCNIP2, SPTBN1, FZD4, ITSN1, PLXNA4, SEMA3G, ...\n",
       "GO_GLIAL_CELL_DIFFERENTIATION         [GSN, PPARG, ASPA, KLF15, MYOC, LGI4, DTX1, TA...\n",
       "GO_REPRODUCTION                       [ACVR1C, CRHBP, FZD4, PPARG, PLPP3, LEPR, NKAP...\n",
       "GO_FOREBRAIN_DEVELOPMENT              [PLXNA4, OXTR, EZH1, TYRO3, AQP1, ALDH1A2, DLC...\n",
       "GO_OLIGODENDROCYTE_DIFFERENTIATION    [GSN, PPARG, ASPA, WASF3, DAAM2, NTRK2, BOK, C...\n",
       "Name: LeadingEdge, dtype: object"
      ]
     },
     "execution_count": 34,
     "metadata": {},
     "output_type": "execute_result"
    }
   ],
   "source": [
    "out_down[tumors[0]]"
   ]
  },
  {
   "cell_type": "code",
   "execution_count": 37,
   "metadata": {
    "scrolled": true
   },
   "outputs": [
    {
     "name": "stdout",
     "output_type": "stream",
     "text": [
      "GO_REPRODUCTION\n",
      "1457 360 222 366\n"
     ]
    },
    {
     "name": "stderr",
     "output_type": "stream",
     "text": [
      "2020-07-26 18:15:47,161 Connecting to Enrichr Server to get latest library names\n",
      "2020-07-26 18:15:47,218 using all annotated genes with GO_ID as background genes\n",
      "2020-07-26 18:15:47,248 Background: found 19041 genes\n",
      "2020-07-26 18:15:55,741 Save file of enrichment results: Job Id:2216812630808\n",
      "2020-07-26 18:15:56,511 Done.\n",
      "\n"
     ]
    },
    {
     "name": "stdout",
     "output_type": "stream",
     "text": [
      "mutation result (366, array(['GO_CHROMOSOME_ORGANIZATION',\n",
      "       'GO_REGULATION_OF_CELL_POPULATION_PROLIFERATION',\n",
      "       'GO_POSITIVE_REGULATION_OF_SIGNALING'], dtype=object), array([92, 84, 73], dtype=int64), 184)\n",
      "GO_NEURON_DIFFERENTIATION\n",
      "1365 381 256 188\n"
     ]
    },
    {
     "name": "stderr",
     "output_type": "stream",
     "text": [
      "2020-07-26 18:16:06,576 Connecting to Enrichr Server to get latest library names\n",
      "2020-07-26 18:16:06,635 using all annotated genes with GO_ID as background genes\n",
      "2020-07-26 18:16:06,661 Background: found 19041 genes\n",
      "2020-07-26 18:16:12,133 Save file of enrichment results: Job Id:2216812630808\n",
      "2020-07-26 18:16:12,944 Done.\n",
      "\n"
     ]
    },
    {
     "name": "stdout",
     "output_type": "stream",
     "text": [
      "mutation result (188, array(['GO_CELL_PROJECTION_ORGANIZATION',\n",
      "       'GO_CELLULAR_COMPONENT_MORPHOGENESIS',\n",
      "       'GO_CELL_PART_MORPHOGENESIS'], dtype=object), array([149, 113, 101], dtype=int64), 154)\n",
      "GO_NEURON_DEVELOPMENT\n",
      "1114 300 208 144\n"
     ]
    },
    {
     "name": "stderr",
     "output_type": "stream",
     "text": [
      "2020-07-26 18:16:23,261 Connecting to Enrichr Server to get latest library names\n",
      "2020-07-26 18:16:23,357 using all annotated genes with GO_ID as background genes\n",
      "2020-07-26 18:16:23,406 Background: found 19041 genes\n",
      "2020-07-26 18:16:28,245 Save file of enrichment results: Job Id:2216812630808\n",
      "2020-07-26 18:16:29,170 Done.\n",
      "\n"
     ]
    },
    {
     "name": "stdout",
     "output_type": "stream",
     "text": [
      "mutation result (144, array(['GO_CELL_PROJECTION_ORGANIZATION',\n",
      "       'GO_CELLULAR_COMPONENT_MORPHOGENESIS',\n",
      "       'GO_CELL_PART_MORPHOGENESIS'], dtype=object), array([134,  99,  90], dtype=int64), 136)\n",
      "GO_FOREBRAIN_DEVELOPMENT\n",
      "383 90 76 51\n"
     ]
    },
    {
     "name": "stderr",
     "output_type": "stream",
     "text": [
      "2020-07-26 18:16:36,560 Connecting to Enrichr Server to get latest library names\n",
      "2020-07-26 18:16:36,660 using all annotated genes with GO_ID as background genes\n",
      "2020-07-26 18:16:36,712 Background: found 19041 genes\n",
      "2020-07-26 18:16:41,073 Save file of enrichment results: Job Id:2216812630808\n",
      "2020-07-26 18:16:42,086 Done.\n",
      "\n"
     ]
    },
    {
     "name": "stdout",
     "output_type": "stream",
     "text": [
      "mutation result (51, array(['GO_CELL_PROJECTION_ORGANIZATION',\n",
      "       'GO_CELLULAR_COMPONENT_MORPHOGENESIS',\n",
      "       'GO_REGULATION_OF_CELL_POPULATION_PROLIFERATION'], dtype=object), array([24, 21, 20], dtype=int64), 34)\n",
      "GO_CHONDROCYTE_DIFFERENTIATION\n",
      "123 26 0 0\n",
      "GO_EAR_DEVELOPMENT\n",
      "220 56 0 38\n"
     ]
    },
    {
     "name": "stderr",
     "output_type": "stream",
     "text": [
      "2020-07-26 18:16:48,136 Connecting to Enrichr Server to get latest library names\n",
      "2020-07-26 18:16:48,223 using all annotated genes with GO_ID as background genes\n",
      "2020-07-26 18:16:48,257 Background: found 19041 genes\n",
      "2020-07-26 18:16:51,262 Save file of enrichment results: Job Id:2216812630808\n",
      "2020-07-26 18:16:51,916 Done.\n",
      "\n"
     ]
    },
    {
     "name": "stdout",
     "output_type": "stream",
     "text": [
      "mutation result (38, array(['GO_ANIMAL_ORGAN_MORPHOGENESIS', 'GO_EMBRYONIC_MORPHOGENESIS',\n",
      "       'GO_EMBRYONIC_ORGAN_MORPHOGENESIS'], dtype=object), array([35, 31, 28], dtype=int64), 36)\n",
      "GO_OSTEOBLAST_DIFFERENTIATION\n",
      "223 42 0 47\n"
     ]
    },
    {
     "name": "stderr",
     "output_type": "stream",
     "text": [
      "2020-07-26 18:16:56,728 Connecting to Enrichr Server to get latest library names\n",
      "2020-07-26 18:16:56,787 using all annotated genes with GO_ID as background genes\n",
      "2020-07-26 18:16:56,814 Background: found 19041 genes\n",
      "2020-07-26 18:17:00,449 Save file of enrichment results: Job Id:2216812630808\n",
      "2020-07-26 18:17:01,674 Done.\n",
      "\n"
     ]
    },
    {
     "name": "stdout",
     "output_type": "stream",
     "text": [
      "mutation result (47, array(['GO_CELL_CELL_SIGNALING',\n",
      "       'GO_REGULATION_OF_CELL_POPULATION_PROLIFERATION',\n",
      "       'GO_POSITIVE_REGULATION_OF_SIGNALING'], dtype=object), array([21, 20, 20], dtype=int64), 32)\n",
      "GO_BONE_DEVELOPMENT\n",
      "219 56 0 27\n"
     ]
    },
    {
     "name": "stderr",
     "output_type": "stream",
     "text": [
      "2020-07-26 18:17:08,006 Connecting to Enrichr Server to get latest library names\n",
      "2020-07-26 18:17:08,123 using all annotated genes with GO_ID as background genes\n",
      "2020-07-26 18:17:08,144 Background: found 19041 genes\n",
      "2020-07-26 18:17:10,128 Save file of enrichment results: Job Id:2216812630808\n",
      "2020-07-26 18:17:10,824 Done.\n",
      "\n"
     ]
    },
    {
     "name": "stdout",
     "output_type": "stream",
     "text": [
      "mutation result (27, array(['GO_ANIMAL_ORGAN_MORPHOGENESIS', 'GO_BONE_MORPHOGENESIS',\n",
      "       'GO_SKELETAL_SYSTEM_MORPHOGENESIS'], dtype=object), array([22, 14, 14], dtype=int64), 22)\n",
      "GO_CHONDROCYTE_DEVELOPMENT\n",
      "46 14 0 13\n"
     ]
    },
    {
     "name": "stderr",
     "output_type": "stream",
     "text": [
      "2020-07-26 18:17:14,019 Connecting to Enrichr Server to get latest library names\n",
      "2020-07-26 18:17:14,060 using all annotated genes with GO_ID as background genes\n",
      "2020-07-26 18:17:14,081 Background: found 19041 genes\n",
      "2020-07-26 18:17:15,519 Save file of enrichment results: Job Id:2216812630808\n",
      "2020-07-26 18:17:16,075 Done.\n",
      "\n"
     ]
    },
    {
     "name": "stdout",
     "output_type": "stream",
     "text": [
      "mutation result (13, array(['GO_ANIMAL_ORGAN_MORPHOGENESIS',\n",
      "       'GO_SKELETAL_SYSTEM_MORPHOGENESIS', 'GO_BONE_MORPHOGENESIS'],\n",
      "      dtype=object), array([11, 11, 11], dtype=int64), 11)\n",
      "GO_MAMMARY_GLAND_DEVELOPMENT\n",
      "142 36 0 27\n"
     ]
    },
    {
     "name": "stderr",
     "output_type": "stream",
     "text": [
      "2020-07-26 18:17:17,877 Connecting to Enrichr Server to get latest library names\n",
      "2020-07-26 18:17:17,971 using all annotated genes with GO_ID as background genes\n",
      "2020-07-26 18:17:18,010 Background: found 19041 genes\n",
      "2020-07-26 18:17:20,974 Save file of enrichment results: Job Id:2216812630808\n",
      "2020-07-26 18:17:21,705 Done.\n",
      "\n"
     ]
    },
    {
     "name": "stdout",
     "output_type": "stream",
     "text": [
      "mutation result (27, array(['GO_REGULATION_OF_CELL_POPULATION_PROLIFERATION',\n",
      "       'GO_EPITHELIAL_CELL_PROLIFERATION', 'GO_TUBE_MORPHOGENESIS'],\n",
      "      dtype=object), array([18, 15, 14], dtype=int64), 20)\n",
      "0\n",
      "0\n",
      "0\n",
      "76\n",
      "0\n",
      "208\n",
      "222\n",
      "0\n",
      "256\n",
      "0\n",
      "GO_REPRODUCTION\n",
      "1457 334 176 278\n"
     ]
    },
    {
     "name": "stderr",
     "output_type": "stream",
     "text": [
      "2020-07-26 18:17:27,824 Connecting to Enrichr Server to get latest library names\n",
      "2020-07-26 18:17:27,907 using all annotated genes with GO_ID as background genes\n",
      "2020-07-26 18:17:27,945 Background: found 19041 genes\n",
      "2020-07-26 18:17:34,401 Save file of enrichment results: Job Id:2216812630808\n",
      "2020-07-26 18:17:35,270 Done.\n",
      "\n"
     ]
    },
    {
     "name": "stdout",
     "output_type": "stream",
     "text": [
      "mutation result (278, array(['GO_REGULATION_OF_CELL_POPULATION_PROLIFERATION',\n",
      "       'GO_CHROMOSOME_ORGANIZATION',\n",
      "       'GO_POSITIVE_REGULATION_OF_SIGNALING'], dtype=object), array([72, 64, 55], dtype=int64), 133)\n",
      "GO_NEURON_DIFFERENTIATION\n",
      "1365 254 303 259\n"
     ]
    },
    {
     "name": "stderr",
     "output_type": "stream",
     "text": [
      "2020-07-26 18:17:42,660 Connecting to Enrichr Server to get latest library names\n",
      "2020-07-26 18:17:42,744 using all annotated genes with GO_ID as background genes\n",
      "2020-07-26 18:17:42,775 Background: found 19041 genes\n",
      "2020-07-26 18:17:48,868 Save file of enrichment results: Job Id:2216812630808\n",
      "2020-07-26 18:17:49,670 Done.\n",
      "\n"
     ]
    },
    {
     "name": "stdout",
     "output_type": "stream",
     "text": [
      "mutation result (259, array(['GO_CELL_PROJECTION_ORGANIZATION',\n",
      "       'GO_CELLULAR_COMPONENT_MORPHOGENESIS',\n",
      "       'GO_CELL_PART_MORPHOGENESIS'], dtype=object), array([195, 161, 147], dtype=int64), 202)\n",
      "GO_FOREBRAIN_DEVELOPMENT\n",
      "383 71 0 83\n"
     ]
    },
    {
     "name": "stderr",
     "output_type": "stream",
     "text": [
      "2020-07-26 18:17:59,744 Connecting to Enrichr Server to get latest library names\n",
      "2020-07-26 18:17:59,832 using all annotated genes with GO_ID as background genes\n",
      "2020-07-26 18:17:59,865 Background: found 19041 genes\n",
      "2020-07-26 18:18:04,088 Save file of enrichment results: Job Id:2216812630808\n",
      "2020-07-26 18:18:04,784 Done.\n",
      "\n"
     ]
    },
    {
     "name": "stdout",
     "output_type": "stream",
     "text": [
      "mutation result (83, array(['GO_REGULATION_OF_CELL_POPULATION_PROLIFERATION',\n",
      "       'GO_CELL_PROJECTION_ORGANIZATION', 'GO_ANIMAL_ORGAN_MORPHOGENESIS'],\n",
      "      dtype=object), array([40, 37, 34], dtype=int64), 65)\n",
      "GO_NEURON_DEVELOPMENT\n",
      "1114 195 264 168\n"
     ]
    },
    {
     "name": "stderr",
     "output_type": "stream",
     "text": [
      "2020-07-26 18:18:12,017 Connecting to Enrichr Server to get latest library names\n",
      "2020-07-26 18:18:12,125 using all annotated genes with GO_ID as background genes\n",
      "2020-07-26 18:18:12,171 Background: found 19041 genes\n",
      "2020-07-26 18:18:17,469 Save file of enrichment results: Job Id:2216812630808\n",
      "2020-07-26 18:18:18,148 Done.\n",
      "\n"
     ]
    },
    {
     "name": "stdout",
     "output_type": "stream",
     "text": [
      "mutation result (168, array(['GO_CELL_PROJECTION_ORGANIZATION',\n",
      "       'GO_CELLULAR_COMPONENT_MORPHOGENESIS',\n",
      "       'GO_CELL_PART_MORPHOGENESIS'], dtype=object), array([153, 126, 120], dtype=int64), 154)\n",
      "GO_MAMMARY_GLAND_DEVELOPMENT\n",
      "142 31 0 0\n",
      "GO_OSTEOBLAST_DIFFERENTIATION\n",
      "223 58 0 0\n",
      "GO_BONE_DEVELOPMENT\n",
      "219 56 0 36\n"
     ]
    },
    {
     "name": "stderr",
     "output_type": "stream",
     "text": [
      "2020-07-26 18:18:25,555 Connecting to Enrichr Server to get latest library names\n",
      "2020-07-26 18:18:25,635 using all annotated genes with GO_ID as background genes\n",
      "2020-07-26 18:18:25,676 Background: found 19041 genes\n",
      "2020-07-26 18:18:28,544 Save file of enrichment results: Job Id:2216812630808\n",
      "2020-07-26 18:18:29,141 Done.\n",
      "\n"
     ]
    },
    {
     "name": "stdout",
     "output_type": "stream",
     "text": [
      "mutation result (36, array(['GO_ANIMAL_ORGAN_MORPHOGENESIS', 'GO_BONE_MORPHOGENESIS',\n",
      "       'GO_SKELETAL_SYSTEM_MORPHOGENESIS'], dtype=object), array([28, 19, 19], dtype=int64), 28)\n",
      "GO_EAR_DEVELOPMENT\n",
      "220 54 0 48\n"
     ]
    },
    {
     "name": "stderr",
     "output_type": "stream",
     "text": [
      "2020-07-26 18:18:34,004 Connecting to Enrichr Server to get latest library names\n",
      "2020-07-26 18:18:34,085 using all annotated genes with GO_ID as background genes\n",
      "2020-07-26 18:18:34,120 Background: found 19041 genes\n",
      "2020-07-26 18:18:37,320 Save file of enrichment results: Job Id:2216812630808\n",
      "2020-07-26 18:18:37,950 Done.\n",
      "\n"
     ]
    },
    {
     "name": "stdout",
     "output_type": "stream",
     "text": [
      "mutation result (48, array(['GO_ANIMAL_ORGAN_MORPHOGENESIS', 'GO_EMBRYONIC_MORPHOGENESIS',\n",
      "       'GO_EMBRYONIC_ORGAN_MORPHOGENESIS'], dtype=object), array([38, 35, 32], dtype=int64), 40)\n",
      "GO_CHONDROCYTE_DIFFERENTIATION\n",
      "123 28 0 25\n"
     ]
    },
    {
     "name": "stderr",
     "output_type": "stream",
     "text": [
      "2020-07-26 18:18:42,567 Connecting to Enrichr Server to get latest library names\n",
      "2020-07-26 18:18:42,646 using all annotated genes with GO_ID as background genes\n",
      "2020-07-26 18:18:42,676 Background: found 19041 genes\n",
      "2020-07-26 18:18:45,183 Save file of enrichment results: Job Id:2216812630808\n",
      "2020-07-26 18:18:45,847 Done.\n",
      "\n"
     ]
    },
    {
     "name": "stdout",
     "output_type": "stream",
     "text": [
      "mutation result (25, array(['GO_ANIMAL_ORGAN_MORPHOGENESIS',\n",
      "       'GO_SKELETAL_SYSTEM_MORPHOGENESIS', 'GO_BONE_MORPHOGENESIS'],\n",
      "      dtype=object), array([20, 20, 16], dtype=int64), 20)\n",
      "GO_CARDIAC_MUSCLE_TISSUE_DEVELOPMENT\n",
      "231 39 0 30\n"
     ]
    },
    {
     "name": "stderr",
     "output_type": "stream",
     "text": [
      "2020-07-26 18:18:48,917 Connecting to Enrichr Server to get latest library names\n",
      "2020-07-26 18:18:49,002 using all annotated genes with GO_ID as background genes\n",
      "2020-07-26 18:18:49,031 Background: found 19041 genes\n",
      "2020-07-26 18:18:52,171 Save file of enrichment results: Job Id:2216812630808\n",
      "2020-07-26 18:18:52,938 Done.\n",
      "\n"
     ]
    },
    {
     "name": "stdout",
     "output_type": "stream",
     "text": [
      "mutation result (30, array(['GO_ANATOMICAL_STRUCTURE_FORMATION_INVOLVED_IN_MORPHOGENESIS',\n",
      "       'GO_ANIMAL_ORGAN_MORPHOGENESIS', 'GO_TISSUE_MORPHOGENESIS'],\n",
      "      dtype=object), array([23, 22, 22], dtype=int64), 28)\n",
      "GO_NEPHRON_DEVELOPMENT\n",
      "143 46 0 38\n"
     ]
    },
    {
     "name": "stderr",
     "output_type": "stream",
     "text": [
      "2020-07-26 18:18:57,477 Connecting to Enrichr Server to get latest library names\n",
      "2020-07-26 18:18:57,560 using all annotated genes with GO_ID as background genes\n",
      "2020-07-26 18:18:57,595 Background: found 19041 genes\n",
      "2020-07-26 18:19:00,570 Save file of enrichment results: Job Id:2216812630808\n",
      "2020-07-26 18:19:01,243 Done.\n",
      "\n"
     ]
    },
    {
     "name": "stdout",
     "output_type": "stream",
     "text": [
      "mutation result (38, array(['GO_TUBE_MORPHOGENESIS', 'GO_ANIMAL_ORGAN_MORPHOGENESIS',\n",
      "       'GO_TISSUE_MORPHOGENESIS'], dtype=object), array([32, 30, 28], dtype=int64), 34)\n",
      "GO_CHONDROCYTE_DEVELOPMENT\n",
      "46 14 0 10\n"
     ]
    },
    {
     "name": "stderr",
     "output_type": "stream",
     "text": [
      "2020-07-26 18:19:07,401 Connecting to Enrichr Server to get latest library names\n",
      "2020-07-26 18:19:07,484 using all annotated genes with GO_ID as background genes\n",
      "2020-07-26 18:19:07,523 Background: found 19041 genes\n",
      "2020-07-26 18:19:08,913 Save file of enrichment results: Job Id:2216812630808\n",
      "2020-07-26 18:19:09,544 Done.\n",
      "\n"
     ]
    },
    {
     "name": "stdout",
     "output_type": "stream",
     "text": [
      "mutation result (10, array(['GO_ANIMAL_ORGAN_MORPHOGENESIS',\n",
      "       'GO_SKELETAL_SYSTEM_MORPHOGENESIS', 'GO_BONE_MORPHOGENESIS'],\n",
      "      dtype=object), array([10, 10,  9], dtype=int64), 10)\n",
      "GO_OOCYTE_DIFFERENTIATION\n",
      "50 15 0 10\n"
     ]
    },
    {
     "name": "stderr",
     "output_type": "stream",
     "text": [
      "2020-07-26 18:19:11,187 Connecting to Enrichr Server to get latest library names\n",
      "2020-07-26 18:19:11,275 using all annotated genes with GO_ID as background genes\n",
      "2020-07-26 18:19:11,306 Background: found 19041 genes\n",
      "2020-07-26 18:19:12,976 Save file of enrichment results: Job Id:2216812630808\n",
      "2020-07-26 18:19:13,526 Done.\n",
      "\n"
     ]
    },
    {
     "name": "stdout",
     "output_type": "stream",
     "text": [
      "mutation result (10, array(['GO_CHROMOSOME_ORGANIZATION', 'GO_CHROMATIN_ORGANIZATION',\n",
      "       'GO_REGULATION_OF_CELL_POPULATION_PROLIFERATION'], dtype=object), array([5, 5, 4], dtype=int64), 5)\n",
      "GO_HINDBRAIN_DEVELOPMENT\n",
      "151 24 0 0\n",
      "GO_MESONEPHROS_DEVELOPMENT\n",
      "101 30 0 26\n"
     ]
    },
    {
     "name": "stderr",
     "output_type": "stream",
     "text": [
      "2020-07-26 18:19:16,092 Connecting to Enrichr Server to get latest library names\n",
      "2020-07-26 18:19:16,161 using all annotated genes with GO_ID as background genes\n",
      "2020-07-26 18:19:16,184 Background: found 19041 genes\n",
      "2020-07-26 18:19:18,984 Save file of enrichment results: Job Id:2216812630808\n",
      "2020-07-26 18:19:19,559 Done.\n",
      "\n"
     ]
    },
    {
     "name": "stdout",
     "output_type": "stream",
     "text": [
      "mutation result (26, array(['GO_TISSUE_MORPHOGENESIS', 'GO_TUBE_MORPHOGENESIS',\n",
      "       'GO_ANIMAL_ORGAN_MORPHOGENESIS'], dtype=object), array([25, 25, 25], dtype=int64), 26)\n",
      "GO_METANEPHROS_DEVELOPMENT\n",
      "92 31 0 22\n"
     ]
    },
    {
     "name": "stderr",
     "output_type": "stream",
     "text": [
      "2020-07-26 18:19:25,050 Connecting to Enrichr Server to get latest library names\n",
      "2020-07-26 18:19:25,134 using all annotated genes with GO_ID as background genes\n",
      "2020-07-26 18:19:25,169 Background: found 19041 genes\n",
      "2020-07-26 18:19:28,087 Save file of enrichment results: Job Id:2216812630808\n",
      "2020-07-26 18:19:28,887 Done.\n",
      "\n"
     ]
    },
    {
     "name": "stdout",
     "output_type": "stream",
     "text": [
      "mutation result (22, array(['GO_TUBE_MORPHOGENESIS', 'GO_ANIMAL_ORGAN_MORPHOGENESIS',\n",
      "       'GO_TISSUE_MORPHOGENESIS'], dtype=object), array([19, 19, 16], dtype=int64), 21)\n",
      "0\n",
      "0\n",
      "0\n",
      "0\n",
      "0\n",
      "0\n",
      "0\n",
      "0\n",
      "0\n",
      "0\n",
      "264\n",
      "176\n",
      "0\n",
      "303\n",
      "0\n",
      "0\n",
      "GO_REPRODUCTION\n",
      "1457 352 0 249\n"
     ]
    },
    {
     "name": "stderr",
     "output_type": "stream",
     "text": [
      "2020-07-26 18:19:33,746 Connecting to Enrichr Server to get latest library names\n",
      "2020-07-26 18:19:33,838 using all annotated genes with GO_ID as background genes\n",
      "2020-07-26 18:19:33,875 Background: found 19041 genes\n",
      "2020-07-26 18:19:39,845 Save file of enrichment results: Job Id:2216812630808\n",
      "2020-07-26 18:19:40,532 Done.\n",
      "\n"
     ]
    },
    {
     "name": "stdout",
     "output_type": "stream",
     "text": [
      "mutation result (249, array(['GO_CHROMOSOME_ORGANIZATION',\n",
      "       'GO_REGULATION_OF_CELL_POPULATION_PROLIFERATION',\n",
      "       'GO_REGULATION_OF_ORGANELLE_ORGANIZATION'], dtype=object), array([58, 56, 41], dtype=int64), 113)\n",
      "GO_NEURON_DIFFERENTIATION\n",
      "1365 290 0 170\n"
     ]
    },
    {
     "name": "stderr",
     "output_type": "stream",
     "text": [
      "2020-07-26 18:19:46,212 Connecting to Enrichr Server to get latest library names\n",
      "2020-07-26 18:19:46,290 using all annotated genes with GO_ID as background genes\n",
      "2020-07-26 18:19:46,320 Background: found 19041 genes\n",
      "2020-07-26 18:19:51,209 Save file of enrichment results: Job Id:2216812630808\n",
      "2020-07-26 18:19:52,134 Done.\n",
      "\n"
     ]
    },
    {
     "name": "stdout",
     "output_type": "stream",
     "text": [
      "mutation result (170, array(['GO_CELL_PROJECTION_ORGANIZATION',\n",
      "       'GO_CELLULAR_COMPONENT_MORPHOGENESIS',\n",
      "       'GO_CELL_PART_MORPHOGENESIS'], dtype=object), array([140, 119, 111], dtype=int64), 144)\n",
      "GO_NEURON_DEVELOPMENT\n",
      "1114 231 0 149\n"
     ]
    },
    {
     "name": "stderr",
     "output_type": "stream",
     "text": [
      "2020-07-26 18:19:58,685 Connecting to Enrichr Server to get latest library names\n",
      "2020-07-26 18:19:58,766 using all annotated genes with GO_ID as background genes\n",
      "2020-07-26 18:19:58,801 Background: found 19041 genes\n",
      "2020-07-26 18:20:03,675 Save file of enrichment results: Job Id:2216812630808\n",
      "2020-07-26 18:20:04,574 Done.\n",
      "\n"
     ]
    },
    {
     "name": "stdout",
     "output_type": "stream",
     "text": [
      "mutation result (149, array(['GO_CELL_PROJECTION_ORGANIZATION',\n",
      "       'GO_CELLULAR_COMPONENT_MORPHOGENESIS',\n",
      "       'GO_CELL_PART_MORPHOGENESIS'], dtype=object), array([138, 116, 111], dtype=int64), 139)\n",
      "GO_CHONDROCYTE_DIFFERENTIATION\n",
      "123 33 0 22\n"
     ]
    },
    {
     "name": "stderr",
     "output_type": "stream",
     "text": [
      "2020-07-26 18:20:11,158 Connecting to Enrichr Server to get latest library names\n",
      "2020-07-26 18:20:11,239 using all annotated genes with GO_ID as background genes\n",
      "2020-07-26 18:20:11,263 Background: found 19041 genes\n",
      "2020-07-26 18:20:13,144 Save file of enrichment results: Job Id:2216812630808\n",
      "2020-07-26 18:20:13,681 Done.\n",
      "\n"
     ]
    },
    {
     "name": "stdout",
     "output_type": "stream",
     "text": [
      "mutation result (22, array(['GO_ANIMAL_ORGAN_MORPHOGENESIS',\n",
      "       'GO_SKELETAL_SYSTEM_MORPHOGENESIS', 'GO_BONE_MORPHOGENESIS'],\n",
      "      dtype=object), array([17, 16, 14], dtype=int64), 17)\n",
      "GO_FOREBRAIN_DEVELOPMENT\n",
      "383 108 0 50\n"
     ]
    },
    {
     "name": "stderr",
     "output_type": "stream",
     "text": [
      "2020-07-26 18:20:16,060 Connecting to Enrichr Server to get latest library names\n",
      "2020-07-26 18:20:16,121 using all annotated genes with GO_ID as background genes\n",
      "2020-07-26 18:20:16,153 Background: found 19041 genes\n",
      "2020-07-26 18:20:18,945 Save file of enrichment results: Job Id:2216812630808\n",
      "2020-07-26 18:20:19,535 Done.\n",
      "\n"
     ]
    },
    {
     "name": "stdout",
     "output_type": "stream",
     "text": [
      "mutation result (50, array(['GO_CELL_PROJECTION_ORGANIZATION',\n",
      "       'GO_CELLULAR_COMPONENT_MORPHOGENESIS',\n",
      "       'GO_REGULATION_OF_CELL_POPULATION_PROLIFERATION'], dtype=object), array([25, 22, 20], dtype=int64), 35)\n",
      "GO_CHONDROCYTE_DEVELOPMENT\n",
      "46 17 0 14\n"
     ]
    },
    {
     "name": "stderr",
     "output_type": "stream",
     "text": [
      "2020-07-26 18:20:24,497 Connecting to Enrichr Server to get latest library names\n",
      "2020-07-26 18:20:24,576 using all annotated genes with GO_ID as background genes\n",
      "2020-07-26 18:20:24,601 Background: found 19041 genes\n",
      "2020-07-26 18:20:26,437 Save file of enrichment results: Job Id:2216812630808\n",
      "2020-07-26 18:20:27,057 Done.\n",
      "\n"
     ]
    },
    {
     "name": "stdout",
     "output_type": "stream",
     "text": [
      "mutation result (14, array(['GO_ANIMAL_ORGAN_MORPHOGENESIS',\n",
      "       'GO_SKELETAL_SYSTEM_MORPHOGENESIS',\n",
      "       'GO_ANATOMICAL_STRUCTURE_FORMATION_INVOLVED_IN_MORPHOGENESIS'],\n",
      "      dtype=object), array([12, 11, 10], dtype=int64), 14)\n",
      "GO_BONE_DEVELOPMENT\n",
      "219 67 0 38\n"
     ]
    },
    {
     "name": "stderr",
     "output_type": "stream",
     "text": [
      "2020-07-26 18:20:29,399 Connecting to Enrichr Server to get latest library names\n",
      "2020-07-26 18:20:29,484 using all annotated genes with GO_ID as background genes\n",
      "2020-07-26 18:20:29,516 Background: found 19041 genes\n",
      "2020-07-26 18:20:32,437 Save file of enrichment results: Job Id:2216812630808\n",
      "2020-07-26 18:20:33,035 Done.\n",
      "\n"
     ]
    },
    {
     "name": "stdout",
     "output_type": "stream",
     "text": [
      "mutation result (38, array(['GO_ANIMAL_ORGAN_MORPHOGENESIS',\n",
      "       'GO_SKELETAL_SYSTEM_MORPHOGENESIS', 'GO_BONE_MORPHOGENESIS'],\n",
      "      dtype=object), array([34, 21, 21], dtype=int64), 34)\n",
      "GO_NEPHRON_DEVELOPMENT\n",
      "143 29 0 27\n"
     ]
    },
    {
     "name": "stderr",
     "output_type": "stream",
     "text": [
      "2020-07-26 18:20:37,915 Connecting to Enrichr Server to get latest library names\n",
      "2020-07-26 18:20:37,975 using all annotated genes with GO_ID as background genes\n",
      "2020-07-26 18:20:38,005 Background: found 19041 genes\n",
      "2020-07-26 18:20:40,217 Save file of enrichment results: Job Id:2216812630808\n",
      "2020-07-26 18:20:40,812 Done.\n",
      "\n"
     ]
    },
    {
     "name": "stdout",
     "output_type": "stream",
     "text": [
      "mutation result (27, array(['GO_TUBE_MORPHOGENESIS',\n",
      "       'GO_ANATOMICAL_STRUCTURE_FORMATION_INVOLVED_IN_MORPHOGENESIS',\n",
      "       'GO_ANIMAL_ORGAN_MORPHOGENESIS'], dtype=object), array([23, 22, 21], dtype=int64), 25)\n",
      "GO_EAR_DEVELOPMENT\n",
      "220 54 0 32\n"
     ]
    },
    {
     "name": "stderr",
     "output_type": "stream",
     "text": [
      "2020-07-26 18:20:45,351 Connecting to Enrichr Server to get latest library names\n",
      "2020-07-26 18:20:45,434 using all annotated genes with GO_ID as background genes\n",
      "2020-07-26 18:20:45,460 Background: found 19041 genes\n",
      "2020-07-26 18:20:48,241 Save file of enrichment results: Job Id:2216812630808\n",
      "2020-07-26 18:20:48,971 Done.\n",
      "\n"
     ]
    },
    {
     "name": "stdout",
     "output_type": "stream",
     "text": [
      "mutation result (32, array(['GO_ANIMAL_ORGAN_MORPHOGENESIS', 'GO_EMBRYONIC_MORPHOGENESIS',\n",
      "       'GO_EMBRYONIC_ORGAN_MORPHOGENESIS'], dtype=object), array([28, 25, 23], dtype=int64), 30)\n",
      "GO_OSTEOBLAST_DIFFERENTIATION\n",
      "223 55 0 29\n"
     ]
    },
    {
     "name": "stderr",
     "output_type": "stream",
     "text": [
      "2020-07-26 18:20:52,638 Connecting to Enrichr Server to get latest library names\n",
      "2020-07-26 18:20:52,705 using all annotated genes with GO_ID as background genes\n",
      "2020-07-26 18:20:52,739 Background: found 19041 genes\n",
      "2020-07-26 18:20:54,928 Save file of enrichment results: Job Id:2216812630808\n",
      "2020-07-26 18:20:55,515 Done.\n",
      "\n"
     ]
    },
    {
     "name": "stdout",
     "output_type": "stream",
     "text": [
      "mutation result (29, array(['GO_CELL_CELL_SIGNALING', 'GO_ANIMAL_ORGAN_MORPHOGENESIS',\n",
      "       'GO_NEGATIVE_REGULATION_OF_SIGNALING'], dtype=object), array([15, 15, 14], dtype=int64), 21)\n",
      "GO_HINDBRAIN_DEVELOPMENT\n",
      "151 39 0 13\n"
     ]
    },
    {
     "name": "stderr",
     "output_type": "stream",
     "text": [
      "2020-07-26 18:20:59,353 Connecting to Enrichr Server to get latest library names\n",
      "2020-07-26 18:20:59,432 using all annotated genes with GO_ID as background genes\n",
      "2020-07-26 18:20:59,464 Background: found 19041 genes\n",
      "2020-07-26 18:21:01,664 Save file of enrichment results: Job Id:2216812630808\n",
      "2020-07-26 18:21:02,268 Done.\n",
      "\n"
     ]
    },
    {
     "name": "stdout",
     "output_type": "stream",
     "text": [
      "mutation result (13, array(['GO_REGULATION_OF_CELL_POPULATION_PROLIFERATION',\n",
      "       'GO_ANATOMICAL_STRUCTURE_FORMATION_INVOLVED_IN_MORPHOGENESIS',\n",
      "       'GO_CELLULAR_COMPONENT_MORPHOGENESIS'], dtype=object), array([8, 8, 7], dtype=int64), 12)\n",
      "GO_CARDIOCYTE_DIFFERENTIATION\n",
      "164 36 0 13\n"
     ]
    },
    {
     "name": "stderr",
     "output_type": "stream",
     "text": [
      "2020-07-26 18:21:05,611 Connecting to Enrichr Server to get latest library names\n",
      "2020-07-26 18:21:05,687 using all annotated genes with GO_ID as background genes\n",
      "2020-07-26 18:21:05,718 Background: found 19041 genes\n",
      "2020-07-26 18:21:07,716 Save file of enrichment results: Job Id:2216812630808\n",
      "2020-07-26 18:21:08,449 Done.\n",
      "\n"
     ]
    },
    {
     "name": "stdout",
     "output_type": "stream",
     "text": [
      "mutation result (13, array(['GO_ANATOMICAL_STRUCTURE_FORMATION_INVOLVED_IN_MORPHOGENESIS',\n",
      "       'GO_TISSUE_MORPHOGENESIS', 'GO_CELLULAR_COMPONENT_MORPHOGENESIS'],\n",
      "      dtype=object), array([11,  9,  9], dtype=int64), 11)\n",
      "GO_METANEPHROS_DEVELOPMENT\n",
      "92 20 0 18\n"
     ]
    },
    {
     "name": "stderr",
     "output_type": "stream",
     "text": [
      "2020-07-26 18:21:11,510 Connecting to Enrichr Server to get latest library names\n",
      "2020-07-26 18:21:11,598 using all annotated genes with GO_ID as background genes\n",
      "2020-07-26 18:21:11,629 Background: found 19041 genes\n",
      "2020-07-26 18:21:14,204 Save file of enrichment results: Job Id:2216812630808\n",
      "2020-07-26 18:21:14,825 Done.\n",
      "\n"
     ]
    },
    {
     "name": "stdout",
     "output_type": "stream",
     "text": [
      "mutation result (18, array(['GO_ANIMAL_ORGAN_MORPHOGENESIS', 'GO_TUBE_MORPHOGENESIS',\n",
      "       'GO_EMBRYONIC_MORPHOGENESIS'], dtype=object), array([15, 14, 12], dtype=int64), 16)\n",
      "GO_CARDIAC_MUSCLE_TISSUE_DEVELOPMENT\n",
      "231 47 0 20\n"
     ]
    },
    {
     "name": "stderr",
     "output_type": "stream",
     "text": [
      "2020-07-26 18:21:18,506 Connecting to Enrichr Server to get latest library names\n",
      "2020-07-26 18:21:18,585 using all annotated genes with GO_ID as background genes\n",
      "2020-07-26 18:21:18,613 Background: found 19041 genes\n",
      "2020-07-26 18:21:20,598 Save file of enrichment results: Job Id:2216812630808\n",
      "2020-07-26 18:21:21,233 Done.\n",
      "\n"
     ]
    },
    {
     "name": "stdout",
     "output_type": "stream",
     "text": [
      "mutation result (20, array(['GO_ANIMAL_ORGAN_MORPHOGENESIS', 'GO_TISSUE_MORPHOGENESIS',\n",
      "       'GO_ANATOMICAL_STRUCTURE_FORMATION_INVOLVED_IN_MORPHOGENESIS'],\n",
      "      dtype=object), array([14, 14, 13], dtype=int64), 17)\n",
      "GO_MESONEPHROS_DEVELOPMENT\n",
      "101 17 0 0\n",
      "GO_OOCYTE_DIFFERENTIATION\n",
      "50 15 0 7\n"
     ]
    },
    {
     "name": "stderr",
     "output_type": "stream",
     "text": [
      "2020-07-26 18:21:24,861 Connecting to Enrichr Server to get latest library names\n",
      "2020-07-26 18:21:24,943 using all annotated genes with GO_ID as background genes\n",
      "2020-07-26 18:21:24,978 Background: found 19041 genes\n",
      "2020-07-26 18:21:25,985 Save file of enrichment results: Job Id:2216812630808\n",
      "2020-07-26 18:21:26,617 Done.\n",
      "\n"
     ]
    },
    {
     "name": "stdout",
     "output_type": "stream",
     "text": [
      "mutation result (7, array(['GO_CHROMATIN_ORGANIZATION', 'GO_CHROMOSOME_ORGANIZATION',\n",
      "       'GO_REGULATION_OF_CELL_POPULATION_PROLIFERATION'], dtype=object), array([4, 4, 3], dtype=int64), 4)\n",
      "GO_METENCEPHALON_DEVELOPMENT\n",
      "111 30 0 8\n"
     ]
    },
    {
     "name": "stderr",
     "output_type": "stream",
     "text": [
      "2020-07-26 18:21:27,927 Connecting to Enrichr Server to get latest library names\n",
      "2020-07-26 18:21:28,014 using all annotated genes with GO_ID as background genes\n",
      "2020-07-26 18:21:28,048 Background: found 19041 genes\n",
      "2020-07-26 18:21:29,759 Save file of enrichment results: Job Id:2216812630808\n",
      "2020-07-26 18:21:30,308 Done.\n",
      "\n"
     ]
    },
    {
     "name": "stdout",
     "output_type": "stream",
     "text": [
      "mutation result (8, array(['GO_HINDBRAIN_MORPHOGENESIS', 'GO_EMBRYONIC_MORPHOGENESIS',\n",
      "       'GO_CEREBELLAR_CORTEX_MORPHOGENESIS'], dtype=object), array([6, 5, 5], dtype=int64), 8)\n",
      "0\n",
      "0\n",
      "0\n",
      "0\n",
      "0\n",
      "0\n",
      "0\n",
      "0\n",
      "0\n",
      "0\n",
      "0\n",
      "0\n",
      "0\n",
      "0\n",
      "0\n",
      "0\n",
      "0\n",
      "GO_NEURON_DIFFERENTIATION\n",
      "1365 256 0 138\n"
     ]
    },
    {
     "name": "stderr",
     "output_type": "stream",
     "text": [
      "2020-07-26 18:21:33,115 Connecting to Enrichr Server to get latest library names\n",
      "2020-07-26 18:21:33,214 using all annotated genes with GO_ID as background genes\n",
      "2020-07-26 18:21:33,241 Background: found 19041 genes\n",
      "2020-07-26 18:21:38,291 Save file of enrichment results: Job Id:2216812630808\n",
      "2020-07-26 18:21:38,930 Done.\n",
      "\n"
     ]
    },
    {
     "name": "stdout",
     "output_type": "stream",
     "text": [
      "mutation result (138, array(['GO_CELL_PROJECTION_ORGANIZATION',\n",
      "       'GO_CELLULAR_COMPONENT_MORPHOGENESIS',\n",
      "       'GO_CELL_PART_MORPHOGENESIS'], dtype=object), array([103,  78,  65], dtype=int64), 108)\n",
      "GO_REPRODUCTION\n",
      "1457 303 0 209\n"
     ]
    },
    {
     "name": "stderr",
     "output_type": "stream",
     "text": [
      "2020-07-26 18:21:46,380 Connecting to Enrichr Server to get latest library names\n",
      "2020-07-26 18:21:46,457 using all annotated genes with GO_ID as background genes\n",
      "2020-07-26 18:21:46,491 Background: found 19041 genes\n",
      "2020-07-26 18:21:51,829 Save file of enrichment results: Job Id:2216812630808\n",
      "2020-07-26 18:21:52,562 Done.\n",
      "\n"
     ]
    },
    {
     "name": "stdout",
     "output_type": "stream",
     "text": [
      "mutation result (209, array(['GO_CHROMOSOME_ORGANIZATION',\n",
      "       'GO_REGULATION_OF_CELL_POPULATION_PROLIFERATION',\n",
      "       'GO_RESPONSE_TO_HORMONE'], dtype=object), array([55, 51, 46], dtype=int64), 118)\n",
      "GO_NEURON_DEVELOPMENT\n",
      "1114 226 0 112\n"
     ]
    },
    {
     "name": "stderr",
     "output_type": "stream",
     "text": [
      "2020-07-26 18:21:59,078 Connecting to Enrichr Server to get latest library names\n",
      "2020-07-26 18:21:59,166 using all annotated genes with GO_ID as background genes\n",
      "2020-07-26 18:21:59,199 Background: found 19041 genes\n",
      "2020-07-26 18:22:03,737 Save file of enrichment results: Job Id:2216812630808\n",
      "2020-07-26 18:22:04,360 Done.\n",
      "\n"
     ]
    },
    {
     "name": "stdout",
     "output_type": "stream",
     "text": [
      "mutation result (112, array(['GO_CELL_PROJECTION_ORGANIZATION',\n",
      "       'GO_CELLULAR_COMPONENT_MORPHOGENESIS',\n",
      "       'GO_CELL_PART_MORPHOGENESIS'], dtype=object), array([102,  75,  65], dtype=int64), 104)\n",
      "GO_FOREBRAIN_DEVELOPMENT\n",
      "383 86 0 63\n"
     ]
    },
    {
     "name": "stderr",
     "output_type": "stream",
     "text": [
      "2020-07-26 18:22:10,897 Connecting to Enrichr Server to get latest library names\n",
      "2020-07-26 18:22:10,976 using all annotated genes with GO_ID as background genes\n",
      "2020-07-26 18:22:11,011 Background: found 19041 genes\n",
      "2020-07-26 18:22:14,551 Save file of enrichment results: Job Id:2216812630808\n",
      "2020-07-26 18:22:15,165 Done.\n",
      "\n"
     ]
    },
    {
     "name": "stdout",
     "output_type": "stream",
     "text": [
      "mutation result (63, array(['GO_ANIMAL_ORGAN_MORPHOGENESIS', 'GO_CELL_PROJECTION_ORGANIZATION',\n",
      "       'GO_TUBE_MORPHOGENESIS'], dtype=object), array([28, 28, 25], dtype=int64), 44)\n",
      "GO_OLIGODENDROCYTE_DIFFERENTIATION\n",
      "96 15 11 15\n"
     ]
    },
    {
     "name": "stderr",
     "output_type": "stream",
     "text": [
      "2020-07-26 18:22:20,870 Connecting to Enrichr Server to get latest library names\n",
      "2020-07-26 18:22:20,953 using all annotated genes with GO_ID as background genes\n",
      "2020-07-26 18:22:20,984 Background: found 19041 genes\n",
      "2020-07-26 18:22:23,698 Save file of enrichment results: Job Id:2216812630808\n",
      "2020-07-26 18:22:24,435 Done.\n",
      "\n"
     ]
    },
    {
     "name": "stdout",
     "output_type": "stream",
     "text": [
      "mutation result (15, array(['GO_POSITIVE_REGULATION_OF_SIGNALING',\n",
      "       'GO_REGULATION_OF_CELL_POPULATION_PROLIFERATION',\n",
      "       'GO_NEGATIVE_REGULATION_OF_SIGNALING'], dtype=object), array([9, 8, 7], dtype=int64), 10)\n",
      "GO_BONE_DEVELOPMENT\n",
      "219 60 0 30\n"
     ]
    },
    {
     "name": "stderr",
     "output_type": "stream",
     "text": [
      "2020-07-26 18:22:28,879 Connecting to Enrichr Server to get latest library names\n",
      "2020-07-26 18:22:28,948 using all annotated genes with GO_ID as background genes\n",
      "2020-07-26 18:22:28,973 Background: found 19041 genes\n",
      "2020-07-26 18:22:31,728 Save file of enrichment results: Job Id:2216812630808\n",
      "2020-07-26 18:22:32,335 Done.\n",
      "\n"
     ]
    },
    {
     "name": "stdout",
     "output_type": "stream",
     "text": [
      "mutation result (30, array(['GO_ANIMAL_ORGAN_MORPHOGENESIS',\n",
      "       'GO_SKELETAL_SYSTEM_MORPHOGENESIS', 'GO_BONE_MORPHOGENESIS'],\n",
      "      dtype=object), array([28, 16, 15], dtype=int64), 28)\n",
      "GO_GLIAL_CELL_DIFFERENTIATION\n",
      "217 40 0 0\n",
      "GO_GLIAL_CELL_DEVELOPMENT\n",
      "116 25 0 13\n"
     ]
    },
    {
     "name": "stderr",
     "output_type": "stream",
     "text": [
      "2020-07-26 18:22:36,091 Connecting to Enrichr Server to get latest library names\n",
      "2020-07-26 18:22:36,168 using all annotated genes with GO_ID as background genes\n",
      "2020-07-26 18:22:36,198 Background: found 19041 genes\n",
      "2020-07-26 18:22:38,088 Save file of enrichment results: Job Id:2216812630808\n",
      "2020-07-26 18:22:38,837 Done.\n",
      "\n"
     ]
    },
    {
     "name": "stdout",
     "output_type": "stream",
     "text": [
      "mutation result (13, array(['GO_ANATOMICAL_STRUCTURE_FORMATION_INVOLVED_IN_MORPHOGENESIS',\n",
      "       'GO_ANIMAL_ORGAN_MORPHOGENESIS', 'GO_BIOLOGICAL_ADHESION'],\n",
      "      dtype=object), array([5, 5, 5], dtype=int64), 7)\n",
      "GO_OSTEOBLAST_DIFFERENTIATION\n",
      "223 47 0 0\n",
      "0\n",
      "0\n",
      "0\n",
      "0\n",
      "0\n",
      "0\n",
      "0\n",
      "11\n",
      "0\n",
      "GO_REPRODUCTION\n",
      "1457 304 271 278\n"
     ]
    },
    {
     "name": "stderr",
     "output_type": "stream",
     "text": [
      "2020-07-26 18:22:41,792 Connecting to Enrichr Server to get latest library names\n",
      "2020-07-26 18:22:41,870 using all annotated genes with GO_ID as background genes\n",
      "2020-07-26 18:22:41,901 Background: found 19041 genes\n",
      "2020-07-26 18:22:48,100 Save file of enrichment results: Job Id:2216812630808\n",
      "2020-07-26 18:22:48,828 Done.\n",
      "\n"
     ]
    },
    {
     "name": "stdout",
     "output_type": "stream",
     "text": [
      "mutation result (278, array(['GO_CHROMOSOME_ORGANIZATION',\n",
      "       'GO_REGULATION_OF_CELL_POPULATION_PROLIFERATION',\n",
      "       'GO_RESPONSE_TO_HORMONE'], dtype=object), array([64, 62, 59], dtype=int64), 143)\n",
      "GO_NEURON_DIFFERENTIATION\n",
      "1365 301 275 200\n"
     ]
    },
    {
     "name": "stderr",
     "output_type": "stream",
     "text": [
      "2020-07-26 18:22:55,150 Connecting to Enrichr Server to get latest library names\n",
      "2020-07-26 18:22:55,239 using all annotated genes with GO_ID as background genes\n",
      "2020-07-26 18:22:55,271 Background: found 19041 genes\n",
      "2020-07-26 18:23:00,764 Save file of enrichment results: Job Id:2216812630808\n",
      "2020-07-26 18:23:01,458 Done.\n",
      "\n"
     ]
    },
    {
     "name": "stdout",
     "output_type": "stream",
     "text": [
      "mutation result (200, array(['GO_CELL_PROJECTION_ORGANIZATION',\n",
      "       'GO_CELLULAR_COMPONENT_MORPHOGENESIS',\n",
      "       'GO_CELL_PART_MORPHOGENESIS'], dtype=object), array([150, 110,  94], dtype=int64), 157)\n",
      "GO_NEURON_DEVELOPMENT\n",
      "1114 229 253 133\n"
     ]
    },
    {
     "name": "stderr",
     "output_type": "stream",
     "text": [
      "2020-07-26 18:23:09,918 Connecting to Enrichr Server to get latest library names\n",
      "2020-07-26 18:23:10,000 using all annotated genes with GO_ID as background genes\n",
      "2020-07-26 18:23:10,023 Background: found 19041 genes\n",
      "2020-07-26 18:23:14,775 Save file of enrichment results: Job Id:2216812630808\n",
      "2020-07-26 18:23:15,411 Done.\n",
      "\n"
     ]
    },
    {
     "name": "stdout",
     "output_type": "stream",
     "text": [
      "mutation result (133, array(['GO_CELL_PROJECTION_ORGANIZATION',\n",
      "       'GO_CELLULAR_COMPONENT_MORPHOGENESIS',\n",
      "       'GO_CELL_PART_MORPHOGENESIS'], dtype=object), array([123,  86,  78], dtype=int64), 125)\n",
      "GO_FOREBRAIN_DEVELOPMENT\n",
      "383 79 0 45\n"
     ]
    },
    {
     "name": "stderr",
     "output_type": "stream",
     "text": [
      "2020-07-26 18:23:21,837 Connecting to Enrichr Server to get latest library names\n",
      "2020-07-26 18:23:21,920 using all annotated genes with GO_ID as background genes\n",
      "2020-07-26 18:23:21,947 Background: found 19041 genes\n",
      "2020-07-26 18:23:25,307 Save file of enrichment results: Job Id:2216812630808\n",
      "2020-07-26 18:23:25,925 Done.\n",
      "\n"
     ]
    },
    {
     "name": "stdout",
     "output_type": "stream",
     "text": [
      "mutation result (45, array(['GO_REGULATION_OF_CELL_POPULATION_PROLIFERATION',\n",
      "       'GO_CELL_PROJECTION_ORGANIZATION', 'GO_ANIMAL_ORGAN_MORPHOGENESIS'],\n",
      "      dtype=object), array([22, 22, 18], dtype=int64), 37)\n",
      "GO_MAMMARY_GLAND_DEVELOPMENT\n",
      "142 29 32 0\n",
      "GO_GLIAL_CELL_DIFFERENTIATION\n",
      "217 40 0 34\n"
     ]
    },
    {
     "name": "stderr",
     "output_type": "stream",
     "text": [
      "2020-07-26 18:23:30,976 Connecting to Enrichr Server to get latest library names\n",
      "2020-07-26 18:23:31,055 using all annotated genes with GO_ID as background genes\n",
      "2020-07-26 18:23:31,085 Background: found 19041 genes\n",
      "2020-07-26 18:23:34,270 Save file of enrichment results: Job Id:2216812630808\n",
      "2020-07-26 18:23:34,950 Done.\n",
      "\n"
     ]
    },
    {
     "name": "stdout",
     "output_type": "stream",
     "text": [
      "mutation result (34, array(['GO_POSITIVE_REGULATION_OF_SIGNALING',\n",
      "       'GO_REGULATION_OF_CELL_POPULATION_PROLIFERATION',\n",
      "       'GO_BIOLOGICAL_ADHESION'], dtype=object), array([16, 15, 15], dtype=int64), 23)\n",
      "GO_HINDBRAIN_DEVELOPMENT\n",
      "151 29 0 0\n",
      "0\n",
      "0\n",
      "32\n",
      "253\n",
      "271\n",
      "0\n",
      "275\n",
      "GO_REPRODUCTION\n",
      "1457 321 224 197\n"
     ]
    },
    {
     "name": "stderr",
     "output_type": "stream",
     "text": [
      "2020-07-26 18:23:42,109 Connecting to Enrichr Server to get latest library names\n",
      "2020-07-26 18:23:42,191 using all annotated genes with GO_ID as background genes\n",
      "2020-07-26 18:23:42,219 Background: found 19041 genes\n",
      "2020-07-26 18:23:47,563 Save file of enrichment results: Job Id:2216812630808\n",
      "2020-07-26 18:23:48,369 Done.\n",
      "\n"
     ]
    },
    {
     "name": "stdout",
     "output_type": "stream",
     "text": [
      "mutation result (197, array(['GO_REGULATION_OF_CELL_POPULATION_PROLIFERATION',\n",
      "       'GO_RESPONSE_TO_HORMONE', 'GO_POSITIVE_REGULATION_OF_SIGNALING'],\n",
      "      dtype=object), array([56, 45, 42], dtype=int64), 87)\n",
      "GO_FOREBRAIN_DEVELOPMENT\n",
      "383 75 0 60\n"
     ]
    },
    {
     "name": "stderr",
     "output_type": "stream",
     "text": [
      "2020-07-26 18:23:54,696 Connecting to Enrichr Server to get latest library names\n",
      "2020-07-26 18:23:54,746 using all annotated genes with GO_ID as background genes\n",
      "2020-07-26 18:23:54,771 Background: found 19041 genes\n",
      "2020-07-26 18:23:58,711 Save file of enrichment results: Job Id:2216812630808\n",
      "2020-07-26 18:23:59,344 Done.\n",
      "\n"
     ]
    },
    {
     "name": "stdout",
     "output_type": "stream",
     "text": [
      "mutation result (60, array(['GO_CELL_PROJECTION_ORGANIZATION',\n",
      "       'GO_CELLULAR_COMPONENT_MORPHOGENESIS',\n",
      "       'GO_REGULATION_OF_CELL_POPULATION_PROLIFERATION'], dtype=object), array([33, 29, 27], dtype=int64), 43)\n",
      "GO_NEURON_DIFFERENTIATION\n",
      "1365 320 268 226\n"
     ]
    },
    {
     "name": "stderr",
     "output_type": "stream",
     "text": [
      "2020-07-26 18:24:05,360 Connecting to Enrichr Server to get latest library names\n",
      "2020-07-26 18:24:05,423 using all annotated genes with GO_ID as background genes\n",
      "2020-07-26 18:24:05,448 Background: found 19041 genes\n",
      "2020-07-26 18:24:11,409 Save file of enrichment results: Job Id:2216812630808\n",
      "2020-07-26 18:24:12,120 Done.\n",
      "\n"
     ]
    },
    {
     "name": "stdout",
     "output_type": "stream",
     "text": [
      "mutation result (226, array(['GO_CELL_PROJECTION_ORGANIZATION',\n",
      "       'GO_CELLULAR_COMPONENT_MORPHOGENESIS',\n",
      "       'GO_CELL_PART_MORPHOGENESIS'], dtype=object), array([170, 139, 123], dtype=int64), 176)\n",
      "GO_NEURON_DEVELOPMENT\n",
      "1114 248 226 184\n"
     ]
    },
    {
     "name": "stderr",
     "output_type": "stream",
     "text": [
      "2020-07-26 18:24:20,353 Connecting to Enrichr Server to get latest library names\n",
      "2020-07-26 18:24:20,432 using all annotated genes with GO_ID as background genes\n",
      "2020-07-26 18:24:20,463 Background: found 19041 genes\n",
      "2020-07-26 18:24:26,153 Save file of enrichment results: Job Id:2216812630808\n",
      "2020-07-26 18:24:26,901 Done.\n",
      "\n"
     ]
    },
    {
     "name": "stdout",
     "output_type": "stream",
     "text": [
      "mutation result (184, array(['GO_CELL_PROJECTION_ORGANIZATION',\n",
      "       'GO_CELLULAR_COMPONENT_MORPHOGENESIS',\n",
      "       'GO_CELL_PART_MORPHOGENESIS'], dtype=object), array([166, 134, 122], dtype=int64), 168)\n",
      "GO_CARDIAC_MUSCLE_TISSUE_DEVELOPMENT\n",
      "231 49 0 30\n"
     ]
    },
    {
     "name": "stderr",
     "output_type": "stream",
     "text": [
      "2020-07-26 18:24:34,020 Connecting to Enrichr Server to get latest library names\n",
      "2020-07-26 18:24:34,079 using all annotated genes with GO_ID as background genes\n",
      "2020-07-26 18:24:34,103 Background: found 19041 genes\n",
      "2020-07-26 18:24:36,665 Save file of enrichment results: Job Id:2216812630808\n",
      "2020-07-26 18:24:37,239 Done.\n",
      "\n"
     ]
    },
    {
     "name": "stdout",
     "output_type": "stream",
     "text": [
      "mutation result (30, array(['GO_TISSUE_MORPHOGENESIS', 'GO_ANIMAL_ORGAN_MORPHOGENESIS',\n",
      "       'GO_ANATOMICAL_STRUCTURE_FORMATION_INVOLVED_IN_MORPHOGENESIS'],\n",
      "      dtype=object), array([19, 19, 18], dtype=int64), 23)\n",
      "GO_BONE_DEVELOPMENT\n",
      "219 49 0 47\n"
     ]
    },
    {
     "name": "stderr",
     "output_type": "stream",
     "text": [
      "2020-07-26 18:24:42,115 Connecting to Enrichr Server to get latest library names\n",
      "2020-07-26 18:24:42,190 using all annotated genes with GO_ID as background genes\n",
      "2020-07-26 18:24:42,223 Background: found 19041 genes\n",
      "2020-07-26 18:24:45,780 Save file of enrichment results: Job Id:2216812630808\n",
      "2020-07-26 18:24:46,558 Done.\n",
      "\n"
     ]
    },
    {
     "name": "stdout",
     "output_type": "stream",
     "text": [
      "mutation result (47, array(['GO_ANIMAL_ORGAN_MORPHOGENESIS',\n",
      "       'GO_SKELETAL_SYSTEM_MORPHOGENESIS', 'GO_BONE_MORPHOGENESIS'],\n",
      "      dtype=object), array([35, 27, 25], dtype=int64), 35)\n",
      "GO_EAR_DEVELOPMENT\n",
      "220 54 0 42\n"
     ]
    },
    {
     "name": "stderr",
     "output_type": "stream",
     "text": [
      "2020-07-26 18:24:51,198 Connecting to Enrichr Server to get latest library names\n",
      "2020-07-26 18:24:51,281 using all annotated genes with GO_ID as background genes\n",
      "2020-07-26 18:24:51,319 Background: found 19041 genes\n",
      "2020-07-26 18:24:54,454 Save file of enrichment results: Job Id:2216812630808\n",
      "2020-07-26 18:24:55,299 Done.\n",
      "\n"
     ]
    },
    {
     "name": "stdout",
     "output_type": "stream",
     "text": [
      "mutation result (42, array(['GO_ANIMAL_ORGAN_MORPHOGENESIS', 'GO_EMBRYONIC_MORPHOGENESIS',\n",
      "       'GO_EMBRYONIC_ORGAN_MORPHOGENESIS'], dtype=object), array([34, 32, 30], dtype=int64), 35)\n",
      "GO_CHONDROCYTE_DIFFERENTIATION\n",
      "123 34 0 12\n"
     ]
    },
    {
     "name": "stderr",
     "output_type": "stream",
     "text": [
      "2020-07-26 18:24:58,915 Connecting to Enrichr Server to get latest library names\n",
      "2020-07-26 18:24:58,994 using all annotated genes with GO_ID as background genes\n",
      "2020-07-26 18:24:59,024 Background: found 19041 genes\n",
      "2020-07-26 18:25:00,680 Save file of enrichment results: Job Id:2216812630808\n",
      "2020-07-26 18:25:01,199 Done.\n",
      "\n"
     ]
    },
    {
     "name": "stdout",
     "output_type": "stream",
     "text": [
      "mutation result (12, array(['GO_ANIMAL_ORGAN_MORPHOGENESIS',\n",
      "       'GO_SKELETAL_SYSTEM_MORPHOGENESIS',\n",
      "       'GO_ANATOMICAL_STRUCTURE_FORMATION_INVOLVED_IN_MORPHOGENESIS'],\n",
      "      dtype=object), array([10,  9,  8], dtype=int64), 11)\n",
      "GO_CARDIOCYTE_DIFFERENTIATION\n",
      "164 33 0 23\n"
     ]
    },
    {
     "name": "stderr",
     "output_type": "stream",
     "text": [
      "2020-07-26 18:25:03,515 Connecting to Enrichr Server to get latest library names\n",
      "2020-07-26 18:25:03,595 using all annotated genes with GO_ID as background genes\n",
      "2020-07-26 18:25:03,619 Background: found 19041 genes\n",
      "2020-07-26 18:25:05,586 Save file of enrichment results: Job Id:2216812630808\n",
      "2020-07-26 18:25:06,247 Done.\n",
      "\n"
     ]
    },
    {
     "name": "stdout",
     "output_type": "stream",
     "text": [
      "mutation result (23, array(['GO_ANATOMICAL_STRUCTURE_FORMATION_INVOLVED_IN_MORPHOGENESIS',\n",
      "       'GO_TUBE_MORPHOGENESIS', 'GO_ANIMAL_ORGAN_MORPHOGENESIS'],\n",
      "      dtype=object), array([16, 15, 15], dtype=int64), 19)\n",
      "GO_NEPHRON_DEVELOPMENT\n",
      "143 38 0 19\n"
     ]
    },
    {
     "name": "stderr",
     "output_type": "stream",
     "text": [
      "2020-07-26 18:25:10,518 Connecting to Enrichr Server to get latest library names\n",
      "2020-07-26 18:25:10,605 using all annotated genes with GO_ID as background genes\n",
      "2020-07-26 18:25:10,644 Background: found 19041 genes\n",
      "2020-07-26 18:25:13,143 Save file of enrichment results: Job Id:2216812630808\n",
      "2020-07-26 18:25:13,712 Done.\n",
      "\n"
     ]
    },
    {
     "name": "stdout",
     "output_type": "stream",
     "text": [
      "mutation result (19, array(['GO_ANIMAL_ORGAN_MORPHOGENESIS', 'GO_TUBE_MORPHOGENESIS',\n",
      "       'GO_ANATOMICAL_STRUCTURE_FORMATION_INVOLVED_IN_MORPHOGENESIS'],\n",
      "      dtype=object), array([17, 15, 14], dtype=int64), 18)\n",
      "GO_MAMMARY_GLAND_DEVELOPMENT\n",
      "142 37 0 0\n",
      "GO_HINDBRAIN_DEVELOPMENT\n",
      "151 30 0 15\n"
     ]
    },
    {
     "name": "stderr",
     "output_type": "stream",
     "text": [
      "2020-07-26 18:25:17,976 Connecting to Enrichr Server to get latest library names\n",
      "2020-07-26 18:25:18,056 using all annotated genes with GO_ID as background genes\n",
      "2020-07-26 18:25:18,086 Background: found 19041 genes\n",
      "2020-07-26 18:25:20,236 Save file of enrichment results: Job Id:2216812630808\n",
      "2020-07-26 18:25:20,895 Done.\n",
      "\n"
     ]
    },
    {
     "name": "stdout",
     "output_type": "stream",
     "text": [
      "mutation result (15, array(['GO_CELL_PROJECTION_ORGANIZATION',\n",
      "       'GO_ANATOMICAL_STRUCTURE_FORMATION_INVOLVED_IN_MORPHOGENESIS',\n",
      "       'GO_CELLULAR_COMPONENT_MORPHOGENESIS'], dtype=object), array([11, 10,  9], dtype=int64), 14)\n",
      "GO_METANEPHROS_DEVELOPMENT\n",
      "92 22 0 15\n"
     ]
    },
    {
     "name": "stderr",
     "output_type": "stream",
     "text": [
      "2020-07-26 18:25:24,760 Connecting to Enrichr Server to get latest library names\n",
      "2020-07-26 18:25:24,833 using all annotated genes with GO_ID as background genes\n",
      "2020-07-26 18:25:24,862 Background: found 19041 genes\n",
      "2020-07-26 18:25:26,316 Save file of enrichment results: Job Id:2216812630808\n",
      "2020-07-26 18:25:27,101 Done.\n",
      "\n"
     ]
    },
    {
     "name": "stdout",
     "output_type": "stream",
     "text": [
      "mutation result (15, array(['GO_ANIMAL_ORGAN_MORPHOGENESIS',\n",
      "       'GO_MORPHOGENESIS_OF_AN_EPITHELIUM', 'GO_TUBE_MORPHOGENESIS'],\n",
      "      dtype=object), array([14, 11, 11], dtype=int64), 15)\n",
      "GO_METENCEPHALON_DEVELOPMENT\n",
      "111 22 0 17\n"
     ]
    },
    {
     "name": "stderr",
     "output_type": "stream",
     "text": [
      "2020-07-26 18:25:30,570 Connecting to Enrichr Server to get latest library names\n",
      "2020-07-26 18:25:30,655 using all annotated genes with GO_ID as background genes\n",
      "2020-07-26 18:25:30,693 Background: found 19041 genes\n",
      "2020-07-26 18:25:32,545 Save file of enrichment results: Job Id:2216812630808\n",
      "2020-07-26 18:25:33,122 Done.\n",
      "\n"
     ]
    },
    {
     "name": "stdout",
     "output_type": "stream",
     "text": [
      "mutation result (17, array(['GO_ANATOMICAL_STRUCTURE_FORMATION_INVOLVED_IN_MORPHOGENESIS',\n",
      "       'GO_CELL_PROJECTION_ORGANIZATION',\n",
      "       'GO_CELLULAR_COMPONENT_MORPHOGENESIS'], dtype=object), array([9, 9, 8], dtype=int64), 14)\n",
      "0\n",
      "0\n",
      "0\n",
      "0\n",
      "0\n",
      "0\n",
      "0\n",
      "0\n",
      "0\n",
      "226\n",
      "224\n",
      "0\n",
      "0\n",
      "268\n",
      "GO_REPRODUCTION\n",
      "1457 395 259 188\n"
     ]
    },
    {
     "name": "stderr",
     "output_type": "stream",
     "text": [
      "2020-07-26 18:25:36,383 Connecting to Enrichr Server to get latest library names\n",
      "2020-07-26 18:25:36,463 using all annotated genes with GO_ID as background genes\n",
      "2020-07-26 18:25:36,498 Background: found 19041 genes\n",
      "2020-07-26 18:25:41,820 Save file of enrichment results: Job Id:2216812630808\n",
      "2020-07-26 18:25:42,498 Done.\n",
      "\n"
     ]
    },
    {
     "name": "stdout",
     "output_type": "stream",
     "text": [
      "mutation result (188, array(['GO_REGULATION_OF_CELL_POPULATION_PROLIFERATION',\n",
      "       'GO_CHROMOSOME_ORGANIZATION', 'GO_ANIMAL_ORGAN_MORPHOGENESIS'],\n",
      "      dtype=object), array([43, 40, 33], dtype=int64), 84)\n",
      "GO_NEURON_DIFFERENTIATION\n",
      "1365 294 287 202\n"
     ]
    },
    {
     "name": "stderr",
     "output_type": "stream",
     "text": [
      "2020-07-26 18:25:47,269 Connecting to Enrichr Server to get latest library names\n",
      "2020-07-26 18:25:47,355 using all annotated genes with GO_ID as background genes\n",
      "2020-07-26 18:25:47,383 Background: found 19041 genes\n",
      "2020-07-26 18:25:52,965 Save file of enrichment results: Job Id:2216812630808\n",
      "2020-07-26 18:25:53,645 Done.\n",
      "\n"
     ]
    },
    {
     "name": "stdout",
     "output_type": "stream",
     "text": [
      "mutation result (202, array(['GO_CELL_PROJECTION_ORGANIZATION',\n",
      "       'GO_CELLULAR_COMPONENT_MORPHOGENESIS',\n",
      "       'GO_CELL_PART_MORPHOGENESIS'], dtype=object), array([150, 128, 117], dtype=int64), 155)\n",
      "GO_NEURON_DEVELOPMENT\n",
      "1114 227 210 154\n"
     ]
    },
    {
     "name": "stderr",
     "output_type": "stream",
     "text": [
      "2020-07-26 18:26:00,798 Connecting to Enrichr Server to get latest library names\n",
      "2020-07-26 18:26:00,881 using all annotated genes with GO_ID as background genes\n",
      "2020-07-26 18:26:00,915 Background: found 19041 genes\n",
      "2020-07-26 18:26:05,716 Save file of enrichment results: Job Id:2216812630808\n",
      "2020-07-26 18:26:06,465 Done.\n",
      "\n"
     ]
    },
    {
     "name": "stdout",
     "output_type": "stream",
     "text": [
      "mutation result (154, array(['GO_CELL_PROJECTION_ORGANIZATION',\n",
      "       'GO_CELLULAR_COMPONENT_MORPHOGENESIS',\n",
      "       'GO_CELL_PART_MORPHOGENESIS'], dtype=object), array([138, 117, 110], dtype=int64), 139)\n",
      "GO_FOREBRAIN_DEVELOPMENT\n",
      "383 102 81 67\n"
     ]
    },
    {
     "name": "stderr",
     "output_type": "stream",
     "text": [
      "2020-07-26 18:26:12,812 Connecting to Enrichr Server to get latest library names\n",
      "2020-07-26 18:26:12,898 using all annotated genes with GO_ID as background genes\n",
      "2020-07-26 18:26:12,935 Background: found 19041 genes\n",
      "2020-07-26 18:26:16,845 Save file of enrichment results: Job Id:2216812630808\n",
      "2020-07-26 18:26:17,415 Done.\n",
      "\n"
     ]
    },
    {
     "name": "stdout",
     "output_type": "stream",
     "text": [
      "mutation result (67, array(['GO_CELL_PROJECTION_ORGANIZATION', 'GO_CELL_CELL_SIGNALING',\n",
      "       'GO_CELLULAR_COMPONENT_MORPHOGENESIS'], dtype=object), array([33, 31, 30], dtype=int64), 49)\n",
      "GO_EAR_DEVELOPMENT\n",
      "220 53 0 29\n"
     ]
    },
    {
     "name": "stderr",
     "output_type": "stream",
     "text": [
      "2020-07-26 18:26:23,130 Connecting to Enrichr Server to get latest library names\n",
      "2020-07-26 18:26:23,209 using all annotated genes with GO_ID as background genes\n",
      "2020-07-26 18:26:23,241 Background: found 19041 genes\n",
      "2020-07-26 18:26:25,621 Save file of enrichment results: Job Id:2216812630808\n",
      "2020-07-26 18:26:26,200 Done.\n",
      "\n"
     ]
    },
    {
     "name": "stdout",
     "output_type": "stream",
     "text": [
      "mutation result (29, array(['GO_ANIMAL_ORGAN_MORPHOGENESIS',\n",
      "       'GO_EMBRYONIC_ORGAN_MORPHOGENESIS', 'GO_EMBRYONIC_MORPHOGENESIS'],\n",
      "      dtype=object), array([24, 20, 20], dtype=int64), 24)\n",
      "GO_METENCEPHALON_DEVELOPMENT\n",
      "111 20 0 0\n",
      "GO_CHONDROCYTE_DIFFERENTIATION\n",
      "123 31 0 19\n"
     ]
    },
    {
     "name": "stderr",
     "output_type": "stream",
     "text": [
      "2020-07-26 18:26:28,917 Connecting to Enrichr Server to get latest library names\n",
      "2020-07-26 18:26:28,998 using all annotated genes with GO_ID as background genes\n",
      "2020-07-26 18:26:29,030 Background: found 19041 genes\n",
      "2020-07-26 18:26:30,761 Save file of enrichment results: Job Id:2216812630808\n",
      "2020-07-26 18:26:31,313 Done.\n",
      "\n"
     ]
    },
    {
     "name": "stdout",
     "output_type": "stream",
     "text": [
      "mutation result (19, array(['GO_ANIMAL_ORGAN_MORPHOGENESIS', 'GO_TISSUE_MORPHOGENESIS',\n",
      "       'GO_SKELETAL_SYSTEM_MORPHOGENESIS'], dtype=object), array([14, 13, 12], dtype=int64), 15)\n",
      "GO_OSTEOBLAST_DIFFERENTIATION\n",
      "223 61 0 0\n",
      "GO_MESONEPHROS_DEVELOPMENT\n",
      "101 28 0 0\n",
      "GO_CARDIOCYTE_DIFFERENTIATION\n",
      "164 20 0 21\n"
     ]
    },
    {
     "name": "stderr",
     "output_type": "stream",
     "text": [
      "2020-07-26 18:26:33,437 Connecting to Enrichr Server to get latest library names\n",
      "2020-07-26 18:26:33,518 using all annotated genes with GO_ID as background genes\n",
      "2020-07-26 18:26:33,553 Background: found 19041 genes\n",
      "2020-07-26 18:26:35,915 Save file of enrichment results: Job Id:2216812630808\n",
      "2020-07-26 18:26:36,528 Done.\n",
      "\n"
     ]
    },
    {
     "name": "stdout",
     "output_type": "stream",
     "text": [
      "mutation result (21, array(['GO_ANATOMICAL_STRUCTURE_FORMATION_INVOLVED_IN_MORPHOGENESIS',\n",
      "       'GO_ANIMAL_ORGAN_MORPHOGENESIS', 'GO_TISSUE_MORPHOGENESIS'],\n",
      "      dtype=object), array([17, 14, 13], dtype=int64), 19)\n",
      "GO_NEPHRON_DEVELOPMENT\n",
      "143 27 0 0\n",
      "GO_HINDBRAIN_DEVELOPMENT\n",
      "151 41 0 0\n",
      "GO_METANEPHROS_DEVELOPMENT\n",
      "92 17 0 22\n"
     ]
    },
    {
     "name": "stderr",
     "output_type": "stream",
     "text": [
      "2020-07-26 18:26:40,178 Connecting to Enrichr Server to get latest library names\n",
      "2020-07-26 18:26:40,264 using all annotated genes with GO_ID as background genes\n",
      "2020-07-26 18:26:40,311 Background: found 19041 genes\n",
      "2020-07-26 18:26:42,407 Save file of enrichment results: Job Id:2216812630808\n",
      "2020-07-26 18:26:42,979 Done.\n",
      "\n"
     ]
    },
    {
     "name": "stdout",
     "output_type": "stream",
     "text": [
      "mutation result (22, array(['GO_ANIMAL_ORGAN_MORPHOGENESIS', 'GO_TUBE_MORPHOGENESIS',\n",
      "       'GO_ANATOMICAL_STRUCTURE_FORMATION_INVOLVED_IN_MORPHOGENESIS'],\n",
      "      dtype=object), array([19, 18, 16], dtype=int64), 20)\n",
      "GO_BONE_DEVELOPMENT\n",
      "219 33 41 24\n"
     ]
    },
    {
     "name": "stderr",
     "output_type": "stream",
     "text": [
      "2020-07-26 18:26:47,165 Connecting to Enrichr Server to get latest library names\n",
      "2020-07-26 18:26:47,243 using all annotated genes with GO_ID as background genes\n",
      "2020-07-26 18:26:47,274 Background: found 19041 genes\n",
      "2020-07-26 18:26:49,948 Save file of enrichment results: Job Id:2216812630808\n",
      "2020-07-26 18:26:50,578 Done.\n",
      "\n"
     ]
    },
    {
     "name": "stdout",
     "output_type": "stream",
     "text": [
      "mutation result (24, array(['GO_ANIMAL_ORGAN_MORPHOGENESIS',\n",
      "       'GO_SKELETAL_SYSTEM_MORPHOGENESIS', 'GO_BONE_MORPHOGENESIS'],\n",
      "      dtype=object), array([20, 15, 15], dtype=int64), 20)\n",
      "GO_CHONDROCYTE_DEVELOPMENT\n",
      "46 16 0 8\n"
     ]
    },
    {
     "name": "stderr",
     "output_type": "stream",
     "text": [
      "2020-07-26 18:26:53,708 Connecting to Enrichr Server to get latest library names\n",
      "2020-07-26 18:26:53,789 using all annotated genes with GO_ID as background genes\n",
      "2020-07-26 18:26:53,821 Background: found 19041 genes\n",
      "2020-07-26 18:26:54,691 Save file of enrichment results: Job Id:2216812630808\n",
      "2020-07-26 18:26:55,279 Done.\n",
      "\n"
     ]
    },
    {
     "name": "stdout",
     "output_type": "stream",
     "text": [
      "mutation result (8, array(['GO_ANIMAL_ORGAN_MORPHOGENESIS',\n",
      "       'GO_SKELETAL_SYSTEM_MORPHOGENESIS',\n",
      "       'REACTOME_EXTRACELLULAR_MATRIX_ORGANIZATION'], dtype=object), array([8, 8, 7], dtype=int64), 8)\n",
      "GO_OOCYTE_DIFFERENTIATION\n",
      "50 16 0 0\n",
      "GO_MAMMARY_GLAND_DEVELOPMENT\n",
      "142 33 0 0\n",
      "41\n",
      "0\n",
      "0\n",
      "81\n",
      "0\n",
      "0\n",
      "0\n",
      "0\n",
      "0\n",
      "0\n",
      "210\n",
      "259\n",
      "0\n",
      "0\n",
      "287\n",
      "0\n",
      "0\n",
      "GO_REPRODUCTION\n",
      "1457 315 238 251\n"
     ]
    },
    {
     "name": "stderr",
     "output_type": "stream",
     "text": [
      "2020-07-26 18:26:57,059 Connecting to Enrichr Server to get latest library names\n",
      "2020-07-26 18:26:57,137 using all annotated genes with GO_ID as background genes\n",
      "2020-07-26 18:26:57,169 Background: found 19041 genes\n",
      "2020-07-26 18:27:03,079 Save file of enrichment results: Job Id:2216812630808\n",
      "2020-07-26 18:27:03,835 Done.\n",
      "\n"
     ]
    },
    {
     "name": "stdout",
     "output_type": "stream",
     "text": [
      "mutation result (251, array(['GO_CHROMOSOME_ORGANIZATION',\n",
      "       'GO_REGULATION_OF_CELL_POPULATION_PROLIFERATION',\n",
      "       'GO_POSITIVE_REGULATION_OF_SIGNALING'], dtype=object), array([66, 63, 53], dtype=int64), 123)\n",
      "GO_NEURON_DIFFERENTIATION\n",
      "1365 192 377 241\n"
     ]
    },
    {
     "name": "stderr",
     "output_type": "stream",
     "text": [
      "2020-07-26 18:27:11,031 Connecting to Enrichr Server to get latest library names\n",
      "2020-07-26 18:27:11,084 using all annotated genes with GO_ID as background genes\n",
      "2020-07-26 18:27:11,119 Background: found 19041 genes\n",
      "2020-07-26 18:27:16,864 Save file of enrichment results: Job Id:2216812630808\n",
      "2020-07-26 18:27:17,544 Done.\n",
      "\n"
     ]
    },
    {
     "name": "stdout",
     "output_type": "stream",
     "text": [
      "mutation result (241, array(['GO_CELL_PROJECTION_ORGANIZATION',\n",
      "       'GO_CELLULAR_COMPONENT_MORPHOGENESIS',\n",
      "       'GO_CELL_PART_MORPHOGENESIS'], dtype=object), array([188, 152, 137], dtype=int64), 195)\n",
      "GO_NEPHRON_DEVELOPMENT\n",
      "143 33 0 22\n"
     ]
    },
    {
     "name": "stderr",
     "output_type": "stream",
     "text": [
      "2020-07-26 18:27:26,696 Connecting to Enrichr Server to get latest library names\n",
      "2020-07-26 18:27:26,747 using all annotated genes with GO_ID as background genes\n",
      "2020-07-26 18:27:26,776 Background: found 19041 genes\n",
      "2020-07-26 18:27:28,901 Save file of enrichment results: Job Id:2216812630808\n",
      "2020-07-26 18:27:29,552 Done.\n",
      "\n"
     ]
    },
    {
     "name": "stdout",
     "output_type": "stream",
     "text": [
      "mutation result (22, array(['GO_TUBE_MORPHOGENESIS', 'GO_ANIMAL_ORGAN_MORPHOGENESIS',\n",
      "       'GO_MORPHOGENESIS_OF_AN_EPITHELIUM'], dtype=object), array([20, 19, 18], dtype=int64), 21)\n",
      "GO_NEURON_DEVELOPMENT\n",
      "1114 154 313 202\n"
     ]
    },
    {
     "name": "stderr",
     "output_type": "stream",
     "text": [
      "2020-07-26 18:27:33,811 Connecting to Enrichr Server to get latest library names\n",
      "2020-07-26 18:27:33,891 using all annotated genes with GO_ID as background genes\n",
      "2020-07-26 18:27:33,925 Background: found 19041 genes\n",
      "2020-07-26 18:27:39,329 Save file of enrichment results: Job Id:2216812630808\n",
      "2020-07-26 18:27:40,019 Done.\n",
      "\n"
     ]
    },
    {
     "name": "stdout",
     "output_type": "stream",
     "text": [
      "mutation result (202, array(['GO_CELL_PROJECTION_ORGANIZATION',\n",
      "       'GO_CELLULAR_COMPONENT_MORPHOGENESIS',\n",
      "       'GO_CELL_PART_MORPHOGENESIS'], dtype=object), array([186, 147, 137], dtype=int64), 188)\n",
      "GO_FOREBRAIN_DEVELOPMENT\n",
      "383 67 0 47\n"
     ]
    },
    {
     "name": "stderr",
     "output_type": "stream",
     "text": [
      "2020-07-26 18:27:47,739 Connecting to Enrichr Server to get latest library names\n",
      "2020-07-26 18:27:47,819 using all annotated genes with GO_ID as background genes\n",
      "2020-07-26 18:27:47,851 Background: found 19041 genes\n",
      "2020-07-26 18:27:51,351 Save file of enrichment results: Job Id:2216812630808\n",
      "2020-07-26 18:27:52,347 Done.\n",
      "\n"
     ]
    },
    {
     "name": "stdout",
     "output_type": "stream",
     "text": [
      "mutation result (47, array(['GO_CELLULAR_COMPONENT_MORPHOGENESIS', 'GO_CELL_CELL_SIGNALING',\n",
      "       'GO_CELL_PROJECTION_ORGANIZATION'], dtype=object), array([25, 25, 23], dtype=int64), 37)\n",
      "GO_CHONDROCYTE_DIFFERENTIATION\n",
      "123 23 0 26\n"
     ]
    },
    {
     "name": "stderr",
     "output_type": "stream",
     "text": [
      "2020-07-26 18:28:01,800 Connecting to Enrichr Server to get latest library names\n",
      "2020-07-26 18:28:01,890 using all annotated genes with GO_ID as background genes\n",
      "2020-07-26 18:28:01,926 Background: found 19041 genes\n",
      "2020-07-26 18:28:03,792 Save file of enrichment results: Job Id:2216812630808\n",
      "2020-07-26 18:28:04,429 Done.\n",
      "\n"
     ]
    },
    {
     "name": "stdout",
     "output_type": "stream",
     "text": [
      "mutation result (26, array(['GO_ANIMAL_ORGAN_MORPHOGENESIS',\n",
      "       'GO_SKELETAL_SYSTEM_MORPHOGENESIS',\n",
      "       'GO_ANATOMICAL_STRUCTURE_FORMATION_INVOLVED_IN_MORPHOGENESIS'],\n",
      "      dtype=object), array([19, 16, 15], dtype=int64), 22)\n",
      "GO_BONE_DEVELOPMENT\n",
      "219 35 0 32\n"
     ]
    },
    {
     "name": "stderr",
     "output_type": "stream",
     "text": [
      "2020-07-26 18:28:07,852 Connecting to Enrichr Server to get latest library names\n",
      "2020-07-26 18:28:07,933 using all annotated genes with GO_ID as background genes\n",
      "2020-07-26 18:28:07,958 Background: found 19041 genes\n",
      "2020-07-26 18:28:10,788 Save file of enrichment results: Job Id:2216812630808\n",
      "2020-07-26 18:28:11,535 Done.\n",
      "\n"
     ]
    },
    {
     "name": "stdout",
     "output_type": "stream",
     "text": [
      "mutation result (32, array(['GO_ANIMAL_ORGAN_MORPHOGENESIS',\n",
      "       'GO_SKELETAL_SYSTEM_MORPHOGENESIS', 'GO_BONE_MORPHOGENESIS'],\n",
      "      dtype=object), array([28, 17, 16], dtype=int64), 28)\n",
      "GO_CARDIAC_MUSCLE_TISSUE_DEVELOPMENT\n",
      "231 38 0 26\n"
     ]
    },
    {
     "name": "stderr",
     "output_type": "stream",
     "text": [
      "2020-07-26 18:28:15,348 Connecting to Enrichr Server to get latest library names\n",
      "2020-07-26 18:28:15,435 using all annotated genes with GO_ID as background genes\n",
      "2020-07-26 18:28:15,469 Background: found 19041 genes\n",
      "2020-07-26 18:28:18,531 Save file of enrichment results: Job Id:2216812630808\n",
      "2020-07-26 18:28:19,132 Done.\n",
      "\n"
     ]
    },
    {
     "name": "stdout",
     "output_type": "stream",
     "text": [
      "mutation result (26, array(['GO_ANIMAL_ORGAN_MORPHOGENESIS',\n",
      "       'GO_ANATOMICAL_STRUCTURE_FORMATION_INVOLVED_IN_MORPHOGENESIS',\n",
      "       'GO_TISSUE_MORPHOGENESIS'], dtype=object), array([18, 18, 17], dtype=int64), 24)\n",
      "GO_METANEPHROS_DEVELOPMENT\n",
      "92 19 0 16\n"
     ]
    },
    {
     "name": "stderr",
     "output_type": "stream",
     "text": [
      "2020-07-26 18:28:23,221 Connecting to Enrichr Server to get latest library names\n",
      "2020-07-26 18:28:23,302 using all annotated genes with GO_ID as background genes\n",
      "2020-07-26 18:28:23,329 Background: found 19041 genes\n",
      "2020-07-26 18:28:25,636 Save file of enrichment results: Job Id:2216812630808\n",
      "2020-07-26 18:28:26,482 Done.\n",
      "\n"
     ]
    },
    {
     "name": "stdout",
     "output_type": "stream",
     "text": [
      "mutation result (16, array(['GO_ANIMAL_ORGAN_MORPHOGENESIS', 'GO_TUBE_MORPHOGENESIS',\n",
      "       'GO_EMBRYONIC_MORPHOGENESIS'], dtype=object), array([15, 14, 13], dtype=int64), 16)\n",
      "GO_EAR_DEVELOPMENT\n",
      "220 27 0 66\n"
     ]
    },
    {
     "name": "stderr",
     "output_type": "stream",
     "text": [
      "2020-07-26 18:28:31,372 Connecting to Enrichr Server to get latest library names\n",
      "2020-07-26 18:28:31,441 using all annotated genes with GO_ID as background genes\n",
      "2020-07-26 18:28:31,463 Background: found 19041 genes\n",
      "2020-07-26 18:28:34,745 Save file of enrichment results: Job Id:2216812630808\n",
      "2020-07-26 18:28:35,490 Done.\n",
      "\n"
     ]
    },
    {
     "name": "stdout",
     "output_type": "stream",
     "text": [
      "mutation result (66, array(['GO_ANIMAL_ORGAN_MORPHOGENESIS', 'GO_EMBRYONIC_MORPHOGENESIS',\n",
      "       'GO_SENSORY_ORGAN_MORPHOGENESIS'], dtype=object), array([56, 51, 48], dtype=int64), 57)\n",
      "GO_OSTEOBLAST_DIFFERENTIATION\n",
      "223 41 0 41\n"
     ]
    },
    {
     "name": "stderr",
     "output_type": "stream",
     "text": [
      "2020-07-26 18:28:41,354 Connecting to Enrichr Server to get latest library names\n",
      "2020-07-26 18:28:41,426 using all annotated genes with GO_ID as background genes\n",
      "2020-07-26 18:28:41,456 Background: found 19041 genes\n",
      "2020-07-26 18:28:44,546 Save file of enrichment results: Job Id:2216812630808\n",
      "2020-07-26 18:28:45,178 Done.\n",
      "\n"
     ]
    },
    {
     "name": "stdout",
     "output_type": "stream",
     "text": [
      "mutation result (41, array(['GO_ANIMAL_ORGAN_MORPHOGENESIS', 'GO_CELL_CELL_SIGNALING',\n",
      "       'GO_REGULATION_OF_CELL_POPULATION_PROLIFERATION'], dtype=object), array([22, 21, 20], dtype=int64), 31)\n",
      "GO_CHONDROCYTE_DEVELOPMENT\n",
      "46 14 0 11\n"
     ]
    },
    {
     "name": "stderr",
     "output_type": "stream",
     "text": [
      "2020-07-26 18:28:50,023 Connecting to Enrichr Server to get latest library names\n",
      "2020-07-26 18:28:50,110 using all annotated genes with GO_ID as background genes\n",
      "2020-07-26 18:28:50,144 Background: found 19041 genes\n",
      "2020-07-26 18:28:51,326 Save file of enrichment results: Job Id:2216812630808\n",
      "2020-07-26 18:28:51,937 Done.\n",
      "\n"
     ]
    },
    {
     "name": "stdout",
     "output_type": "stream",
     "text": [
      "mutation result (11, array(['GO_SKELETAL_SYSTEM_MORPHOGENESIS',\n",
      "       'GO_ANIMAL_ORGAN_MORPHOGENESIS', 'GO_ENDOPLASMIC_RETICULUM'],\n",
      "      dtype=object), array([9, 9, 8], dtype=int64), 10)\n",
      "GO_MAMMARY_GLAND_DEVELOPMENT\n",
      "142 26 0 29\n"
     ]
    },
    {
     "name": "stderr",
     "output_type": "stream",
     "text": [
      "2020-07-26 18:28:53,152 Connecting to Enrichr Server to get latest library names\n",
      "2020-07-26 18:28:53,235 using all annotated genes with GO_ID as background genes\n",
      "2020-07-26 18:28:53,268 Background: found 19041 genes\n",
      "2020-07-26 18:28:56,356 Save file of enrichment results: Job Id:2216812630808\n",
      "2020-07-26 18:28:56,938 Done.\n",
      "\n"
     ]
    },
    {
     "name": "stdout",
     "output_type": "stream",
     "text": [
      "mutation result (29, array(['GO_REGULATION_OF_CELL_POPULATION_PROLIFERATION',\n",
      "       'GO_TUBE_MORPHOGENESIS', 'GO_ANIMAL_ORGAN_MORPHOGENESIS'],\n",
      "      dtype=object), array([20, 18, 17], dtype=int64), 23)\n",
      "GO_MESONEPHROS_DEVELOPMENT\n",
      "101 18 0 13\n"
     ]
    },
    {
     "name": "stderr",
     "output_type": "stream",
     "text": [
      "2020-07-26 18:29:02,558 Connecting to Enrichr Server to get latest library names\n",
      "2020-07-26 18:29:02,648 using all annotated genes with GO_ID as background genes\n",
      "2020-07-26 18:29:02,695 Background: found 19041 genes\n",
      "2020-07-26 18:29:04,771 Save file of enrichment results: Job Id:2216812630808\n",
      "2020-07-26 18:29:05,386 Done.\n",
      "\n"
     ]
    },
    {
     "name": "stdout",
     "output_type": "stream",
     "text": [
      "mutation result (13, array(['GO_EPITHELIAL_TUBE_MORPHOGENESIS',\n",
      "       'GO_MORPHOGENESIS_OF_AN_EPITHELIUM', 'GO_TISSUE_MORPHOGENESIS'],\n",
      "      dtype=object), array([13, 13, 13], dtype=int64), 13)\n",
      "GO_METENCEPHALON_DEVELOPMENT\n",
      "111 16 0 15\n"
     ]
    },
    {
     "name": "stderr",
     "output_type": "stream",
     "text": [
      "2020-07-26 18:29:08,906 Connecting to Enrichr Server to get latest library names\n",
      "2020-07-26 18:29:08,984 using all annotated genes with GO_ID as background genes\n",
      "2020-07-26 18:29:09,023 Background: found 19041 genes\n",
      "2020-07-26 18:29:10,786 Save file of enrichment results: Job Id:2216812630808\n",
      "2020-07-26 18:29:11,373 Done.\n",
      "\n"
     ]
    },
    {
     "name": "stdout",
     "output_type": "stream",
     "text": [
      "mutation result (15, array(['GO_CELL_PROJECTION_ORGANIZATION',\n",
      "       'GO_ANATOMICAL_STRUCTURE_FORMATION_INVOLVED_IN_MORPHOGENESIS',\n",
      "       'GO_CELLULAR_COMPONENT_MORPHOGENESIS'], dtype=object), array([9, 8, 8], dtype=int64), 13)\n",
      "GO_OOCYTE_DIFFERENTIATION\n",
      "50 17 0 9\n"
     ]
    },
    {
     "name": "stderr",
     "output_type": "stream",
     "text": [
      "2020-07-26 18:29:14,746 Connecting to Enrichr Server to get latest library names\n",
      "2020-07-26 18:29:14,840 using all annotated genes with GO_ID as background genes\n",
      "2020-07-26 18:29:14,881 Background: found 19041 genes\n",
      "2020-07-26 18:29:16,530 Save file of enrichment results: Job Id:2216812630808\n",
      "2020-07-26 18:29:17,114 Done.\n",
      "\n"
     ]
    },
    {
     "name": "stdout",
     "output_type": "stream",
     "text": [
      "mutation result (9, array(['GO_CHROMOSOME_ORGANIZATION', 'GO_CHROMATIN_ORGANIZATION',\n",
      "       'GO_MICROTUBULE_CYTOSKELETON'], dtype=object), array([6, 6, 5], dtype=int64), 7)\n",
      "GO_CARDIOCYTE_DIFFERENTIATION\n",
      "164 19 0 22\n"
     ]
    },
    {
     "name": "stderr",
     "output_type": "stream",
     "text": [
      "2020-07-26 18:29:19,481 Connecting to Enrichr Server to get latest library names\n",
      "2020-07-26 18:29:19,564 using all annotated genes with GO_ID as background genes\n",
      "2020-07-26 18:29:19,601 Background: found 19041 genes\n",
      "2020-07-26 18:29:21,901 Save file of enrichment results: Job Id:2216812630808\n",
      "2020-07-26 18:29:22,626 Done.\n",
      "\n"
     ]
    },
    {
     "name": "stdout",
     "output_type": "stream",
     "text": [
      "mutation result (22, array(['GO_ANATOMICAL_STRUCTURE_FORMATION_INVOLVED_IN_MORPHOGENESIS',\n",
      "       'GO_CELLULAR_COMPONENT_MORPHOGENESIS',\n",
      "       'GO_ANIMAL_ORGAN_MORPHOGENESIS'], dtype=object), array([17, 14, 13], dtype=int64), 20)\n",
      "GO_HINDBRAIN_DEVELOPMENT\n",
      "151 20 0 19\n"
     ]
    },
    {
     "name": "stderr",
     "output_type": "stream",
     "text": [
      "2020-07-26 18:29:26,615 Connecting to Enrichr Server to get latest library names\n",
      "2020-07-26 18:29:26,700 using all annotated genes with GO_ID as background genes\n",
      "2020-07-26 18:29:26,735 Background: found 19041 genes\n",
      "2020-07-26 18:29:29,301 Save file of enrichment results: Job Id:2216812630808\n",
      "2020-07-26 18:29:29,974 Done.\n",
      "\n"
     ]
    },
    {
     "name": "stdout",
     "output_type": "stream",
     "text": [
      "mutation result (19, array(['GO_CELL_PROJECTION_ORGANIZATION',\n",
      "       'GO_ANATOMICAL_STRUCTURE_FORMATION_INVOLVED_IN_MORPHOGENESIS',\n",
      "       'GO_ANIMAL_ORGAN_MORPHOGENESIS'], dtype=object), array([12, 11, 10], dtype=int64), 18)\n",
      "0\n",
      "0\n",
      "0\n",
      "0\n",
      "0\n",
      "0\n",
      "0\n",
      "0\n",
      "0\n",
      "0\n",
      "0\n",
      "313\n",
      "238\n",
      "0\n",
      "0\n",
      "377\n",
      "0\n",
      "0\n",
      "GO_NEURON_DIFFERENTIATION\n",
      "1365 356 267 0\n",
      "GO_NEURON_DEVELOPMENT\n",
      "1114 302 228 0\n",
      "GO_REPRODUCTION\n",
      "1457 316 275 0\n",
      "GO_FOREBRAIN_DEVELOPMENT\n",
      "383 85 57 0\n",
      "GO_EAR_DEVELOPMENT\n",
      "220 47 30 0\n",
      "30\n",
      "57\n",
      "228\n",
      "275\n",
      "267\n"
     ]
    }
   ],
   "source": [
    "writer = pd.ExcelWriter('table9_r.xlsx')\n",
    "\n",
    "m_dict = {}\n",
    "for i_t in range(len(tumors)):\n",
    "    pathway_idx = [i for i in PATHWAYS if i in out_up[tumors[i_t]].index]\n",
    "    out_mu,out_do = {},{}\n",
    "    for idx in range(len(out_up[tumors[i_t]])):    \n",
    "        pathway = out_up[tumors[i_t]].index[idx]\n",
    "        if pathway in out_mutation[tumors[i_t]]:\n",
    "            mu_genes = [i.strip() for i in out_mutation[tumors[i_t]][pathway]]\n",
    "        else:\n",
    "            mu_genes = []\n",
    "        if pathway in out_down[tumors[i_t]]:\n",
    "            down_genes = [i.strip() for i in out_down[tumors[i_t]][pathway]]\n",
    "        else:\n",
    "            down_genes = []\n",
    "        print(pathway)\n",
    "        print(len(d[pathway]),len(out_up[tumors[i_t]][pathway]),len(down_genes),len(mu_genes))\n",
    "\n",
    "        if len(mu_genes) != 0:\n",
    "            out_m = enrichment(mu_genes)\n",
    "            m_dict[tumors[i_t]] = out_m\n",
    "            print(\"mutation result\",out_m)\n",
    "            out_mu[pathway] = out_m\n",
    "\n",
    "#         if len(down_genes) != 0:\n",
    "#             out_d = enrichment(down_genes)\n",
    "#             print(\"down\",out_d)\n",
    "#             out_do[pathway] = out_d\n",
    "    header = ['Pathway',\"number of up-regulated genes enriched this pathway\",\"number of down-regulated genes enriched this pathway\",\"number of mutated genes (MG)\", \"MG enriched pathway 1 (number of MG covered)\",\"MG enriched pathway 2 (number of MG covered)\",\"MG enriched pathway 3(number of MG covered)\"]\n",
    "    out_df = pd.DataFrame(columns = header)\n",
    "\n",
    "    for p in pathway_idx:\n",
    "        n_genes = len(d[p])\n",
    "        if p in out_mu:\n",
    "            data_mu = out_mu[p]\n",
    "            n_mu = data_mu[0]\n",
    "            li1 = [data_mu[1][i] + \" (\" + str(data_mu[2][i]) + \")\" for i in range(3)]\n",
    "        else:\n",
    "            n_mu = 0\n",
    "            li1 = [\"\",\"\",\"\"]\n",
    "        if p in out_do:\n",
    "            data_do = out_do[p]\n",
    "            n_do = data_do[0]\n",
    "            #li2 = [data_do[1][i] + \"(\" + str(data_do[2][i]) + \")\" for i in range(3)]\n",
    "        else:\n",
    "            n_do = 0\n",
    "            #li2 = [\"\",\"\",\"\"]\n",
    "        if p in out_down[tumors[i_t]]:\n",
    "            down_genes = [i.strip() for i in out_down[tumors[i_t]][p]]\n",
    "        else:\n",
    "            down_genes = []\n",
    "        print(len(down_genes))\n",
    "        new_line = pd.DataFrame([[p,len(out_up[tumors[i_t]][p]),len(down_genes),n_mu,li1[0],li1[1],li1[2]]],columns = header)\n",
    "        out_df = pd.concat([out_df,new_line])\n",
    "\n",
    "    out_df.to_excel(writer, sheet_name=tumors[i_t])  \n",
    "    writer.save()"
   ]
  },
  {
   "cell_type": "code",
   "execution_count": 27,
   "metadata": {},
   "outputs": [],
   "source": [
    "df_consider.to_excel(\"tmp.xlsx\")"
   ]
  },
  {
   "cell_type": "code",
   "execution_count": 454,
   "metadata": {},
   "outputs": [],
   "source": []
  },
  {
   "cell_type": "code",
   "execution_count": 36,
   "metadata": {},
   "outputs": [
    {
     "data": {
      "text/html": [
       "<div>\n",
       "<style scoped>\n",
       "    .dataframe tbody tr th:only-of-type {\n",
       "        vertical-align: middle;\n",
       "    }\n",
       "\n",
       "    .dataframe tbody tr th {\n",
       "        vertical-align: top;\n",
       "    }\n",
       "\n",
       "    .dataframe thead th {\n",
       "        text-align: right;\n",
       "    }\n",
       "</style>\n",
       "<table border=\"1\" class=\"dataframe\">\n",
       "  <thead>\n",
       "    <tr style=\"text-align: right;\">\n",
       "      <th></th>\n",
       "      <th>Pathway</th>\n",
       "      <th>number of up-regulated genes enriched this pathway</th>\n",
       "      <th>number of down-regulated genes enriched this pathway</th>\n",
       "      <th>number of mutated genes (MG)</th>\n",
       "      <th>MG enriched pathway 1 (number of MG covered)</th>\n",
       "      <th>MG enriched pathway 2 (number of MG covered)</th>\n",
       "      <th>MG enriched pathway 3(number of MG covered)</th>\n",
       "    </tr>\n",
       "  </thead>\n",
       "  <tbody>\n",
       "    <tr>\n",
       "      <th>0</th>\n",
       "      <td>GO_EAR_DEVELOPMENT</td>\n",
       "      <td>47</td>\n",
       "      <td>30</td>\n",
       "      <td>0</td>\n",
       "      <td></td>\n",
       "      <td></td>\n",
       "      <td></td>\n",
       "    </tr>\n",
       "    <tr>\n",
       "      <th>0</th>\n",
       "      <td>GO_FOREBRAIN_DEVELOPMENT</td>\n",
       "      <td>85</td>\n",
       "      <td>57</td>\n",
       "      <td>0</td>\n",
       "      <td></td>\n",
       "      <td></td>\n",
       "      <td></td>\n",
       "    </tr>\n",
       "    <tr>\n",
       "      <th>0</th>\n",
       "      <td>GO_NEURON_DEVELOPMENT</td>\n",
       "      <td>302</td>\n",
       "      <td>228</td>\n",
       "      <td>0</td>\n",
       "      <td></td>\n",
       "      <td></td>\n",
       "      <td></td>\n",
       "    </tr>\n",
       "    <tr>\n",
       "      <th>0</th>\n",
       "      <td>GO_REPRODUCTION</td>\n",
       "      <td>316</td>\n",
       "      <td>275</td>\n",
       "      <td>0</td>\n",
       "      <td></td>\n",
       "      <td></td>\n",
       "      <td></td>\n",
       "    </tr>\n",
       "    <tr>\n",
       "      <th>0</th>\n",
       "      <td>GO_NEURON_DIFFERENTIATION</td>\n",
       "      <td>356</td>\n",
       "      <td>267</td>\n",
       "      <td>0</td>\n",
       "      <td></td>\n",
       "      <td></td>\n",
       "      <td></td>\n",
       "    </tr>\n",
       "  </tbody>\n",
       "</table>\n",
       "</div>"
      ],
      "text/plain": [
       "                     Pathway  \\\n",
       "0         GO_EAR_DEVELOPMENT   \n",
       "0   GO_FOREBRAIN_DEVELOPMENT   \n",
       "0      GO_NEURON_DEVELOPMENT   \n",
       "0            GO_REPRODUCTION   \n",
       "0  GO_NEURON_DIFFERENTIATION   \n",
       "\n",
       "  number of up-regulated genes enriched this pathway  \\\n",
       "0                                                 47   \n",
       "0                                                 85   \n",
       "0                                                302   \n",
       "0                                                316   \n",
       "0                                                356   \n",
       "\n",
       "  number of down-regulated genes enriched this pathway  \\\n",
       "0                                                 30     \n",
       "0                                                 57     \n",
       "0                                                228     \n",
       "0                                                275     \n",
       "0                                                267     \n",
       "\n",
       "  number of mutated genes (MG) MG enriched pathway 1 (number of MG covered)  \\\n",
       "0                            0                                                \n",
       "0                            0                                                \n",
       "0                            0                                                \n",
       "0                            0                                                \n",
       "0                            0                                                \n",
       "\n",
       "  MG enriched pathway 2 (number of MG covered)  \\\n",
       "0                                                \n",
       "0                                                \n",
       "0                                                \n",
       "0                                                \n",
       "0                                                \n",
       "\n",
       "  MG enriched pathway 3(number of MG covered)  \n",
       "0                                              \n",
       "0                                              \n",
       "0                                              \n",
       "0                                              \n",
       "0                                              "
      ]
     },
     "execution_count": 36,
     "metadata": {},
     "output_type": "execute_result"
    }
   ],
   "source": [
    "out_df"
   ]
  },
  {
   "cell_type": "code",
   "execution_count": 461,
   "metadata": {},
   "outputs": [],
   "source": [
    "for p in pathway_idx:\n",
    "    n_genes = len(d[p])\n",
    "    if p in out_mu:\n",
    "        data_mu = out_mu[p]\n",
    "        n_mu = data_mu[0]\n",
    "        li1 = [data_mu[1][i] + \" (\" + str(data_mu[2][i]) + \")\" for i in range(3)]\n",
    "    else:\n",
    "        n_mu = 0\n",
    "        li1 = [\"\",\"\",\"\"]\n",
    "    if p in out_do:\n",
    "        data_do = out_do[p]\n",
    "        n_do = data_do[0]\n",
    "        #li2 = [data_do[1][i] + \"(\" + str(data_do[2][i]) + \")\" for i in range(3)]\n",
    "    else:\n",
    "        n_do = 0\n",
    "        #li2 = [\"\",\"\",\"\"]\n",
    "        \n",
    "    new_line = pd.DataFrame([[p,len(out_up[tumors[0]][p]),n_do,n_mu,li1[0],li1[1],li1[2]]],columns = header)\n",
    "    out_df = pd.concat([out_df,new_line])"
   ]
  },
  {
   "cell_type": "code",
   "execution_count": 462,
   "metadata": {},
   "outputs": [
    {
     "data": {
      "text/html": [
       "<div>\n",
       "<style scoped>\n",
       "    .dataframe tbody tr th:only-of-type {\n",
       "        vertical-align: middle;\n",
       "    }\n",
       "\n",
       "    .dataframe tbody tr th {\n",
       "        vertical-align: top;\n",
       "    }\n",
       "\n",
       "    .dataframe thead th {\n",
       "        text-align: right;\n",
       "    }\n",
       "</style>\n",
       "<table border=\"1\" class=\"dataframe\">\n",
       "  <thead>\n",
       "    <tr style=\"text-align: right;\">\n",
       "      <th></th>\n",
       "      <th>Pathway</th>\n",
       "      <th>number of up-regulated genes enriched this pathway</th>\n",
       "      <th>number of down-regulated genes enriched this pathway</th>\n",
       "      <th>number of mutated genes (MG)</th>\n",
       "      <th>MG enriched pathway 1 (number of MG covered)</th>\n",
       "      <th>MG enriched pathway 2 (number of MG covered)</th>\n",
       "      <th>MG enriched pathway 3(number of MG covered)</th>\n",
       "    </tr>\n",
       "  </thead>\n",
       "  <tbody>\n",
       "    <tr>\n",
       "      <th>0</th>\n",
       "      <td>GO_BONE_DEVELOPMENT</td>\n",
       "      <td>56</td>\n",
       "      <td>0</td>\n",
       "      <td>37</td>\n",
       "      <td>GO_ANIMAL_ORGAN_MORPHOGENESIS(30)</td>\n",
       "      <td>GO_SKELETAL_SYSTEM_MORPHOGENESIS(19)</td>\n",
       "      <td>GO_BONE_MORPHOGENESIS(19)</td>\n",
       "    </tr>\n",
       "    <tr>\n",
       "      <th>0</th>\n",
       "      <td>GO_CARDIAC_MUSCLE_TISSUE_DEVELOPMENT</td>\n",
       "      <td>39</td>\n",
       "      <td>49</td>\n",
       "      <td>31</td>\n",
       "      <td>GO_ANIMAL_ORGAN_MORPHOGENESIS(21)</td>\n",
       "      <td>GO_TISSUE_MORPHOGENESIS(19)</td>\n",
       "      <td>GO_ANATOMICAL_STRUCTURE_FORMATION_INVOLVED_IN_...</td>\n",
       "    </tr>\n",
       "    <tr>\n",
       "      <th>0</th>\n",
       "      <td>GO_CHONDROCYTE_DEVELOPMENT</td>\n",
       "      <td>14</td>\n",
       "      <td>0</td>\n",
       "      <td>14</td>\n",
       "      <td>GO_ANIMAL_ORGAN_MORPHOGENESIS(11)</td>\n",
       "      <td>GO_SKELETAL_SYSTEM_MORPHOGENESIS(11)</td>\n",
       "      <td>GO_ENDOCHONDRAL_BONE_MORPHOGENESIS(10)</td>\n",
       "    </tr>\n",
       "    <tr>\n",
       "      <th>0</th>\n",
       "      <td>GO_EAR_DEVELOPMENT</td>\n",
       "      <td>56</td>\n",
       "      <td>0</td>\n",
       "      <td>37</td>\n",
       "      <td>GO_ANIMAL_ORGAN_MORPHOGENESIS(35)</td>\n",
       "      <td>GO_EMBRYONIC_MORPHOGENESIS(30)</td>\n",
       "      <td>GO_EMBRYONIC_ORGAN_MORPHOGENESIS(28)</td>\n",
       "    </tr>\n",
       "    <tr>\n",
       "      <th>0</th>\n",
       "      <td>GO_FOREBRAIN_DEVELOPMENT</td>\n",
       "      <td>90</td>\n",
       "      <td>76</td>\n",
       "      <td>63</td>\n",
       "      <td>GO_CELL_PROJECTION_ORGANIZATION(28)</td>\n",
       "      <td>GO_REGULATION_OF_CELL_POPULATION_PROLIFERATION...</td>\n",
       "      <td>GO_CELLULAR_COMPONENT_MORPHOGENESIS(24)</td>\n",
       "    </tr>\n",
       "    <tr>\n",
       "      <th>0</th>\n",
       "      <td>GO_GLIAL_CELL_DEVELOPMENT</td>\n",
       "      <td>29</td>\n",
       "      <td>21</td>\n",
       "      <td>19</td>\n",
       "      <td>GO_POSITIVE_REGULATION_OF_SIGNALING(10)</td>\n",
       "      <td>GO_CELL_CELL_SIGNALING(9)</td>\n",
       "      <td>GO_TUBE_MORPHOGENESIS(8)</td>\n",
       "    </tr>\n",
       "    <tr>\n",
       "      <th>0</th>\n",
       "      <td>GO_HINDBRAIN_DEVELOPMENT</td>\n",
       "      <td>44</td>\n",
       "      <td>0</td>\n",
       "      <td>16</td>\n",
       "      <td>GO_CELL_PROJECTION_ORGANIZATION(8)</td>\n",
       "      <td>GO_CELLULAR_COMPONENT_MORPHOGENESIS(8)</td>\n",
       "      <td>GO_ANATOMICAL_STRUCTURE_FORMATION_INVOLVED_IN_...</td>\n",
       "    </tr>\n",
       "    <tr>\n",
       "      <th>0</th>\n",
       "      <td>GO_MAMMARY_GLAND_DEVELOPMENT</td>\n",
       "      <td>36</td>\n",
       "      <td>0</td>\n",
       "      <td>26</td>\n",
       "      <td>GO_REGULATION_OF_CELL_POPULATION_PROLIFERATION...</td>\n",
       "      <td>GO_EPITHELIAL_CELL_PROLIFERATION(14)</td>\n",
       "      <td>GO_TUBE_MORPHOGENESIS(14)</td>\n",
       "    </tr>\n",
       "    <tr>\n",
       "      <th>0</th>\n",
       "      <td>GO_MESONEPHROS_DEVELOPMENT</td>\n",
       "      <td>23</td>\n",
       "      <td>0</td>\n",
       "      <td>13</td>\n",
       "      <td>GO_ANIMAL_ORGAN_MORPHOGENESIS(11)</td>\n",
       "      <td>GO_EPITHELIAL_TUBE_MORPHOGENESIS(11)</td>\n",
       "      <td>GO_MORPHOGENESIS_OF_AN_EPITHELIUM(11)</td>\n",
       "    </tr>\n",
       "    <tr>\n",
       "      <th>0</th>\n",
       "      <td>GO_METANEPHROS_DEVELOPMENT</td>\n",
       "      <td>16</td>\n",
       "      <td>0</td>\n",
       "      <td>16</td>\n",
       "      <td>GO_ANIMAL_ORGAN_MORPHOGENESIS(15)</td>\n",
       "      <td>GO_TUBE_MORPHOGENESIS(14)</td>\n",
       "      <td>GO_NEPHRON_MORPHOGENESIS(10)</td>\n",
       "    </tr>\n",
       "    <tr>\n",
       "      <th>0</th>\n",
       "      <td>GO_METENCEPHALON_DEVELOPMENT</td>\n",
       "      <td>34</td>\n",
       "      <td>0</td>\n",
       "      <td>13</td>\n",
       "      <td>GO_CELLULAR_COMPONENT_MORPHOGENESIS(7)</td>\n",
       "      <td>GO_HINDBRAIN_MORPHOGENESIS(7)</td>\n",
       "      <td>GO_ANATOMICAL_STRUCTURE_FORMATION_INVOLVED_IN_...</td>\n",
       "    </tr>\n",
       "    <tr>\n",
       "      <th>0</th>\n",
       "      <td>GO_NEPHRON_DEVELOPMENT</td>\n",
       "      <td>35</td>\n",
       "      <td>27</td>\n",
       "      <td>27</td>\n",
       "      <td>GO_TUBE_MORPHOGENESIS(22)</td>\n",
       "      <td>GO_ANIMAL_ORGAN_MORPHOGENESIS(22)</td>\n",
       "      <td>GO_ANATOMICAL_STRUCTURE_FORMATION_INVOLVED_IN_...</td>\n",
       "    </tr>\n",
       "    <tr>\n",
       "      <th>0</th>\n",
       "      <td>GO_NEURON_DEVELOPMENT</td>\n",
       "      <td>300</td>\n",
       "      <td>208</td>\n",
       "      <td>226</td>\n",
       "      <td>GO_CELL_PROJECTION_ORGANIZATION(209)</td>\n",
       "      <td>GO_CELLULAR_COMPONENT_MORPHOGENESIS(154)</td>\n",
       "      <td>GO_CELL_PART_MORPHOGENESIS(142)</td>\n",
       "    </tr>\n",
       "    <tr>\n",
       "      <th>0</th>\n",
       "      <td>GO_REPRODUCTION</td>\n",
       "      <td>360</td>\n",
       "      <td>222</td>\n",
       "      <td>317</td>\n",
       "      <td>GO_CHROMOSOME_ORGANIZATION(89)</td>\n",
       "      <td>GO_REGULATION_OF_CELL_POPULATION_PROLIFERATION...</td>\n",
       "      <td>GO_POSITIVE_REGULATION_OF_SIGNALING(62)</td>\n",
       "    </tr>\n",
       "    <tr>\n",
       "      <th>0</th>\n",
       "      <td>GO_CHONDROCYTE_DIFFERENTIATION</td>\n",
       "      <td>26</td>\n",
       "      <td>0</td>\n",
       "      <td>0</td>\n",
       "      <td></td>\n",
       "      <td></td>\n",
       "      <td></td>\n",
       "    </tr>\n",
       "    <tr>\n",
       "      <th>0</th>\n",
       "      <td>GO_GLIAL_CELL_DIFFERENTIATION</td>\n",
       "      <td>57</td>\n",
       "      <td>40</td>\n",
       "      <td>54</td>\n",
       "      <td>GO_POSITIVE_REGULATION_OF_SIGNALING(31)</td>\n",
       "      <td>GO_CELL_CELL_SIGNALING(24)</td>\n",
       "      <td>GO_REGULATION_OF_CELL_POPULATION_PROLIFERATION...</td>\n",
       "    </tr>\n",
       "    <tr>\n",
       "      <th>0</th>\n",
       "      <td>GO_NEURON_DIFFERENTIATION</td>\n",
       "      <td>381</td>\n",
       "      <td>256</td>\n",
       "      <td>241</td>\n",
       "      <td>GO_CELL_PROJECTION_ORGANIZATION(192)</td>\n",
       "      <td>GO_CELLULAR_COMPONENT_MORPHOGENESIS(145)</td>\n",
       "      <td>GO_CELL_PART_MORPHOGENESIS(129)</td>\n",
       "    </tr>\n",
       "    <tr>\n",
       "      <th>0</th>\n",
       "      <td>GO_OSTEOBLAST_DIFFERENTIATION</td>\n",
       "      <td>42</td>\n",
       "      <td>0</td>\n",
       "      <td>35</td>\n",
       "      <td>GO_REGULATION_OF_CELL_POPULATION_PROLIFERATION...</td>\n",
       "      <td>GO_POSITIVE_REGULATION_OF_SIGNALING(16)</td>\n",
       "      <td>GO_BIOLOGICAL_ADHESION(14)</td>\n",
       "    </tr>\n",
       "  </tbody>\n",
       "</table>\n",
       "</div>"
      ],
      "text/plain": [
       "                                Pathway  \\\n",
       "0                   GO_BONE_DEVELOPMENT   \n",
       "0  GO_CARDIAC_MUSCLE_TISSUE_DEVELOPMENT   \n",
       "0            GO_CHONDROCYTE_DEVELOPMENT   \n",
       "0                    GO_EAR_DEVELOPMENT   \n",
       "0              GO_FOREBRAIN_DEVELOPMENT   \n",
       "0             GO_GLIAL_CELL_DEVELOPMENT   \n",
       "0              GO_HINDBRAIN_DEVELOPMENT   \n",
       "0          GO_MAMMARY_GLAND_DEVELOPMENT   \n",
       "0            GO_MESONEPHROS_DEVELOPMENT   \n",
       "0            GO_METANEPHROS_DEVELOPMENT   \n",
       "0          GO_METENCEPHALON_DEVELOPMENT   \n",
       "0                GO_NEPHRON_DEVELOPMENT   \n",
       "0                 GO_NEURON_DEVELOPMENT   \n",
       "0                       GO_REPRODUCTION   \n",
       "0        GO_CHONDROCYTE_DIFFERENTIATION   \n",
       "0         GO_GLIAL_CELL_DIFFERENTIATION   \n",
       "0             GO_NEURON_DIFFERENTIATION   \n",
       "0         GO_OSTEOBLAST_DIFFERENTIATION   \n",
       "\n",
       "  number of up-regulated genes enriched this pathway  \\\n",
       "0                                                 56   \n",
       "0                                                 39   \n",
       "0                                                 14   \n",
       "0                                                 56   \n",
       "0                                                 90   \n",
       "0                                                 29   \n",
       "0                                                 44   \n",
       "0                                                 36   \n",
       "0                                                 23   \n",
       "0                                                 16   \n",
       "0                                                 34   \n",
       "0                                                 35   \n",
       "0                                                300   \n",
       "0                                                360   \n",
       "0                                                 26   \n",
       "0                                                 57   \n",
       "0                                                381   \n",
       "0                                                 42   \n",
       "\n",
       "  number of down-regulated genes enriched this pathway  \\\n",
       "0                                                  0     \n",
       "0                                                 49     \n",
       "0                                                  0     \n",
       "0                                                  0     \n",
       "0                                                 76     \n",
       "0                                                 21     \n",
       "0                                                  0     \n",
       "0                                                  0     \n",
       "0                                                  0     \n",
       "0                                                  0     \n",
       "0                                                  0     \n",
       "0                                                 27     \n",
       "0                                                208     \n",
       "0                                                222     \n",
       "0                                                  0     \n",
       "0                                                 40     \n",
       "0                                                256     \n",
       "0                                                  0     \n",
       "\n",
       "  number of mutated genes (MG)  \\\n",
       "0                           37   \n",
       "0                           31   \n",
       "0                           14   \n",
       "0                           37   \n",
       "0                           63   \n",
       "0                           19   \n",
       "0                           16   \n",
       "0                           26   \n",
       "0                           13   \n",
       "0                           16   \n",
       "0                           13   \n",
       "0                           27   \n",
       "0                          226   \n",
       "0                          317   \n",
       "0                            0   \n",
       "0                           54   \n",
       "0                          241   \n",
       "0                           35   \n",
       "\n",
       "        MG enriched pathway 1 (number of MG covered)  \\\n",
       "0                  GO_ANIMAL_ORGAN_MORPHOGENESIS(30)   \n",
       "0                  GO_ANIMAL_ORGAN_MORPHOGENESIS(21)   \n",
       "0                  GO_ANIMAL_ORGAN_MORPHOGENESIS(11)   \n",
       "0                  GO_ANIMAL_ORGAN_MORPHOGENESIS(35)   \n",
       "0                GO_CELL_PROJECTION_ORGANIZATION(28)   \n",
       "0            GO_POSITIVE_REGULATION_OF_SIGNALING(10)   \n",
       "0                 GO_CELL_PROJECTION_ORGANIZATION(8)   \n",
       "0  GO_REGULATION_OF_CELL_POPULATION_PROLIFERATION...   \n",
       "0                  GO_ANIMAL_ORGAN_MORPHOGENESIS(11)   \n",
       "0                  GO_ANIMAL_ORGAN_MORPHOGENESIS(15)   \n",
       "0             GO_CELLULAR_COMPONENT_MORPHOGENESIS(7)   \n",
       "0                          GO_TUBE_MORPHOGENESIS(22)   \n",
       "0               GO_CELL_PROJECTION_ORGANIZATION(209)   \n",
       "0                     GO_CHROMOSOME_ORGANIZATION(89)   \n",
       "0                                                      \n",
       "0            GO_POSITIVE_REGULATION_OF_SIGNALING(31)   \n",
       "0               GO_CELL_PROJECTION_ORGANIZATION(192)   \n",
       "0  GO_REGULATION_OF_CELL_POPULATION_PROLIFERATION...   \n",
       "\n",
       "        MG enriched pathway 2 (number of MG covered)  \\\n",
       "0               GO_SKELETAL_SYSTEM_MORPHOGENESIS(19)   \n",
       "0                        GO_TISSUE_MORPHOGENESIS(19)   \n",
       "0               GO_SKELETAL_SYSTEM_MORPHOGENESIS(11)   \n",
       "0                     GO_EMBRYONIC_MORPHOGENESIS(30)   \n",
       "0  GO_REGULATION_OF_CELL_POPULATION_PROLIFERATION...   \n",
       "0                          GO_CELL_CELL_SIGNALING(9)   \n",
       "0             GO_CELLULAR_COMPONENT_MORPHOGENESIS(8)   \n",
       "0               GO_EPITHELIAL_CELL_PROLIFERATION(14)   \n",
       "0               GO_EPITHELIAL_TUBE_MORPHOGENESIS(11)   \n",
       "0                          GO_TUBE_MORPHOGENESIS(14)   \n",
       "0                      GO_HINDBRAIN_MORPHOGENESIS(7)   \n",
       "0                  GO_ANIMAL_ORGAN_MORPHOGENESIS(22)   \n",
       "0           GO_CELLULAR_COMPONENT_MORPHOGENESIS(154)   \n",
       "0  GO_REGULATION_OF_CELL_POPULATION_PROLIFERATION...   \n",
       "0                                                      \n",
       "0                         GO_CELL_CELL_SIGNALING(24)   \n",
       "0           GO_CELLULAR_COMPONENT_MORPHOGENESIS(145)   \n",
       "0            GO_POSITIVE_REGULATION_OF_SIGNALING(16)   \n",
       "\n",
       "         MG enriched pathway 3(number of MG covered)  \n",
       "0                          GO_BONE_MORPHOGENESIS(19)  \n",
       "0  GO_ANATOMICAL_STRUCTURE_FORMATION_INVOLVED_IN_...  \n",
       "0             GO_ENDOCHONDRAL_BONE_MORPHOGENESIS(10)  \n",
       "0               GO_EMBRYONIC_ORGAN_MORPHOGENESIS(28)  \n",
       "0            GO_CELLULAR_COMPONENT_MORPHOGENESIS(24)  \n",
       "0                           GO_TUBE_MORPHOGENESIS(8)  \n",
       "0  GO_ANATOMICAL_STRUCTURE_FORMATION_INVOLVED_IN_...  \n",
       "0                          GO_TUBE_MORPHOGENESIS(14)  \n",
       "0              GO_MORPHOGENESIS_OF_AN_EPITHELIUM(11)  \n",
       "0                       GO_NEPHRON_MORPHOGENESIS(10)  \n",
       "0  GO_ANATOMICAL_STRUCTURE_FORMATION_INVOLVED_IN_...  \n",
       "0  GO_ANATOMICAL_STRUCTURE_FORMATION_INVOLVED_IN_...  \n",
       "0                    GO_CELL_PART_MORPHOGENESIS(142)  \n",
       "0            GO_POSITIVE_REGULATION_OF_SIGNALING(62)  \n",
       "0                                                     \n",
       "0  GO_REGULATION_OF_CELL_POPULATION_PROLIFERATION...  \n",
       "0                    GO_CELL_PART_MORPHOGENESIS(129)  \n",
       "0                         GO_BIOLOGICAL_ADHESION(14)  "
      ]
     },
     "execution_count": 462,
     "metadata": {},
     "output_type": "execute_result"
    }
   ],
   "source": [
    "out_df"
   ]
  },
  {
   "cell_type": "code",
   "execution_count": 453,
   "metadata": {},
   "outputs": [],
   "source": [
    "out_df.to_csv(\"brca_mutation_down_enrichment.csv\")"
   ]
  },
  {
   "cell_type": "code",
   "execution_count": 346,
   "metadata": {},
   "outputs": [],
   "source": [
    " out_df.to_csv(\"brca_overlap_mutated_genes_enriched.csv\") "
   ]
  },
  {
   "cell_type": "code",
   "execution_count": 28,
   "metadata": {},
   "outputs": [],
   "source": []
  },
  {
   "cell_type": "code",
   "execution_count": 29,
   "metadata": {},
   "outputs": [],
   "source": []
  },
  {
   "cell_type": "code",
   "execution_count": 264,
   "metadata": {},
   "outputs": [
    {
     "name": "stdout",
     "output_type": "stream",
     "text": [
      "112\n",
      "['GO_CELL_PROJECTION_ORGANIZATION' 'GO_CELLULAR_COMPONENT_MORPHOGENESIS'\n",
      " 'GO_CELL_PART_MORPHOGENESIS'\n",
      " 'GO_ANATOMICAL_STRUCTURE_FORMATION_INVOLVED_IN_MORPHOGENESIS'\n",
      " 'GO_ANIMAL_ORGAN_MORPHOGENESIS'] [76 69 56 43 42]\n"
     ]
    }
   ],
   "source": [
    "print()\n"
   ]
  },
  {
   "cell_type": "code",
   "execution_count": 238,
   "metadata": {},
   "outputs": [
    {
     "data": {
      "text/plain": [
       "83"
      ]
     },
     "execution_count": 238,
     "metadata": {},
     "output_type": "execute_result"
    }
   ],
   "source": [
    "len(set(d['GO_CELL_PROJECTION_ORGANIZATION']).union(d['GO_BIOLOGICAL_ADHESION']).intersection(test_genes))"
   ]
  },
  {
   "cell_type": "code",
   "execution_count": 125,
   "metadata": {},
   "outputs": [
    {
     "data": {
      "text/html": [
       "<div>\n",
       "<style scoped>\n",
       "    .dataframe tbody tr th:only-of-type {\n",
       "        vertical-align: middle;\n",
       "    }\n",
       "\n",
       "    .dataframe tbody tr th {\n",
       "        vertical-align: top;\n",
       "    }\n",
       "\n",
       "    .dataframe thead th {\n",
       "        text-align: right;\n",
       "    }\n",
       "</style>\n",
       "<table border=\"1\" class=\"dataframe\">\n",
       "  <thead>\n",
       "    <tr style=\"text-align: right;\">\n",
       "      <th></th>\n",
       "      <th>Gene_set</th>\n",
       "      <th>Term</th>\n",
       "      <th>Overlap</th>\n",
       "      <th>P-value</th>\n",
       "      <th>Adjusted P-value</th>\n",
       "      <th>Genes</th>\n",
       "    </tr>\n",
       "  </thead>\n",
       "  <tbody>\n",
       "    <tr>\n",
       "      <th>779</th>\n",
       "      <td>CUSTOM2250863249448</td>\n",
       "      <td>KEGG_FOCAL_ADHESION</td>\n",
       "      <td>17/199</td>\n",
       "      <td>2.393118e-15</td>\n",
       "      <td>5.702801e-12</td>\n",
       "      <td>PIK3R1;ITGA4;ACTN2;FN1;PTEN;ERBB2;PDGFRB;MYLK3...</td>\n",
       "    </tr>\n",
       "    <tr>\n",
       "      <th>808</th>\n",
       "      <td>CUSTOM2250863249448</td>\n",
       "      <td>KEGG_PATHWAYS_IN_CANCER</td>\n",
       "      <td>19/325</td>\n",
       "      <td>5.098606e-14</td>\n",
       "      <td>6.074989e-11</td>\n",
       "      <td>PIK3R1;PLCG1;FN1;PTEN;ERBB2;PDGFRB;CDH1;RET;PD...</td>\n",
       "    </tr>\n",
       "    <tr>\n",
       "      <th>1237</th>\n",
       "      <td>CUSTOM2250863249448</td>\n",
       "      <td>PID_A6B1_A6B4_INTEGRIN_PATHWAY</td>\n",
       "      <td>10/46</td>\n",
       "      <td>1.123466e-13</td>\n",
       "      <td>8.924065e-11</td>\n",
       "      <td>PIK3R1;CDH1;ERBB2;LAMA1;AKT1;ERBB3;LAMB1;PIK3C...</td>\n",
       "    </tr>\n",
       "    <tr>\n",
       "      <th>579</th>\n",
       "      <td>CUSTOM2250863249448</td>\n",
       "      <td>GRESHOCK_CANCER_COPY_NUMBER_UP</td>\n",
       "      <td>17/323</td>\n",
       "      <td>6.568969e-12</td>\n",
       "      <td>3.913463e-09</td>\n",
       "      <td>TSC1;ERCC3;PTEN;CDH1;ERBB2;PDGFRB;MAP2K4;PHOX2...</td>\n",
       "    </tr>\n",
       "    <tr>\n",
       "      <th>1559</th>\n",
       "      <td>CUSTOM2250863249448</td>\n",
       "      <td>REACTOME_FLT3_SIGNALING</td>\n",
       "      <td>15/265</td>\n",
       "      <td>4.509507e-11</td>\n",
       "      <td>2.149231e-08</td>\n",
       "      <td>PIK3R1;ACTN2;FN1;ERBB2;PDGFRB;RET;PDGFRA;ERBB3...</td>\n",
       "    </tr>\n",
       "    <tr>\n",
       "      <th>924</th>\n",
       "      <td>CUSTOM2250863249448</td>\n",
       "      <td>LEE_NEURAL_CREST_STEM_CELL_UP</td>\n",
       "      <td>12/147</td>\n",
       "      <td>6.492514e-11</td>\n",
       "      <td>2.247836e-08</td>\n",
       "      <td>NRP2;CDH1;ITGA4;ZEB2;PHOX2B;PDGFRA;ERBB3;LAMB1...</td>\n",
       "    </tr>\n",
       "    <tr>\n",
       "      <th>1513</th>\n",
       "      <td>CUSTOM2250863249448</td>\n",
       "      <td>REACTOME_DISEASES_OF_SIGNAL_TRANSDUCTION_BY_GR...</td>\n",
       "      <td>17/374</td>\n",
       "      <td>6.602958e-11</td>\n",
       "      <td>2.247836e-08</td>\n",
       "      <td>PIK3R1;PLCG1;FN1;PTEN;ERBB2;PDGFRB;PDGFRA;SMAD...</td>\n",
       "    </tr>\n",
       "    <tr>\n",
       "      <th>1330</th>\n",
       "      <td>CUSTOM2250863249448</td>\n",
       "      <td>PID_LYMPH_ANGIOGENESIS_PATHWAY</td>\n",
       "      <td>7/25</td>\n",
       "      <td>8.875315e-11</td>\n",
       "      <td>2.643734e-08</td>\n",
       "      <td>PIK3R1;ITGA4;FN1;MAP2K4;AKT1;PIK3CA;SHC1</td>\n",
       "    </tr>\n",
       "    <tr>\n",
       "      <th>1861</th>\n",
       "      <td>CUSTOM2250863249448</td>\n",
       "      <td>REACTOME_SIGNALING_BY_RECEPTOR_TYROSINE_KINASES</td>\n",
       "      <td>19/504</td>\n",
       "      <td>1.107479e-10</td>\n",
       "      <td>2.706815e-08</td>\n",
       "      <td>NRP2;PIK3R1;PLCG1;FN1;FLRT3;ERBB2;PDGFRB;PDGFR...</td>\n",
       "    </tr>\n",
       "    <tr>\n",
       "      <th>812</th>\n",
       "      <td>CUSTOM2250863249448</td>\n",
       "      <td>KEGG_PROSTATE_CANCER</td>\n",
       "      <td>10/89</td>\n",
       "      <td>1.135885e-10</td>\n",
       "      <td>2.706815e-08</td>\n",
       "      <td>PIK3R1;PTEN;ERBB2;PDGFRB;PDGFRA;AKT1;HSP90AB1;...</td>\n",
       "    </tr>\n",
       "    <tr>\n",
       "      <th>188</th>\n",
       "      <td>CUSTOM2250863249448</td>\n",
       "      <td>BIOCARTA_PTEN_PATHWAY</td>\n",
       "      <td>6/18</td>\n",
       "      <td>6.340381e-10</td>\n",
       "      <td>1.373557e-07</td>\n",
       "      <td>PIK3R1;PTEN;AKT1;ILK;PIK3CA;SHC1</td>\n",
       "    </tr>\n",
       "    <tr>\n",
       "      <th>1675</th>\n",
       "      <td>CUSTOM2250863249448</td>\n",
       "      <td>REACTOME_NEGATIVE_REGULATION_OF_THE_PI3K_AKT_N...</td>\n",
       "      <td>10/110</td>\n",
       "      <td>9.454179e-10</td>\n",
       "      <td>1.877442e-07</td>\n",
       "      <td>PIK3R1;PTEN;ERBB2;PDGFRB;PDGFRA;AKT1;ERBB3;PIK...</td>\n",
       "    </tr>\n",
       "    <tr>\n",
       "      <th>1677</th>\n",
       "      <td>CUSTOM2250863249448</td>\n",
       "      <td>REACTOME_NERVOUS_SYSTEM_DEVELOPMENT</td>\n",
       "      <td>19/580</td>\n",
       "      <td>1.165166e-09</td>\n",
       "      <td>2.135839e-07</td>\n",
       "      <td>PLXNA3;NRP2;PIK3R1;PLCG1;FLRT3;ERBB2;ZSWIM8;RE...</td>\n",
       "    </tr>\n",
       "    <tr>\n",
       "      <th>141</th>\n",
       "      <td>CUSTOM2250863249448</td>\n",
       "      <td>BIOCARTA_HER2_PATHWAY</td>\n",
       "      <td>6/23</td>\n",
       "      <td>3.366321e-09</td>\n",
       "      <td>5.729960e-07</td>\n",
       "      <td>PIK3R1;ERBB2;ERBB3;PIK3CA;EP300;SHC1</td>\n",
       "    </tr>\n",
       "    <tr>\n",
       "      <th>781</th>\n",
       "      <td>CUSTOM2250863249448</td>\n",
       "      <td>KEGG_GLIOMA</td>\n",
       "      <td>8/65</td>\n",
       "      <td>4.249829e-09</td>\n",
       "      <td>6.535174e-07</td>\n",
       "      <td>PIK3R1;PTEN;PLCG1;PDGFRB;PDGFRA;AKT1;PIK3CA;SHC1</td>\n",
       "    </tr>\n",
       "    <tr>\n",
       "      <th>1351</th>\n",
       "      <td>CUSTOM2250863249448</td>\n",
       "      <td>PID_PDGFRB_PATHWAY</td>\n",
       "      <td>10/129</td>\n",
       "      <td>4.517722e-09</td>\n",
       "      <td>6.535174e-07</td>\n",
       "      <td>PLCG1;PIK3R1;PTEN;MAP2K4;PDGFRB;NCKAP1;MYOCD;P...</td>\n",
       "    </tr>\n",
       "    <tr>\n",
       "      <th>813</th>\n",
       "      <td>CUSTOM2250863249448</td>\n",
       "      <td>KEGG_REGULATION_OF_ACTIN_CYTOSKELETON</td>\n",
       "      <td>12/213</td>\n",
       "      <td>4.662104e-09</td>\n",
       "      <td>6.535174e-07</td>\n",
       "      <td>PIK3R1;ITGA4;ACTN2;FN1;MYLK3;PDGFRB;PDGFRA;NCK...</td>\n",
       "    </tr>\n",
       "    <tr>\n",
       "      <th>1510</th>\n",
       "      <td>CUSTOM2250863249448</td>\n",
       "      <td>REACTOME_DEVELOPMENTAL_BIOLOGY</td>\n",
       "      <td>25/1131</td>\n",
       "      <td>7.021950e-09</td>\n",
       "      <td>9.296281e-07</td>\n",
       "      <td>ZSWIM8;SMAD4;PIK3CA;L1CAM;EP300;ZNF335;ERBB2;P...</td>\n",
       "    </tr>\n",
       "    <tr>\n",
       "      <th>1826</th>\n",
       "      <td>CUSTOM2250863249448</td>\n",
       "      <td>REACTOME_SIGNALING_BY_ERBB2_IN_CANCER</td>\n",
       "      <td>6/26</td>\n",
       "      <td>7.568268e-09</td>\n",
       "      <td>9.492201e-07</td>\n",
       "      <td>PLCG1;PIK3R1;ERBB2;ERBB3;PIK3CA;SHC1</td>\n",
       "    </tr>\n",
       "    <tr>\n",
       "      <th>1715</th>\n",
       "      <td>CUSTOM2250863249448</td>\n",
       "      <td>REACTOME_PI3K_AKT_SIGNALING_IN_CANCER</td>\n",
       "      <td>9/102</td>\n",
       "      <td>8.831710e-09</td>\n",
       "      <td>1.052298e-06</td>\n",
       "      <td>PIK3R1;PTEN;ERBB2;PDGFRB;PDGFRA;AKT1;ERBB3;PIK...</td>\n",
       "    </tr>\n",
       "  </tbody>\n",
       "</table>\n",
       "</div>"
      ],
      "text/plain": [
       "                 Gene_set                                               Term  \\\n",
       "779   CUSTOM2250863249448                                KEGG_FOCAL_ADHESION   \n",
       "808   CUSTOM2250863249448                            KEGG_PATHWAYS_IN_CANCER   \n",
       "1237  CUSTOM2250863249448                     PID_A6B1_A6B4_INTEGRIN_PATHWAY   \n",
       "579   CUSTOM2250863249448                     GRESHOCK_CANCER_COPY_NUMBER_UP   \n",
       "1559  CUSTOM2250863249448                            REACTOME_FLT3_SIGNALING   \n",
       "924   CUSTOM2250863249448                      LEE_NEURAL_CREST_STEM_CELL_UP   \n",
       "1513  CUSTOM2250863249448  REACTOME_DISEASES_OF_SIGNAL_TRANSDUCTION_BY_GR...   \n",
       "1330  CUSTOM2250863249448                     PID_LYMPH_ANGIOGENESIS_PATHWAY   \n",
       "1861  CUSTOM2250863249448    REACTOME_SIGNALING_BY_RECEPTOR_TYROSINE_KINASES   \n",
       "812   CUSTOM2250863249448                               KEGG_PROSTATE_CANCER   \n",
       "188   CUSTOM2250863249448                              BIOCARTA_PTEN_PATHWAY   \n",
       "1675  CUSTOM2250863249448  REACTOME_NEGATIVE_REGULATION_OF_THE_PI3K_AKT_N...   \n",
       "1677  CUSTOM2250863249448                REACTOME_NERVOUS_SYSTEM_DEVELOPMENT   \n",
       "141   CUSTOM2250863249448                              BIOCARTA_HER2_PATHWAY   \n",
       "781   CUSTOM2250863249448                                        KEGG_GLIOMA   \n",
       "1351  CUSTOM2250863249448                                 PID_PDGFRB_PATHWAY   \n",
       "813   CUSTOM2250863249448              KEGG_REGULATION_OF_ACTIN_CYTOSKELETON   \n",
       "1510  CUSTOM2250863249448                     REACTOME_DEVELOPMENTAL_BIOLOGY   \n",
       "1826  CUSTOM2250863249448              REACTOME_SIGNALING_BY_ERBB2_IN_CANCER   \n",
       "1715  CUSTOM2250863249448              REACTOME_PI3K_AKT_SIGNALING_IN_CANCER   \n",
       "\n",
       "      Overlap       P-value  Adjusted P-value  \\\n",
       "779    17/199  2.393118e-15      5.702801e-12   \n",
       "808    19/325  5.098606e-14      6.074989e-11   \n",
       "1237    10/46  1.123466e-13      8.924065e-11   \n",
       "579    17/323  6.568969e-12      3.913463e-09   \n",
       "1559   15/265  4.509507e-11      2.149231e-08   \n",
       "924    12/147  6.492514e-11      2.247836e-08   \n",
       "1513   17/374  6.602958e-11      2.247836e-08   \n",
       "1330     7/25  8.875315e-11      2.643734e-08   \n",
       "1861   19/504  1.107479e-10      2.706815e-08   \n",
       "812     10/89  1.135885e-10      2.706815e-08   \n",
       "188      6/18  6.340381e-10      1.373557e-07   \n",
       "1675   10/110  9.454179e-10      1.877442e-07   \n",
       "1677   19/580  1.165166e-09      2.135839e-07   \n",
       "141      6/23  3.366321e-09      5.729960e-07   \n",
       "781      8/65  4.249829e-09      6.535174e-07   \n",
       "1351   10/129  4.517722e-09      6.535174e-07   \n",
       "813    12/213  4.662104e-09      6.535174e-07   \n",
       "1510  25/1131  7.021950e-09      9.296281e-07   \n",
       "1826     6/26  7.568268e-09      9.492201e-07   \n",
       "1715    9/102  8.831710e-09      1.052298e-06   \n",
       "\n",
       "                                                  Genes  \n",
       "779   PIK3R1;ITGA4;ACTN2;FN1;PTEN;ERBB2;PDGFRB;MYLK3...  \n",
       "808   PIK3R1;PLCG1;FN1;PTEN;ERBB2;PDGFRB;CDH1;RET;PD...  \n",
       "1237  PIK3R1;CDH1;ERBB2;LAMA1;AKT1;ERBB3;LAMB1;PIK3C...  \n",
       "579   TSC1;ERCC3;PTEN;CDH1;ERBB2;PDGFRB;MAP2K4;PHOX2...  \n",
       "1559  PIK3R1;ACTN2;FN1;ERBB2;PDGFRB;RET;PDGFRA;ERBB3...  \n",
       "924   NRP2;CDH1;ITGA4;ZEB2;PHOX2B;PDGFRA;ERBB3;LAMB1...  \n",
       "1513  PIK3R1;PLCG1;FN1;PTEN;ERBB2;PDGFRB;PDGFRA;SMAD...  \n",
       "1330           PIK3R1;ITGA4;FN1;MAP2K4;AKT1;PIK3CA;SHC1  \n",
       "1861  NRP2;PIK3R1;PLCG1;FN1;FLRT3;ERBB2;PDGFRB;PDGFR...  \n",
       "812   PIK3R1;PTEN;ERBB2;PDGFRB;PDGFRA;AKT1;HSP90AB1;...  \n",
       "188                    PIK3R1;PTEN;AKT1;ILK;PIK3CA;SHC1  \n",
       "1675  PIK3R1;PTEN;ERBB2;PDGFRB;PDGFRA;AKT1;ERBB3;PIK...  \n",
       "1677  PLXNA3;NRP2;PIK3R1;PLCG1;FLRT3;ERBB2;ZSWIM8;RE...  \n",
       "141                PIK3R1;ERBB2;ERBB3;PIK3CA;EP300;SHC1  \n",
       "781    PIK3R1;PTEN;PLCG1;PDGFRB;PDGFRA;AKT1;PIK3CA;SHC1  \n",
       "1351  PLCG1;PIK3R1;PTEN;MAP2K4;PDGFRB;NCKAP1;MYOCD;P...  \n",
       "813   PIK3R1;ITGA4;ACTN2;FN1;MYLK3;PDGFRB;PDGFRA;NCK...  \n",
       "1510  ZSWIM8;SMAD4;PIK3CA;L1CAM;EP300;ZNF335;ERBB2;P...  \n",
       "1826               PLCG1;PIK3R1;ERBB2;ERBB3;PIK3CA;SHC1  \n",
       "1715  PIK3R1;PTEN;ERBB2;PDGFRB;PDGFRA;AKT1;ERBB3;PIK...  "
      ]
     },
     "execution_count": 125,
     "metadata": {},
     "output_type": "execute_result"
    }
   ],
   "source": [
    "enr1.results.sort_values('P-value')[:20]"
   ]
  },
  {
   "cell_type": "code",
   "execution_count": 101,
   "metadata": {},
   "outputs": [],
   "source": []
  },
  {
   "cell_type": "code",
   "execution_count": 112,
   "metadata": {},
   "outputs": [
    {
     "data": {
      "text/plain": [
       "131"
      ]
     },
     "execution_count": 112,
     "metadata": {},
     "output_type": "execute_result"
    }
   ],
   "source": [
    "len(remaining)"
   ]
  },
  {
   "cell_type": "code",
   "execution_count": 184,
   "metadata": {},
   "outputs": [
    {
     "data": {
      "text/plain": [
       "36"
      ]
     },
     "execution_count": 184,
     "metadata": {},
     "output_type": "execute_result"
    }
   ],
   "source": [
    "len(remaining)"
   ]
  },
  {
   "cell_type": "code",
   "execution_count": 127,
   "metadata": {},
   "outputs": [
    {
     "data": {
      "text/plain": [
       "1114"
      ]
     },
     "execution_count": 127,
     "metadata": {},
     "output_type": "execute_result"
    }
   ],
   "source": [
    "len(go_d['GO_NEURON_DEVELOPMENT'])"
   ]
  },
  {
   "cell_type": "code",
   "execution_count": 68,
   "metadata": {},
   "outputs": [
    {
     "data": {
      "text/plain": [
       "array(['USP9X, SPTA1, AKT1, USP33, NCKAP1L, LAMC2, NKX2-1, SZT2, MAP1A, CNTNAP1, SPTBN2, BECN1'],\n",
       "      dtype=object)"
      ]
     },
     "execution_count": 68,
     "metadata": {},
     "output_type": "execute_result"
    }
   ],
   "source": [
    "df.loc[df['Pathway'] == \"GO_NEURON_DEVELOPMENT\"]['LeadingEdge'].values"
   ]
  },
  {
   "cell_type": "code",
   "execution_count": 139,
   "metadata": {},
   "outputs": [
    {
     "data": {
      "text/plain": [
       "520"
      ]
     },
     "execution_count": 139,
     "metadata": {},
     "output_type": "execute_result"
    }
   ],
   "source": [
    "len(set(go_d['GO_CYTOSKELETON_ORGANIZATION']).intersection(go_d['GO_CELL_PROJECTION_ORGANIZATION']))"
   ]
  },
  {
   "cell_type": "code",
   "execution_count": 141,
   "metadata": {},
   "outputs": [
    {
     "data": {
      "text/plain": [
       "1545"
      ]
     },
     "execution_count": 141,
     "metadata": {},
     "output_type": "execute_result"
    }
   ],
   "source": [
    "len(go_d['GO_CELL_PROJECTION_ORGANIZATION'])"
   ]
  },
  {
   "cell_type": "code",
   "execution_count": 188,
   "metadata": {},
   "outputs": [
    {
     "data": {
      "text/html": [
       "<div>\n",
       "<style scoped>\n",
       "    .dataframe tbody tr th:only-of-type {\n",
       "        vertical-align: middle;\n",
       "    }\n",
       "\n",
       "    .dataframe tbody tr th {\n",
       "        vertical-align: top;\n",
       "    }\n",
       "\n",
       "    .dataframe thead th {\n",
       "        text-align: right;\n",
       "    }\n",
       "</style>\n",
       "<table border=\"1\" class=\"dataframe\">\n",
       "  <thead>\n",
       "    <tr style=\"text-align: right;\">\n",
       "      <th></th>\n",
       "      <th>Gene_set</th>\n",
       "      <th>Term</th>\n",
       "      <th>Overlap</th>\n",
       "      <th>P-value</th>\n",
       "      <th>Adjusted P-value</th>\n",
       "      <th>Genes</th>\n",
       "      <th>NumOverlap</th>\n",
       "    </tr>\n",
       "  </thead>\n",
       "  <tbody>\n",
       "    <tr>\n",
       "      <th>204</th>\n",
       "      <td>CUSTOM2250838206360</td>\n",
       "      <td>GO_BONE_DEVELOPMENT</td>\n",
       "      <td>4/219</td>\n",
       "      <td>4.045905e-02</td>\n",
       "      <td>9.414189e-02</td>\n",
       "      <td>TULP3;MEGF8;FGFR2;EP300</td>\n",
       "      <td>4</td>\n",
       "    </tr>\n",
       "    <tr>\n",
       "      <th>227</th>\n",
       "      <td>CUSTOM2250838206360</td>\n",
       "      <td>GO_B_CELL_DIFFERENTIATION</td>\n",
       "      <td>4/132</td>\n",
       "      <td>7.700950e-03</td>\n",
       "      <td>2.860353e-02</td>\n",
       "      <td>PIK3R1;ITGA4;VCAM1;EP300</td>\n",
       "      <td>4</td>\n",
       "    </tr>\n",
       "    <tr>\n",
       "      <th>274</th>\n",
       "      <td>CUSTOM2250838206360</td>\n",
       "      <td>GO_CARDIAC_MUSCLE_TISSUE_DEVELOPMENT</td>\n",
       "      <td>31/231</td>\n",
       "      <td>8.974192e-34</td>\n",
       "      <td>2.897168e-31</td>\n",
       "      <td>SMAD4;MYBPC3;TBX3;PTEN;ACTN2;PDGFRB;TTN;DSP;AL...</td>\n",
       "      <td>31</td>\n",
       "    </tr>\n",
       "    <tr>\n",
       "      <th>288</th>\n",
       "      <td>CUSTOM2250838206360</td>\n",
       "      <td>GO_CARDIOCYTE_DIFFERENTIATION</td>\n",
       "      <td>21/164</td>\n",
       "      <td>1.710877e-22</td>\n",
       "      <td>2.138044e-20</td>\n",
       "      <td>SMAD4;TBX3;ACTN2;PDGFRB;TTN;ALPK2;NEB;TSC1;MAP...</td>\n",
       "      <td>21</td>\n",
       "    </tr>\n",
       "    <tr>\n",
       "      <th>747</th>\n",
       "      <td>CUSTOM2250838206360</td>\n",
       "      <td>GO_EAR_DEVELOPMENT</td>\n",
       "      <td>10/220</td>\n",
       "      <td>7.003241e-07</td>\n",
       "      <td>1.121097e-05</td>\n",
       "      <td>CEP290;NR4A3;PDGFRB;PROX1;PHOX2B;GATA3;SLITRK6...</td>\n",
       "      <td>10</td>\n",
       "    </tr>\n",
       "    <tr>\n",
       "      <th>945</th>\n",
       "      <td>CUSTOM2250838206360</td>\n",
       "      <td>GO_FOREBRAIN_DEVELOPMENT</td>\n",
       "      <td>23/383</td>\n",
       "      <td>4.476441e-17</td>\n",
       "      <td>3.096738e-15</td>\n",
       "      <td>KIF5B;ZNF335;TBX3;PTEN;SLITRK5;FGFR2;LRP2;NRP2...</td>\n",
       "      <td>23</td>\n",
       "    </tr>\n",
       "    <tr>\n",
       "      <th>982</th>\n",
       "      <td>CUSTOM2250838206360</td>\n",
       "      <td>GO_GLIAL_CELL_DEVELOPMENT</td>\n",
       "      <td>6/116</td>\n",
       "      <td>6.351440e-05</td>\n",
       "      <td>6.030755e-04</td>\n",
       "      <td>PTEN;AKT1;ILK;LRP1;LAMB2;DICER1</td>\n",
       "      <td>6</td>\n",
       "    </tr>\n",
       "    <tr>\n",
       "      <th>983</th>\n",
       "      <td>CUSTOM2250838206360</td>\n",
       "      <td>GO_GLIAL_CELL_DIFFERENTIATION</td>\n",
       "      <td>10/217</td>\n",
       "      <td>6.176937e-07</td>\n",
       "      <td>9.970605e-06</td>\n",
       "      <td>PTEN;ERBB2;NLGN3;PHOX2B;AKT1;ERBB3;ILK;LRP1;LA...</td>\n",
       "      <td>10</td>\n",
       "    </tr>\n",
       "    <tr>\n",
       "      <th>1054</th>\n",
       "      <td>CUSTOM2250838206360</td>\n",
       "      <td>GO_HINDBRAIN_DEVELOPMENT</td>\n",
       "      <td>5/151</td>\n",
       "      <td>1.993491e-03</td>\n",
       "      <td>9.763317e-03</td>\n",
       "      <td>CEP290;PROX1;PHOX2B;HERC1;MYH10</td>\n",
       "      <td>5</td>\n",
       "    </tr>\n",
       "    <tr>\n",
       "      <th>1301</th>\n",
       "      <td>CUSTOM2250838206360</td>\n",
       "      <td>GO_LYMPHOCYTE_DIFFERENTIATION</td>\n",
       "      <td>8/354</td>\n",
       "      <td>1.171502e-03</td>\n",
       "      <td>6.558377e-03</td>\n",
       "      <td>PIK3R1;TSC1;ITGA4;ERBB2;GATA3;VCAM1;FBXO7;EP300</td>\n",
       "      <td>8</td>\n",
       "    </tr>\n",
       "    <tr>\n",
       "      <th>1332</th>\n",
       "      <td>CUSTOM2250838206360</td>\n",
       "      <td>GO_MAMMARY_GLAND_DEVELOPMENT</td>\n",
       "      <td>5/142</td>\n",
       "      <td>1.521950e-03</td>\n",
       "      <td>7.913984e-03</td>\n",
       "      <td>GATA3;AKT1;FGFR2;TBX3;ETV5</td>\n",
       "      <td>5</td>\n",
       "    </tr>\n",
       "    <tr>\n",
       "      <th>1384</th>\n",
       "      <td>CUSTOM2250838206360</td>\n",
       "      <td>GO_MESONEPHROS_DEVELOPMENT</td>\n",
       "      <td>6/101</td>\n",
       "      <td>2.913374e-05</td>\n",
       "      <td>3.083719e-04</td>\n",
       "      <td>RET;SMAD4;GATA3;SALL1;ILK;FGFR2</td>\n",
       "      <td>6</td>\n",
       "    </tr>\n",
       "    <tr>\n",
       "      <th>1399</th>\n",
       "      <td>CUSTOM2250838206360</td>\n",
       "      <td>GO_METANEPHROS_DEVELOPMENT</td>\n",
       "      <td>7/92</td>\n",
       "      <td>1.170266e-06</td>\n",
       "      <td>1.784886e-05</td>\n",
       "      <td>PDGFRB;RET;PDGFRA;SMAD4;GATA3;SALL1;LAMB2</td>\n",
       "      <td>7</td>\n",
       "    </tr>\n",
       "    <tr>\n",
       "      <th>1402</th>\n",
       "      <td>CUSTOM2250838206360</td>\n",
       "      <td>GO_METENCEPHALON_DEVELOPMENT</td>\n",
       "      <td>3/111</td>\n",
       "      <td>2.778869e-02</td>\n",
       "      <td>7.697209e-02</td>\n",
       "      <td>PROX1;HERC1;MYH10</td>\n",
       "      <td>3</td>\n",
       "    </tr>\n",
       "    <tr>\n",
       "      <th>1840</th>\n",
       "      <td>CUSTOM2250838206360</td>\n",
       "      <td>GO_NEPHRON_DEVELOPMENT</td>\n",
       "      <td>8/143</td>\n",
       "      <td>2.047581e-06</td>\n",
       "      <td>2.927059e-05</td>\n",
       "      <td>PDGFRB;RET;PDGFRA;SMAD4;GATA3;SALL1;ILK;LAMB2</td>\n",
       "      <td>8</td>\n",
       "    </tr>\n",
       "    <tr>\n",
       "      <th>1879</th>\n",
       "      <td>CUSTOM2250838206360</td>\n",
       "      <td>GO_NEURON_DEVELOPMENT</td>\n",
       "      <td>76/1114</td>\n",
       "      <td>6.537947e-67</td>\n",
       "      <td>8.442669e-64</td>\n",
       "      <td>CCDC66;FN1;SLC12A5;MAP1A;ZSWIM8;SMAD4;FMR1;FBX...</td>\n",
       "      <td>76</td>\n",
       "    </tr>\n",
       "    <tr>\n",
       "      <th>1880</th>\n",
       "      <td>CUSTOM2250838206360</td>\n",
       "      <td>GO_NEURON_DIFFERENTIATION</td>\n",
       "      <td>89/1365</td>\n",
       "      <td>8.449159e-81</td>\n",
       "      <td>3.273204e-77</td>\n",
       "      <td>MAP1A;KIF5B;CEP290;PHOX2B;PLXND1;HERC1;POU4F2;...</td>\n",
       "      <td>89</td>\n",
       "    </tr>\n",
       "    <tr>\n",
       "      <th>1961</th>\n",
       "      <td>CUSTOM2250838206360</td>\n",
       "      <td>GO_OLIGODENDROCYTE_DIFFERENTIATION</td>\n",
       "      <td>3/96</td>\n",
       "      <td>1.906100e-02</td>\n",
       "      <td>5.805212e-02</td>\n",
       "      <td>PTEN;NLGN3;ERBB2</td>\n",
       "      <td>3</td>\n",
       "    </tr>\n",
       "    <tr>\n",
       "      <th>1991</th>\n",
       "      <td>CUSTOM2250838206360</td>\n",
       "      <td>GO_OSTEOBLAST_DIFFERENTIATION</td>\n",
       "      <td>4/223</td>\n",
       "      <td>4.276286e-02</td>\n",
       "      <td>9.878552e-02</td>\n",
       "      <td>ILK;AKT1;HNRNPU;FGFR2</td>\n",
       "      <td>4</td>\n",
       "    </tr>\n",
       "    <tr>\n",
       "      <th>3300</th>\n",
       "      <td>CUSTOM2250838206360</td>\n",
       "      <td>GO_REPRODUCTION</td>\n",
       "      <td>19/1457</td>\n",
       "      <td>8.116792e-04</td>\n",
       "      <td>4.897890e-03</td>\n",
       "      <td>PTEN;ETV5;PDGFRB;ADNP;PDGFRA;SMAD4;ARID1A;AKT1...</td>\n",
       "      <td>19</td>\n",
       "    </tr>\n",
       "  </tbody>\n",
       "</table>\n",
       "</div>"
      ],
      "text/plain": [
       "                 Gene_set                                  Term  Overlap  \\\n",
       "204   CUSTOM2250838206360                   GO_BONE_DEVELOPMENT    4/219   \n",
       "227   CUSTOM2250838206360             GO_B_CELL_DIFFERENTIATION    4/132   \n",
       "274   CUSTOM2250838206360  GO_CARDIAC_MUSCLE_TISSUE_DEVELOPMENT   31/231   \n",
       "288   CUSTOM2250838206360         GO_CARDIOCYTE_DIFFERENTIATION   21/164   \n",
       "747   CUSTOM2250838206360                    GO_EAR_DEVELOPMENT   10/220   \n",
       "945   CUSTOM2250838206360              GO_FOREBRAIN_DEVELOPMENT   23/383   \n",
       "982   CUSTOM2250838206360             GO_GLIAL_CELL_DEVELOPMENT    6/116   \n",
       "983   CUSTOM2250838206360         GO_GLIAL_CELL_DIFFERENTIATION   10/217   \n",
       "1054  CUSTOM2250838206360              GO_HINDBRAIN_DEVELOPMENT    5/151   \n",
       "1301  CUSTOM2250838206360         GO_LYMPHOCYTE_DIFFERENTIATION    8/354   \n",
       "1332  CUSTOM2250838206360          GO_MAMMARY_GLAND_DEVELOPMENT    5/142   \n",
       "1384  CUSTOM2250838206360            GO_MESONEPHROS_DEVELOPMENT    6/101   \n",
       "1399  CUSTOM2250838206360            GO_METANEPHROS_DEVELOPMENT     7/92   \n",
       "1402  CUSTOM2250838206360          GO_METENCEPHALON_DEVELOPMENT    3/111   \n",
       "1840  CUSTOM2250838206360                GO_NEPHRON_DEVELOPMENT    8/143   \n",
       "1879  CUSTOM2250838206360                 GO_NEURON_DEVELOPMENT  76/1114   \n",
       "1880  CUSTOM2250838206360             GO_NEURON_DIFFERENTIATION  89/1365   \n",
       "1961  CUSTOM2250838206360    GO_OLIGODENDROCYTE_DIFFERENTIATION     3/96   \n",
       "1991  CUSTOM2250838206360         GO_OSTEOBLAST_DIFFERENTIATION    4/223   \n",
       "3300  CUSTOM2250838206360                       GO_REPRODUCTION  19/1457   \n",
       "\n",
       "           P-value  Adjusted P-value  \\\n",
       "204   4.045905e-02      9.414189e-02   \n",
       "227   7.700950e-03      2.860353e-02   \n",
       "274   8.974192e-34      2.897168e-31   \n",
       "288   1.710877e-22      2.138044e-20   \n",
       "747   7.003241e-07      1.121097e-05   \n",
       "945   4.476441e-17      3.096738e-15   \n",
       "982   6.351440e-05      6.030755e-04   \n",
       "983   6.176937e-07      9.970605e-06   \n",
       "1054  1.993491e-03      9.763317e-03   \n",
       "1301  1.171502e-03      6.558377e-03   \n",
       "1332  1.521950e-03      7.913984e-03   \n",
       "1384  2.913374e-05      3.083719e-04   \n",
       "1399  1.170266e-06      1.784886e-05   \n",
       "1402  2.778869e-02      7.697209e-02   \n",
       "1840  2.047581e-06      2.927059e-05   \n",
       "1879  6.537947e-67      8.442669e-64   \n",
       "1880  8.449159e-81      3.273204e-77   \n",
       "1961  1.906100e-02      5.805212e-02   \n",
       "1991  4.276286e-02      9.878552e-02   \n",
       "3300  8.116792e-04      4.897890e-03   \n",
       "\n",
       "                                                  Genes  NumOverlap  \n",
       "204                             TULP3;MEGF8;FGFR2;EP300           4  \n",
       "227                            PIK3R1;ITGA4;VCAM1;EP300           4  \n",
       "274   SMAD4;MYBPC3;TBX3;PTEN;ACTN2;PDGFRB;TTN;DSP;AL...          31  \n",
       "288   SMAD4;TBX3;ACTN2;PDGFRB;TTN;ALPK2;NEB;TSC1;MAP...          21  \n",
       "747   CEP290;NR4A3;PDGFRB;PROX1;PHOX2B;GATA3;SLITRK6...          10  \n",
       "945   KIF5B;ZNF335;TBX3;PTEN;SLITRK5;FGFR2;LRP2;NRP2...          23  \n",
       "982                     PTEN;AKT1;ILK;LRP1;LAMB2;DICER1           6  \n",
       "983   PTEN;ERBB2;NLGN3;PHOX2B;AKT1;ERBB3;ILK;LRP1;LA...          10  \n",
       "1054                    CEP290;PROX1;PHOX2B;HERC1;MYH10           5  \n",
       "1301    PIK3R1;TSC1;ITGA4;ERBB2;GATA3;VCAM1;FBXO7;EP300           8  \n",
       "1332                         GATA3;AKT1;FGFR2;TBX3;ETV5           5  \n",
       "1384                    RET;SMAD4;GATA3;SALL1;ILK;FGFR2           6  \n",
       "1399          PDGFRB;RET;PDGFRA;SMAD4;GATA3;SALL1;LAMB2           7  \n",
       "1402                                  PROX1;HERC1;MYH10           3  \n",
       "1840      PDGFRB;RET;PDGFRA;SMAD4;GATA3;SALL1;ILK;LAMB2           8  \n",
       "1879  CCDC66;FN1;SLC12A5;MAP1A;ZSWIM8;SMAD4;FMR1;FBX...          76  \n",
       "1880  MAP1A;KIF5B;CEP290;PHOX2B;PLXND1;HERC1;POU4F2;...          89  \n",
       "1961                                   PTEN;NLGN3;ERBB2           3  \n",
       "1991                              ILK;AKT1;HNRNPU;FGFR2           4  \n",
       "3300  PTEN;ETV5;PDGFRB;ADNP;PDGFRA;SMAD4;ARID1A;AKT1...          19  "
      ]
     },
     "execution_count": 188,
     "metadata": {},
     "output_type": "execute_result"
    }
   ],
   "source": [
    "d_t = enr2.results\n",
    "d_t.loc[d_t['Term'].isin(PATHWAYS)]"
   ]
  },
  {
   "cell_type": "code",
   "execution_count": null,
   "metadata": {},
   "outputs": [],
   "source": []
  }
 ],
 "metadata": {
  "kernelspec": {
   "display_name": "Python 3",
   "language": "python",
   "name": "python3"
  },
  "language_info": {
   "codemirror_mode": {
    "name": "ipython",
    "version": 3
   },
   "file_extension": ".py",
   "mimetype": "text/x-python",
   "name": "python",
   "nbconvert_exporter": "python",
   "pygments_lexer": "ipython3",
   "version": "3.6.7"
  }
 },
 "nbformat": 4,
 "nbformat_minor": 2
}
