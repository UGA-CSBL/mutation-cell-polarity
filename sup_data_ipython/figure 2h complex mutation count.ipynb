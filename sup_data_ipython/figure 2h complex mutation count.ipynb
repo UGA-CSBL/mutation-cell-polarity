{
 "cells": [
  {
   "cell_type": "code",
   "execution_count": 1,
   "metadata": {},
   "outputs": [],
   "source": [
    "import pandas as pd\n",
    "import numpy as np"
   ]
  },
  {
   "cell_type": "code",
   "execution_count": 4,
   "metadata": {},
   "outputs": [],
   "source": [
    "df = pd.read_csv(\"2h_complex_genes.csv\")"
   ]
  },
  {
   "cell_type": "code",
   "execution_count": 6,
   "metadata": {},
   "outputs": [
    {
     "data": {
      "text/plain": [
       "Index(['BRCA', 'COAD', 'HNSC', 'KIRC', 'KIRP', 'LIHC', 'LUAD', 'STAD', 'THCA'], dtype='object')"
      ]
     },
     "execution_count": 6,
     "metadata": {},
     "output_type": "execute_result"
    }
   ],
   "source": [
    "df.columns[2:]"
   ]
  },
  {
   "cell_type": "code",
   "execution_count": 8,
   "metadata": {},
   "outputs": [
    {
     "data": {
      "text/plain": [
       "0        PARD3\n",
       "1       PARD3B\n",
       "2       PARD6B\n",
       "3        PRKCI\n",
       "4        PRKCZ\n",
       "5         CRB1\n",
       "6         CRB2\n",
       "7         CRB3\n",
       "8         MPP5\n",
       "9        LIN7A\n",
       "10       SCRIB\n",
       "11       MARK2\n",
       "12       LLGL1\n",
       "13       LLGL2\n",
       "14        DLG1\n",
       "15        DLG2\n",
       "16        DLG3\n",
       "17      VANGL1\n",
       "18      VANGL2\n",
       "19    PRICKLE1\n",
       "20    PRICKLE2\n",
       "21      CELSR1\n",
       "22      CELSR2\n",
       "23      CELSR3\n",
       "24      ANKRD6\n",
       "25        FZD2\n",
       "26        FZD3\n",
       "27        FZD6\n",
       "Name: Gene, dtype: object"
      ]
     },
     "execution_count": 8,
     "metadata": {},
     "output_type": "execute_result"
    }
   ],
   "source": [
    "df['Gene']"
   ]
  },
  {
   "cell_type": "code",
   "execution_count": 9,
   "metadata": {},
   "outputs": [],
   "source": [
    "df_mu = pd.read_csv(\"../new_version_0725/microindels-1.csv\")"
   ]
  },
  {
   "cell_type": "code",
   "execution_count": 17,
   "metadata": {},
   "outputs": [],
   "source": [
    "df.index = df['Gene']"
   ]
  },
  {
   "cell_type": "code",
   "execution_count": 18,
   "metadata": {},
   "outputs": [],
   "source": [
    "for g in df['Gene']:\n",
    "    for cancer in df.columns[2:]:\n",
    "        num =df_mu.loc[df_mu['Project'] == \"TCGA-\" + cancer].loc[df_mu['Symbol'] == g]['MutationNum'].sum()\n",
    "        df.loc[g,cancer] = num"
   ]
  },
  {
   "cell_type": "code",
   "execution_count": 20,
   "metadata": {},
   "outputs": [],
   "source": [
    "df.to_csv(\"figure-1h.csv\")"
   ]
  },
  {
   "cell_type": "code",
   "execution_count": null,
   "metadata": {},
   "outputs": [],
   "source": []
  }
 ],
 "metadata": {
  "kernelspec": {
   "display_name": "Python 3",
   "language": "python",
   "name": "python3"
  },
  "language_info": {
   "codemirror_mode": {
    "name": "ipython",
    "version": 3
   },
   "file_extension": ".py",
   "mimetype": "text/x-python",
   "name": "python",
   "nbconvert_exporter": "python",
   "pygments_lexer": "ipython3",
   "version": "3.6.7"
  }
 },
 "nbformat": 4,
 "nbformat_minor": 2
}
