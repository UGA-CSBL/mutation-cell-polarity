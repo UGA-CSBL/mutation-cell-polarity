{
 "cells": [
  {
   "cell_type": "code",
   "execution_count": 1,
   "metadata": {},
   "outputs": [],
   "source": [
    "import pandas as pd\n",
    "import math\n",
    "from scipy.special import comb\n",
    "import numpy as np\n",
    "import scipy.stats as stats"
   ]
  },
  {
   "cell_type": "code",
   "execution_count": 2,
   "metadata": {},
   "outputs": [],
   "source": [
    "df = pd.read_csv(\"microindels-1.csv\")"
   ]
  },
  {
   "cell_type": "code",
   "execution_count": 3,
   "metadata": {},
   "outputs": [],
   "source": [
    "tumor = set(df['Project'])"
   ]
  },
  {
   "cell_type": "code",
   "execution_count": 4,
   "metadata": {},
   "outputs": [
    {
     "data": {
      "text/plain": [
       "{'TCGA-BRCA',\n",
       " 'TCGA-COAD',\n",
       " 'TCGA-HNSC',\n",
       " 'TCGA-KIRC',\n",
       " 'TCGA-KIRP',\n",
       " 'TCGA-LIHC',\n",
       " 'TCGA-LUAD',\n",
       " 'TCGA-STAD',\n",
       " 'TCGA-THCA'}"
      ]
     },
     "execution_count": 4,
     "metadata": {},
     "output_type": "execute_result"
    }
   ],
   "source": [
    "tumor"
   ]
  },
  {
   "cell_type": "code",
   "execution_count": 8,
   "metadata": {},
   "outputs": [
    {
     "name": "stdout",
     "output_type": "stream",
     "text": [
      "TCGA-KIRC\n",
      "total # of mutated genes 10545\n",
      "TCGA-HNSC\n",
      "total # of mutated genes 16104\n",
      "TCGA-LIHC\n",
      "total # of mutated genes 14248\n",
      "TCGA-STAD\n",
      "total # of mutated genes 18085\n",
      "TCGA-LUAD\n",
      "total # of mutated genes 17875\n",
      "TCGA-COAD\n",
      "total # of mutated genes 19115\n",
      "TCGA-THCA\n",
      "total # of mutated genes 5630\n",
      "TCGA-BRCA\n",
      "total # of mutated genes 17795\n",
      "TCGA-KIRP\n",
      "total # of mutated genes 9437\n"
     ]
    }
   ],
   "source": [
    "from  statsmodels.stats.multitest import fdrcorrection\n",
    "import os\n",
    "\n",
    "test = []\n",
    "for project in tumor:\n",
    "    print(project)\n",
    "    sub_df = df.loc[df['Project'] == project]\n",
    "    sum_L = sum(sub_df['GeneLength'])\n",
    "    sum_m = sum(set(sub_df['SampeNum'].values))\n",
    "    print(\"total # of mutated genes\",len(set(sub_df['Symbol'])))\n",
    "    sum_N = sum(sub_df['MutationNum'])\n",
    "    \n",
    "    w = sum_N/3e9\n",
    "    \n",
    "    sub_genes = list(set(sub_df['Symbol'].values))\n",
    "    cols_out = list(sub_df.columns.values) + ['pval']\n",
    "    df_out = pd.DataFrame(columns = cols_out)\n",
    "    \n",
    "    for g in sub_genes:\n",
    "        \n",
    "        X = sum(sub_df.loc[sub_df[\"Symbol\"] == g]['MutationNum'])\n",
    "        L = sub_df.loc[sub_df[\"Symbol\"] == g]['GeneLength'].values[0]\n",
    "        \n",
    "        #m = sum(sub_df.loc[sub_df[\"Symbol\"] == g]['SampleNum'])\n",
    "        mean = L*w\n",
    "        sigma = L*w*(1-w)\n",
    "        \n",
    "        pvalue = 1-stats.norm.cdf(X, mean, sigma)\n",
    "        if pvalue > 0.01:\n",
    "            test.append(g)\n",
    "        newline = pd.DataFrame([[project,None,sum_m,g,X,L,pvalue]],columns = cols_out)\n",
    "        df_out = pd.concat([df_out,newline])\n",
    "\n",
    "    \n",
    "    df_out['adjpval'] = fdrcorrection(df_out['pval'])[1]\n",
    "    #df_out = df_out.loc[df_out['adjpval'] < 1e-3]\n",
    "    \n",
    "    df_out.to_csv(\"combined-stage-0724/all/\" + project + \".csv\")\n",
    "    "
   ]
  },
  {
   "cell_type": "code",
   "execution_count": 5,
   "metadata": {},
   "outputs": [],
   "source": [
    "import pandas as pd\n",
    "import math\n",
    "from scipy.special import comb\n",
    "import numpy as np\n",
    "import scipy.stats as stats"
   ]
  },
  {
   "cell_type": "code",
   "execution_count": 6,
   "metadata": {
    "scrolled": true
   },
   "outputs": [
    {
     "name": "stdout",
     "output_type": "stream",
     "text": [
      "TCGA-BRCA.csv 8534\n",
      "TCGA-COAD.csv 8956\n",
      "TCGA-HNSC.csv 7689\n",
      "TCGA-KIRC.csv 6339\n",
      "TCGA-KIRP.csv 6073\n",
      "TCGA-LIHC.csv 7439\n",
      "TCGA-LUAD.csv 7645\n",
      "TCGA-STAD.csv 8510\n",
      "TCGA-THCA.csv 4180\n"
     ]
    }
   ],
   "source": [
    "import os\n",
    "true = []\n",
    "df_dict = {}\n",
    "for root,dirs,files in os.walk(\"combined-stage-0724/all/\"):\n",
    "    for file in files:\n",
    "        s_d = pd.read_csv(\"combined-stage-0724/all/\" + file)\n",
    "        s_d = s_d.loc[s_d['adjpval']<1e-3]\n",
    "        df_dict[file.split(\".\")[0]] = s_d\n",
    "        print(file,len(set(s_d['Symbol'])))\n",
    "        true.append(set(s_d['Symbol']))"
   ]
  },
  {
   "cell_type": "code",
   "execution_count": 7,
   "metadata": {},
   "outputs": [],
   "source": [
    "idx,top_10_li = [],[]\n",
    "for key in df_dict.keys():\n",
    "    now_df = df_dict[key]\n",
    "    idx.append(key.split(\"-\")[1])\n",
    "    top_10_li.append(list(now_df.loc[now_df['adjpval'] == 0].sort_values(\"MutationNum\",ascending=False).head(10)['Symbol']))"
   ]
  },
  {
   "cell_type": "code",
   "execution_count": 19,
   "metadata": {},
   "outputs": [],
   "source": [
    "pd.DataFrame(top_10_li,index = idx).to_csv(\"top_10_genes.csv\")"
   ]
  },
  {
   "cell_type": "code",
   "execution_count": 12,
   "metadata": {},
   "outputs": [],
   "source": [
    "all_genes = set()\n",
    "for item in top_10_li:\n",
    "    for i in item:\n",
    "        all_genes.add(i)"
   ]
  },
  {
   "cell_type": "code",
   "execution_count": 14,
   "metadata": {},
   "outputs": [
    {
     "data": {
      "text/plain": [
       "{'AHNAK2',\n",
       " 'ALB',\n",
       " 'APC',\n",
       " 'APOB',\n",
       " 'ARID1A',\n",
       " 'ATM',\n",
       " 'BAP1',\n",
       " 'BRAF',\n",
       " 'CCDC168',\n",
       " 'CDH1',\n",
       " 'CDKN2A',\n",
       " 'COL11A1',\n",
       " 'CTNNB1',\n",
       " 'DNAH5',\n",
       " 'FAT1',\n",
       " 'FAT4',\n",
       " 'FLG',\n",
       " 'FUT9',\n",
       " 'GATA3',\n",
       " 'HRAS',\n",
       " 'INTS2',\n",
       " 'KDM5C',\n",
       " 'KIAA1109',\n",
       " 'KMT2C',\n",
       " 'KMT2D',\n",
       " 'KRAS',\n",
       " 'LRP2',\n",
       " 'MACF1',\n",
       " 'MALAT1',\n",
       " 'MAP3K1',\n",
       " 'MET',\n",
       " 'MTOR',\n",
       " 'MUC16',\n",
       " 'MUC17',\n",
       " 'NOTCH1',\n",
       " 'NRAS',\n",
       " 'OBSCN',\n",
       " 'PBRM1',\n",
       " 'PIK3CA',\n",
       " 'SETD2',\n",
       " 'SPTA1',\n",
       " 'TG',\n",
       " 'TP53',\n",
       " 'TTN',\n",
       " 'VHL',\n",
       " 'XIRP2',\n",
       " 'ZFHX4'}"
      ]
     },
     "execution_count": 14,
     "metadata": {},
     "output_type": "execute_result"
    }
   ],
   "source": [
    "all_genes"
   ]
  },
  {
   "cell_type": "code",
   "execution_count": null,
   "metadata": {},
   "outputs": [],
   "source": []
  }
 ],
 "metadata": {
  "kernelspec": {
   "display_name": "Python 3",
   "language": "python",
   "name": "python3"
  },
  "language_info": {
   "codemirror_mode": {
    "name": "ipython",
    "version": 3
   },
   "file_extension": ".py",
   "mimetype": "text/x-python",
   "name": "python",
   "nbconvert_exporter": "python",
   "pygments_lexer": "ipython3",
   "version": "3.6.7"
  }
 },
 "nbformat": 4,
 "nbformat_minor": 2
}
