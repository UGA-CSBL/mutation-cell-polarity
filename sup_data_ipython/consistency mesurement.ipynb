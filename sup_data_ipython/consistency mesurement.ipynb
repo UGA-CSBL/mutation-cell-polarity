{
 "cells": [
  {
   "cell_type": "code",
   "execution_count": 1,
   "metadata": {},
   "outputs": [],
   "source": [
    "import pandas as pd\n",
    "import random\n",
    "import ast\n",
    "import matplotlib.pyplot as plt\n",
    "import numpy as np\n",
    "from PIL import Image"
   ]
  },
  {
   "cell_type": "code",
   "execution_count": 4,
   "metadata": {},
   "outputs": [],
   "source": [
    "df = pd.read_csv(\"../TCGA_mutations/TCGA_annotation.csv\")"
   ]
  },
  {
   "cell_type": "code",
   "execution_count": 5,
   "metadata": {},
   "outputs": [],
   "source": [
    "tumor = list(set(df['Project']))\n",
    "tumorStage = list(set(df['TumorStage']))\n"
   ]
  },
  {
   "cell_type": "code",
   "execution_count": 6,
   "metadata": {},
   "outputs": [],
   "source": [
    "d = {}\n",
    "for t in tumor:\n",
    "    barcode = df.loc[df['Project'] == t]['Barcode']\n",
    "    d[t] =list (set([\"-\".join(i.split(\"-\")[:4]) for i in barcode]))"
   ]
  },
  {
   "cell_type": "code",
   "execution_count": 7,
   "metadata": {},
   "outputs": [],
   "source": [
    "df_data = pd.read_csv(\"microindel_list.csv\")"
   ]
  },
  {
   "cell_type": "code",
   "execution_count": 10,
   "metadata": {},
   "outputs": [
    {
     "data": {
      "text/plain": [
       "(720827, 6)"
      ]
     },
     "execution_count": 10,
     "metadata": {},
     "output_type": "execute_result"
    }
   ],
   "source": [
    "df_data.shape"
   ]
  },
  {
   "cell_type": "code",
   "execution_count": 8,
   "metadata": {},
   "outputs": [],
   "source": [
    "idx = list(d.keys())\n",
    "idx.sort()"
   ]
  },
  {
   "cell_type": "code",
   "execution_count": 9,
   "metadata": {},
   "outputs": [
    {
     "data": {
      "text/plain": [
       "['TCGA-BRCA',\n",
       " 'TCGA-COAD',\n",
       " 'TCGA-HNSC',\n",
       " 'TCGA-KIRC',\n",
       " 'TCGA-KIRP',\n",
       " 'TCGA-LIHC',\n",
       " 'TCGA-LUAD',\n",
       " 'TCGA-READ',\n",
       " 'TCGA-STAD',\n",
       " 'TCGA-THCA']"
      ]
     },
     "execution_count": 9,
     "metadata": {},
     "output_type": "execute_result"
    }
   ],
   "source": [
    "idx"
   ]
  },
  {
   "cell_type": "code",
   "execution_count": 8,
   "metadata": {},
   "outputs": [],
   "source": [
    "# out = []\n",
    "# for seed in range(100):\n",
    "#     print(seed)\n",
    "#     random.seed(seed)\n",
    "#     s = d['TCGA-THCA']\n",
    "#     random.shuffle(s)\n",
    "#     s1, s2 = s[:int(len(s)/2)],s[int(len(s)/2):]\n",
    "#     data1 = df_data.loc[df_data['SampleID'].isin(s1)]\n",
    "#     data2 = df_data.loc[df_data['SampleID'].isin(s2)]\n",
    "#     for g in set(data1['Symbol']):\n",
    "#         num = data1.loc[data1['Symbol'] == g].shape[0]\n",
    "#         out.append([seed,'A',g,num])\n",
    "#     for g in set(data2['Symbol']):\n",
    "#         num = data2.loc[data2['Symbol'] == g].shape[0]\n",
    "#         out.append([seed,'B',g,num])"
   ]
  },
  {
   "cell_type": "code",
   "execution_count": 11,
   "metadata": {},
   "outputs": [
    {
     "name": "stdout",
     "output_type": "stream",
     "text": [
      "TCGA-BRCA\n",
      "TCGA-COAD\n",
      "TCGA-HNSC\n",
      "TCGA-KIRC\n",
      "TCGA-KIRP\n",
      "TCGA-LIHC\n",
      "TCGA-LUAD\n",
      "TCGA-READ\n",
      "TCGA-STAD\n",
      "TCGA-THCA\n"
     ]
    }
   ],
   "source": [
    "out_txt = \"\"\n",
    "for cancer in idx:\n",
    "    print(cancer)\n",
    "    out = []\n",
    "    for seed in range(100):\n",
    "        #print(seed)\n",
    "        random.seed(seed)\n",
    "        s = d[cancer]\n",
    "        random.shuffle(s)\n",
    "        s1, s2 = s[:int(len(s)/2)],s[int(len(s)/2):]\n",
    "        out_txt += cancer + \" Round \" + str(seed) + \" Group A:\"\n",
    "        for c in s1:\n",
    "            out_txt += c + \",\"\n",
    "        out_txt += \"\\n\" + cancer +  \" Round \" + str(seed) + \" Group B :\"\n",
    "        for c in s2:\n",
    "            out_txt += c + \",\"\n",
    "        out_txt += \"\\n\"\n",
    "\n",
    "\n",
    "f = open(\"out_barcode.txt\",\"w+\")\n",
    "f.write(out_txt)\n",
    "f.close()"
   ]
  },
  {
   "cell_type": "code",
   "execution_count": 12,
   "metadata": {},
   "outputs": [
    {
     "name": "stdout",
     "output_type": "stream",
     "text": [
      "TCGA-STAD\n",
      "18123\n",
      "TCGA-READ\n",
      "0\n",
      "TCGA-THCA\n",
      "5641\n",
      "TCGA-KIRP\n",
      "9448\n",
      "TCGA-LUAD\n",
      "17913\n",
      "TCGA-COAD\n",
      "19158\n",
      "TCGA-HNSC\n",
      "16135\n",
      "TCGA-BRCA\n",
      "17833\n",
      "TCGA-KIRC\n",
      "10566\n",
      "TCGA-LIHC\n",
      "14273\n"
     ]
    }
   ],
   "source": [
    "for cancer in d.keys():\n",
    "    print(cancer)\n",
    "    out = []\n",
    "    s = d[cancer]\n",
    "\n",
    "    data = df_data.loc[df_data['SampleID'].isin(s)]\n",
    "    brca_sym = list(set(data['Symbol']))\n",
    "    print(len(brca_sym))"
   ]
  },
  {
   "cell_type": "code",
   "execution_count": 13,
   "metadata": {},
   "outputs": [
    {
     "name": "stdout",
     "output_type": "stream",
     "text": [
      "TCGA-STAD\n",
      "TCGA-THCA\n",
      "TCGA-KIRP\n",
      "TCGA-LUAD\n",
      "TCGA-COAD\n",
      "TCGA-HNSC\n",
      "TCGA-BRCA\n",
      "TCGA-KIRC\n",
      "TCGA-LIHC\n"
     ]
    }
   ],
   "source": [
    "d_out = {}\n",
    "for cancer in d.keys() - set([\"TCGA-READ\"]):\n",
    "    print(cancer)\n",
    "    out = []\n",
    "    for seed in range(100):\n",
    "        random.seed(seed)\n",
    "        s = d[cancer]\n",
    "        random.shuffle(s)\n",
    "        s1, s2 = s[:int(len(s)/2)],s[int(len(s)/2):]\n",
    "        data = df_data.loc[df_data['SampleID'].isin(s)]\n",
    "        brca_sym = list(set(data['Symbol']))\n",
    "        overlap = len(set(data.loc[data['SampleID'].isin(s1)]['Symbol'].values).intersection(data.loc[data['SampleID'].isin(s2)]['Symbol'].values))\n",
    "        out.append(overlap/len(brca_sym))\n",
    "    d_out[cancer] = out"
   ]
  },
  {
   "cell_type": "code",
   "execution_count": 14,
   "metadata": {},
   "outputs": [
    {
     "data": {
      "image/png": "[encoded data removed]",
      "text/plain": [
       "<Figure size 1440x1080 with 1 Axes>"
      ]
     },
     "metadata": {
      "needs_background": "light"
     },
     "output_type": "display_data"
    }
   ],
   "source": [
    "import collections\n",
    "od = collections.OrderedDict(sorted(d_out.items()))\n",
    "\n",
    "fig, ax = plt.subplots(figsize= (20,15))\n",
    "ax.boxplot(od.values())\n",
    "ax.set_xticklabels(od.keys())\n",
    "ax.set_ylim(0,1)\n",
    "from io import BytesIO\n",
    "png1 = BytesIO()\n",
    "fig.savefig(png1, format='png')\n",
    "#plt.savefig(\"pic3\",quality = 95)\n",
    "png2 = Image.open(png1)\n",
    "png2.save('boxplot_genes.tiff')\n",
    "png1.close()\n"
   ]
  },
  {
   "cell_type": "code",
   "execution_count": 16,
   "metadata": {},
   "outputs": [],
   "source": [
    "f = open(\"gene_consistency_level.txt\",\"r\")\n",
    "raw = f.read()\n",
    "f.close()"
   ]
  },
  {
   "cell_type": "code",
   "execution_count": 17,
   "metadata": {},
   "outputs": [],
   "source": [
    "d_out = ast.literal_eval(raw)"
   ]
  },
  {
   "cell_type": "code",
   "execution_count": 17,
   "metadata": {},
   "outputs": [],
   "source": [
    "df_1 = pd.read_csv(\"pathway_consistency(1).csv\")"
   ]
  },
  {
   "cell_type": "code",
   "execution_count": 18,
   "metadata": {},
   "outputs": [
    {
     "data": {
      "text/html": [
       "<div>\n",
       "<style scoped>\n",
       "    .dataframe tbody tr th:only-of-type {\n",
       "        vertical-align: middle;\n",
       "    }\n",
       "\n",
       "    .dataframe tbody tr th {\n",
       "        vertical-align: top;\n",
       "    }\n",
       "\n",
       "    .dataframe thead th {\n",
       "        text-align: right;\n",
       "    }\n",
       "</style>\n",
       "<table border=\"1\" class=\"dataframe\">\n",
       "  <thead>\n",
       "    <tr style=\"text-align: right;\">\n",
       "      <th></th>\n",
       "      <th>Project</th>\n",
       "      <th>Iteration</th>\n",
       "      <th>ConsistentRate</th>\n",
       "    </tr>\n",
       "  </thead>\n",
       "  <tbody>\n",
       "    <tr>\n",
       "      <th>0</th>\n",
       "      <td>TCGA-BRCA</td>\n",
       "      <td>0</td>\n",
       "      <td>0.651527</td>\n",
       "    </tr>\n",
       "    <tr>\n",
       "      <th>1</th>\n",
       "      <td>TCGA-BRCA</td>\n",
       "      <td>1</td>\n",
       "      <td>0.652889</td>\n",
       "    </tr>\n",
       "    <tr>\n",
       "      <th>2</th>\n",
       "      <td>TCGA-BRCA</td>\n",
       "      <td>2</td>\n",
       "      <td>0.644403</td>\n",
       "    </tr>\n",
       "    <tr>\n",
       "      <th>3</th>\n",
       "      <td>TCGA-BRCA</td>\n",
       "      <td>3</td>\n",
       "      <td>0.622649</td>\n",
       "    </tr>\n",
       "    <tr>\n",
       "      <th>4</th>\n",
       "      <td>TCGA-BRCA</td>\n",
       "      <td>4</td>\n",
       "      <td>0.642406</td>\n",
       "    </tr>\n",
       "  </tbody>\n",
       "</table>\n",
       "</div>"
      ],
      "text/plain": [
       "     Project  Iteration  ConsistentRate\n",
       "0  TCGA-BRCA          0        0.651527\n",
       "1  TCGA-BRCA          1        0.652889\n",
       "2  TCGA-BRCA          2        0.644403\n",
       "3  TCGA-BRCA          3        0.622649\n",
       "4  TCGA-BRCA          4        0.642406"
      ]
     },
     "execution_count": 18,
     "metadata": {},
     "output_type": "execute_result"
    }
   ],
   "source": [
    "df_1.head()"
   ]
  },
  {
   "cell_type": "code",
   "execution_count": 25,
   "metadata": {},
   "outputs": [],
   "source": [
    "out_tmp = []\n",
    "for r in d_out:\n",
    "    newline = [r,np.mean(d_out[r]),np.mean(df_1.loc[df_1['Project']== r]['ConsistentRate'].values)]\n",
    "    out_tmp.append(newline)"
   ]
  },
  {
   "cell_type": "code",
   "execution_count": 27,
   "metadata": {},
   "outputs": [],
   "source": [
    "pd.DataFrame(out_tmp,columns = ['Project','GeneConsistency','PathwayConsistency']).to_csv(\"consistency_result1.csv\")"
   ]
  },
  {
   "cell_type": "code",
   "execution_count": 19,
   "metadata": {},
   "outputs": [
    {
     "name": "stdout",
     "output_type": "stream",
     "text": [
      "TCGA-KIRP\n"
     ]
    },
    {
     "data": {
      "image/png": "[encoded data removed]",
      "text/plain": [
       "<Figure size 432x288 with 1 Axes>"
      ]
     },
     "metadata": {
      "needs_background": "light"
     },
     "output_type": "display_data"
    },
    {
     "name": "stdout",
     "output_type": "stream",
     "text": [
      "TCGA-HNSC\n"
     ]
    },
    {
     "data": {
      "image/png": "[encoded data removed]",
      "text/plain": [
       "<Figure size 432x288 with 1 Axes>"
      ]
     },
     "metadata": {
      "needs_background": "light"
     },
     "output_type": "display_data"
    },
    {
     "name": "stdout",
     "output_type": "stream",
     "text": [
      "TCGA-KIRC\n"
     ]
    },
    {
     "data": {
      "image/png": "[encoded data removed]",
      "text/plain": [
       "<Figure size 432x288 with 1 Axes>"
      ]
     },
     "metadata": {
      "needs_background": "light"
     },
     "output_type": "display_data"
    },
    {
     "name": "stdout",
     "output_type": "stream",
     "text": [
      "TCGA-COAD\n"
     ]
    },
    {
     "data": {
      "image/png": "[encoded data removed]",
      "text/plain": [
       "<Figure size 432x288 with 1 Axes>"
      ]
     },
     "metadata": {
      "needs_background": "light"
     },
     "output_type": "display_data"
    },
    {
     "name": "stdout",
     "output_type": "stream",
     "text": [
      "TCGA-LUAD\n"
     ]
    },
    {
     "data": {
      "image/png": "[encoded data removed]",
      "text/plain": [
       "<Figure size 432x288 with 1 Axes>"
      ]
     },
     "metadata": {
      "needs_background": "light"
     },
     "output_type": "display_data"
    },
    {
     "name": "stdout",
     "output_type": "stream",
     "text": [
      "TCGA-STAD\n"
     ]
    },
    {
     "data": {
      "image/png": "[encoded data removed]",
      "text/plain": [
       "<Figure size 432x288 with 1 Axes>"
      ]
     },
     "metadata": {
      "needs_background": "light"
     },
     "output_type": "display_data"
    },
    {
     "name": "stdout",
     "output_type": "stream",
     "text": [
      "TCGA-THCA\n"
     ]
    },
    {
     "data": {
      "image/png": "[encoded data removed]",
      "text/plain": [
       "<Figure size 432x288 with 1 Axes>"
      ]
     },
     "metadata": {
      "needs_background": "light"
     },
     "output_type": "display_data"
    },
    {
     "name": "stdout",
     "output_type": "stream",
     "text": [
      "TCGA-LIHC\n"
     ]
    },
    {
     "data": {
      "image/png": "[encoded data removed]",
      "text/plain": [
       "<Figure size 432x288 with 1 Axes>"
      ]
     },
     "metadata": {
      "needs_background": "light"
     },
     "output_type": "display_data"
    },
    {
     "name": "stdout",
     "output_type": "stream",
     "text": [
      "TCGA-BRCA\n"
     ]
    },
    {
     "data": {
      "image/png": "[encoded data removed]",
      "text/plain": [
       "<Figure size 432x288 with 1 Axes>"
      ]
     },
     "metadata": {
      "needs_background": "light"
     },
     "output_type": "display_data"
    }
   ],
   "source": [
    "for r in d_out:\n",
    "    print(r)\n",
    "    p = [d_out[r],df_1.loc[df_1['Project']== r]['ConsistentRate'].values]\n",
    "    plt.boxplot(p)\n",
    "   # plt.boxplot( )\n",
    "    plt.show()"
   ]
  },
  {
   "cell_type": "code",
   "execution_count": 39,
   "metadata": {},
   "outputs": [],
   "source": [
    "l1,l2 = [],[]\n",
    "for g in brca_sym:\n",
    "    g1 = df_data.loc[df_data['SampleID'].isin(s1)].loc[df_data['Symbol'] == g].shape[0]\n",
    "    g2 = df_data.loc[df_data['SampleID'].isin(s2)].loc[df_data['Symbol'] == g].shape[0]\n",
    "    l1.append(g1)\n",
    "    l2.append(g2)"
   ]
  },
  {
   "cell_type": "code",
   "execution_count": 9,
   "metadata": {},
   "outputs": [],
   "source": [
    "seed,cancer = 99,\"TCGA-KIRP\"\n",
    "random.seed(seed)\n",
    "s = d[cancer]\n",
    "random.shuffle(s)\n",
    "s1, s2 = s[:int(len(s)/2)],s[int(len(s)/2):]\n",
    "data = df_data.loc[df_data['SampleID'].isin(s)]\n",
    "A = data.loc[data['SampleID'].isin(s1)]\n",
    "B = data.loc[data['SampleID'].isin(s2)]\n"
   ]
  },
  {
   "cell_type": "code",
   "execution_count": 18,
   "metadata": {},
   "outputs": [
    {
     "data": {
      "text/plain": [
       "12"
      ]
     },
     "execution_count": 18,
     "metadata": {},
     "output_type": "execute_result"
    }
   ],
   "source": [
    "A.loc[A['Symbol'] == \"MET\"].shape[0]"
   ]
  },
  {
   "cell_type": "code",
   "execution_count": 19,
   "metadata": {},
   "outputs": [
    {
     "data": {
      "text/plain": [
       "8"
      ]
     },
     "execution_count": 19,
     "metadata": {},
     "output_type": "execute_result"
    }
   ],
   "source": [
    "B.loc[B['Symbol'] == \"MET\"].shape[0]"
   ]
  },
  {
   "cell_type": "code",
   "execution_count": 20,
   "metadata": {},
   "outputs": [
    {
     "data": {
      "text/plain": [
       "1"
      ]
     },
     "execution_count": 20,
     "metadata": {},
     "output_type": "execute_result"
    }
   ],
   "source": [
    "A.loc[A['Symbol'] == \"TP53\"].shape[0]"
   ]
  },
  {
   "cell_type": "code",
   "execution_count": 21,
   "metadata": {},
   "outputs": [
    {
     "data": {
      "text/plain": [
       "3"
      ]
     },
     "execution_count": 21,
     "metadata": {},
     "output_type": "execute_result"
    }
   ],
   "source": [
    "B.loc[B['Symbol'] == \"TP53\"].shape[0]"
   ]
  },
  {
   "cell_type": "code",
   "execution_count": null,
   "metadata": {},
   "outputs": [],
   "source": []
  }
 ],
 "metadata": {
  "kernelspec": {
   "display_name": "Python 3",
   "language": "python",
   "name": "python3"
  },
  "language_info": {
   "codemirror_mode": {
    "name": "ipython",
    "version": 3
   },
   "file_extension": ".py",
   "mimetype": "text/x-python",
   "name": "python",
   "nbconvert_exporter": "python",
   "pygments_lexer": "ipython3",
   "version": "3.6.7"
  }
 },
 "nbformat": 4,
 "nbformat_minor": 2
}
